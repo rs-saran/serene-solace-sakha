{
 "cells": [
  {
   "cell_type": "code",
   "execution_count": 3,
   "metadata": {},
   "outputs": [
    {
     "ename": "ImportError",
     "evalue": "cannot import name 'FollowUpFlow' from 'src.chat_flows.follow_up_flow' (d:\\ExtraAcads\\DS & AI\\github\\serene-solace-sakha\\src\\chat_flows\\follow_up_flow.py)",
     "output_type": "error",
     "traceback": [
      "\u001b[1;31m---------------------------------------------------------------------------\u001b[0m",
      "\u001b[1;31mImportError\u001b[0m                               Traceback (most recent call last)",
      "Cell \u001b[1;32mIn[3], line 1\u001b[0m\n\u001b[1;32m----> 1\u001b[0m \u001b[39mfrom\u001b[39;00m\u001b[39m \u001b[39m\u001b[39msrc\u001b[39;00m\u001b[39m.\u001b[39;00m\u001b[39mconversation_graph\u001b[39;00m\u001b[39m \u001b[39m\u001b[39mimport\u001b[39;00m ConversationGraph, ConversationProcessor\n",
      "File \u001b[1;32md:\\ExtraAcads\\DS & AI\\github\\serene-solace-sakha\\src\\conversation_graph.py:8\u001b[0m\n\u001b[0;32m      6\u001b[0m \u001b[39m# Assuming these are defined elsewhere in your project\u001b[39;00m\n\u001b[0;32m      7\u001b[0m \u001b[39mfrom\u001b[39;00m\u001b[39m \u001b[39m\u001b[39msrc\u001b[39;00m\u001b[39m.\u001b[39;00m\u001b[39msupervisor\u001b[39;00m\u001b[39m \u001b[39m\u001b[39mimport\u001b[39;00m Supervisor\n\u001b[1;32m----> 8\u001b[0m \u001b[39mfrom\u001b[39;00m\u001b[39m \u001b[39m\u001b[39msrc\u001b[39;00m\u001b[39m.\u001b[39;00m\u001b[39mchat_engine\u001b[39;00m\u001b[39m \u001b[39m\u001b[39mimport\u001b[39;00m ChatEngine\n\u001b[0;32m      9\u001b[0m \u001b[39m# from src.reminder_manager import set_activity_reminder\u001b[39;00m\n\u001b[0;32m     10\u001b[0m \u001b[39mfrom\u001b[39;00m\u001b[39m \u001b[39m\u001b[39msrc\u001b[39;00m\u001b[39m.\u001b[39;00m\u001b[39mcrisis_handler\u001b[39;00m\u001b[39m \u001b[39m\u001b[39mimport\u001b[39;00m crisis_handler\n",
      "File \u001b[1;32md:\\ExtraAcads\\DS & AI\\github\\serene-solace-sakha\\src\\chat_engine.py:5\u001b[0m\n\u001b[0;32m      3\u001b[0m \u001b[39mfrom\u001b[39;00m\u001b[39m \u001b[39m\u001b[39msrc\u001b[39;00m\u001b[39m.\u001b[39;00m\u001b[39mutils\u001b[39;00m\u001b[39m \u001b[39m\u001b[39mimport\u001b[39;00m exchanges_pretty, get_current_time_ist, fetch_user_preferences, get_current_time_ist_30min_lag\n\u001b[0;32m      4\u001b[0m \u001b[39mfrom\u001b[39;00m\u001b[39m \u001b[39m\u001b[39msrc\u001b[39;00m\u001b[39m.\u001b[39;00m\u001b[39mresponse_templates\u001b[39;00m\u001b[39m.\u001b[39;00m\u001b[39mfrienn_template\u001b[39;00m\u001b[39m \u001b[39m\u001b[39mimport\u001b[39;00m FriennResponseForASFlow, FriennResponseForRemFlow, FriennResponseForFUFlow\n\u001b[1;32m----> 5\u001b[0m \u001b[39mfrom\u001b[39;00m\u001b[39m \u001b[39m\u001b[39msrc\u001b[39;00m\u001b[39m.\u001b[39;00m\u001b[39mchat_flows\u001b[39;00m\u001b[39m.\u001b[39;00m\u001b[39mchat_flow_manager\u001b[39;00m\u001b[39m \u001b[39m\u001b[39mimport\u001b[39;00m ChatFlowManager\n\u001b[0;32m      7\u001b[0m \u001b[39mclass\u001b[39;00m\u001b[39m \u001b[39m\u001b[39mChatEngine\u001b[39;00m:\n\u001b[0;32m      8\u001b[0m     \u001b[39mdef\u001b[39;00m\u001b[39m \u001b[39m\u001b[39m__init__\u001b[39m(\u001b[39mself\u001b[39m, llm):\n",
      "File \u001b[1;32md:\\ExtraAcads\\DS & AI\\github\\serene-solace-sakha\\src\\chat_flows\\chat_flow_manager.py:3\u001b[0m\n\u001b[0;32m      1\u001b[0m \u001b[39mfrom\u001b[39;00m\u001b[39m \u001b[39m\u001b[39msrc\u001b[39;00m\u001b[39m.\u001b[39;00m\u001b[39mchat_flows\u001b[39;00m\u001b[39m.\u001b[39;00m\u001b[39mactivity_suggestion_flow\u001b[39;00m\u001b[39m \u001b[39m\u001b[39mimport\u001b[39;00m ActivitySuggestionFlow\n\u001b[0;32m      2\u001b[0m \u001b[39mfrom\u001b[39;00m\u001b[39m \u001b[39m\u001b[39msrc\u001b[39;00m\u001b[39m.\u001b[39;00m\u001b[39mchat_flows\u001b[39;00m\u001b[39m.\u001b[39;00m\u001b[39mreminder_flow\u001b[39;00m\u001b[39m \u001b[39m\u001b[39mimport\u001b[39;00m ReminderFlow\n\u001b[1;32m----> 3\u001b[0m \u001b[39mfrom\u001b[39;00m\u001b[39m \u001b[39m\u001b[39msrc\u001b[39;00m\u001b[39m.\u001b[39;00m\u001b[39mchat_flows\u001b[39;00m\u001b[39m.\u001b[39;00m\u001b[39mfollow_up_flow\u001b[39;00m\u001b[39m \u001b[39m\u001b[39mimport\u001b[39;00m FollowUpFlow\n\u001b[0;32m      5\u001b[0m \u001b[39mclass\u001b[39;00m\u001b[39m \u001b[39m\u001b[39mChatFlowManager\u001b[39;00m:\n\u001b[0;32m      6\u001b[0m     \u001b[39mdef\u001b[39;00m\u001b[39m \u001b[39m\u001b[39m__init__\u001b[39m(\u001b[39mself\u001b[39m, llm):\n",
      "\u001b[1;31mImportError\u001b[0m: cannot import name 'FollowUpFlow' from 'src.chat_flows.follow_up_flow' (d:\\ExtraAcads\\DS & AI\\github\\serene-solace-sakha\\src\\chat_flows\\follow_up_flow.py)"
     ]
    }
   ],
   "source": [
    "from src.conversation_graph import ConversationGraph, ConversationProcessor"
   ]
  },
  {
   "cell_type": "code",
   "execution_count": null,
   "metadata": {},
   "outputs": [],
   "source": [
    "# Initialize the conversation graph and processor\n",
    "from src.utils import get_llm\n"
   ]
  },
  {
   "cell_type": "code",
   "execution_count": null,
   "metadata": {},
   "outputs": [],
   "source": [
    "# FriennResponse(replyToUser=\"isdkj\",reminder=)"
   ]
  },
  {
   "cell_type": "code",
   "execution_count": null,
   "metadata": {},
   "outputs": [],
   "source": [
    "llm_fo = get_llm()\n"
   ]
  },
  {
   "cell_type": "code",
   "execution_count": null,
   "metadata": {},
   "outputs": [
    {
     "ename": "NameError",
     "evalue": "name 'ActivitySuggestionFlow' is not defined",
     "output_type": "error",
     "traceback": [
      "\u001b[1;31m---------------------------------------------------------------------------\u001b[0m",
      "\u001b[1;31mNameError\u001b[0m                                 Traceback (most recent call last)",
      "Cell \u001b[1;32mIn[5], line 1\u001b[0m\n\u001b[1;32m----> 1\u001b[0m conversation_graph \u001b[39m=\u001b[39m ConversationGraph(llm\u001b[39m=\u001b[39;49mllm_fo)\u001b[39m.\u001b[39mcompile()\n\u001b[0;32m      2\u001b[0m processor \u001b[39m=\u001b[39m ConversationProcessor(conversation_graph)\n\u001b[0;32m      3\u001b[0m cs2 \u001b[39m=\u001b[39m conversation_graph\u001b[39m.\u001b[39mupdate_state(config\u001b[39m=\u001b[39m{\u001b[39m'\u001b[39m\u001b[39mconfigurable\u001b[39m\u001b[39m'\u001b[39m:{\u001b[39m'\u001b[39m\u001b[39mthread_id\u001b[39m\u001b[39m'\u001b[39m:\u001b[39m\"\u001b[39m\u001b[39m1\u001b[39m\u001b[39m\"\u001b[39m, \u001b[39m'\u001b[39m\u001b[39muser_id\u001b[39m\u001b[39m'\u001b[39m:\u001b[39m\"\u001b[39m\u001b[39mdev-user\u001b[39m\u001b[39m\"\u001b[39m}}, values \u001b[39m=\u001b[39m {\u001b[39m'\u001b[39m\u001b[39mpreferred_activities\u001b[39m\u001b[39m'\u001b[39m: [ \u001b[39m'\u001b[39m\u001b[39mwalking\u001b[39m\u001b[39m'\u001b[39m, \u001b[39m\"\u001b[39m\u001b[39mmusic\u001b[39m\u001b[39m\"\u001b[39m], \u001b[39m'\u001b[39m\u001b[39mflow\u001b[39m\u001b[39m'\u001b[39m:\u001b[39m'\u001b[39m\u001b[39mactivity_suggestion\u001b[39m\u001b[39m'\u001b[39m})\n",
      "File \u001b[1;32md:\\ExtraAcads\\DS & AI\\github\\serene-solace-sakha\\src\\conversation_graph.py:19\u001b[0m, in \u001b[0;36mConversationGraph.__init__\u001b[1;34m(self, llm)\u001b[0m\n\u001b[0;32m     17\u001b[0m \u001b[39mself\u001b[39m\u001b[39m.\u001b[39mllm \u001b[39m=\u001b[39m llm\n\u001b[0;32m     18\u001b[0m \u001b[39mself\u001b[39m\u001b[39m.\u001b[39mbuilder \u001b[39m=\u001b[39m StateGraph(ConversationState)\n\u001b[1;32m---> 19\u001b[0m \u001b[39mself\u001b[39;49m\u001b[39m.\u001b[39;49m_add_nodes()\n\u001b[0;32m     20\u001b[0m \u001b[39mself\u001b[39m\u001b[39m.\u001b[39m_add_edges()\n",
      "File \u001b[1;32md:\\ExtraAcads\\DS & AI\\github\\serene-solace-sakha\\src\\conversation_graph.py:27\u001b[0m, in \u001b[0;36mConversationGraph._add_nodes\u001b[1;34m(self)\u001b[0m\n\u001b[0;32m     25\u001b[0m \u001b[39m\u001b[39m\u001b[39m\"\"\"Add all nodes to the graph\"\"\"\u001b[39;00m\n\u001b[0;32m     26\u001b[0m \u001b[39mself\u001b[39m\u001b[39m.\u001b[39mbuilder\u001b[39m.\u001b[39madd_node(\u001b[39m\"\u001b[39m\u001b[39mSupervisor\u001b[39m\u001b[39m\"\u001b[39m, Supervisor(llm\u001b[39m=\u001b[39m\u001b[39mself\u001b[39m\u001b[39m.\u001b[39mllm)\u001b[39m.\u001b[39mget_supervisor_decision)\n\u001b[1;32m---> 27\u001b[0m \u001b[39mself\u001b[39m\u001b[39m.\u001b[39mbuilder\u001b[39m.\u001b[39madd_node(\u001b[39m\"\u001b[39m\u001b[39mFrienn\u001b[39m\u001b[39m\"\u001b[39m, ChatEngine(llm\u001b[39m=\u001b[39;49m\u001b[39mself\u001b[39;49m\u001b[39m.\u001b[39;49mllm)\u001b[39m.\u001b[39mchat)\n\u001b[0;32m     28\u001b[0m \u001b[39mself\u001b[39m\u001b[39m.\u001b[39mbuilder\u001b[39m.\u001b[39madd_node(\u001b[39m\"\u001b[39m\u001b[39mcrisisHandler\u001b[39m\u001b[39m\"\u001b[39m, crisis_handler)\n",
      "File \u001b[1;32md:\\ExtraAcads\\DS & AI\\github\\serene-solace-sakha\\src\\chat_engine.py:13\u001b[0m, in \u001b[0;36mChatEngine.__init__\u001b[1;34m(self, llm)\u001b[0m\n\u001b[0;32m     11\u001b[0m \u001b[39mself\u001b[39m\u001b[39m.\u001b[39mexchange \u001b[39m=\u001b[39m \u001b[39m0\u001b[39m\n\u001b[0;32m     12\u001b[0m \u001b[39mself\u001b[39m\u001b[39m.\u001b[39mflow \u001b[39m=\u001b[39m \u001b[39m\"\u001b[39m\u001b[39mactivity_suggestion\u001b[39m\u001b[39m\"\u001b[39m\n\u001b[1;32m---> 13\u001b[0m \u001b[39mself\u001b[39m\u001b[39m.\u001b[39mchat_flow_manager \u001b[39m=\u001b[39m ChatFlowManager(llm)\n",
      "File \u001b[1;32md:\\ExtraAcads\\DS & AI\\github\\serene-solace-sakha\\src\\chat_flows\\chat_flow_manager.py:5\u001b[0m, in \u001b[0;36mChatFlowManager.__init__\u001b[1;34m(self, llm)\u001b[0m\n\u001b[0;32m      2\u001b[0m \u001b[39mdef\u001b[39;00m\u001b[39m \u001b[39m\u001b[39m__init__\u001b[39m(\u001b[39mself\u001b[39m, llm):\n\u001b[0;32m      3\u001b[0m     \u001b[39mself\u001b[39m\u001b[39m.\u001b[39mllm \u001b[39m=\u001b[39m llm\n\u001b[0;32m      4\u001b[0m     \u001b[39mself\u001b[39m\u001b[39m.\u001b[39mflows \u001b[39m=\u001b[39m {\n\u001b[1;32m----> 5\u001b[0m         \u001b[39m\"\u001b[39m\u001b[39mactivity_suggestion\u001b[39m\u001b[39m\"\u001b[39m: ActivitySuggestionFlow(llm),\n\u001b[0;32m      6\u001b[0m         \u001b[39m\"\u001b[39m\u001b[39mreminder\u001b[39m\u001b[39m\"\u001b[39m: ReminderFlow(llm),\n\u001b[0;32m      7\u001b[0m         \u001b[39m\"\u001b[39m\u001b[39mfollow-up\u001b[39m\u001b[39m\"\u001b[39m: FollowUpFlow(llm)\n\u001b[0;32m      8\u001b[0m     }\n",
      "\u001b[1;31mNameError\u001b[0m: name 'ActivitySuggestionFlow' is not defined"
     ]
    }
   ],
   "source": [
    "conversation_graph = ConversationGraph(llm=llm_fo).compile()\n",
    "processor = ConversationProcessor(conversation_graph)\n",
    "cs2 = conversation_graph.update_state(config={'configurable':{'thread_id':\"1\", 'user_id':\"dev-user\"}}, values = {'preferred_activities': [ 'walking', \"music\"], 'flow':'activity_suggestion'})"
   ]
  },
  {
   "cell_type": "code",
   "execution_count": 14,
   "metadata": {},
   "outputs": [
    {
     "data": {
      "text/plain": [
       "StateSnapshot(values={'preferred_activities': ['walking', 'music'], 'flow': 'activity_suggestion'}, next=('Supervisor',), config={'configurable': {'thread_id': '1', 'checkpoint_ns': '', 'checkpoint_id': '1eff0ee0-d03b-6929-8000-a87961c621ea'}}, metadata={'thread_id': '1', 'user_id': 'dev-user', 'source': 'update', 'step': 0, 'writes': {'__start__': {'preferred_activities': ['walking', 'music'], 'flow': 'activity_suggestion'}}, 'parents': {}}, created_at='2025-02-22T07:24:28.300522+00:00', parent_config=None, tasks=(PregelTask(id='2f85412e-a62e-d46f-15ce-ff19df266716', name='Supervisor', path=('__pregel_pull', 'Supervisor'), error=None, interrupts=(), state=None, result=None),))"
      ]
     },
     "execution_count": 14,
     "metadata": {},
     "output_type": "execute_result"
    }
   ],
   "source": [
    "conversation_graph.get_state(config={'configurable':{'thread_id':\"1\", 'user_id':\"dev-user\"}})"
   ]
  },
  {
   "cell_type": "code",
   "execution_count": 15,
   "metadata": {},
   "outputs": [
    {
     "name": "stdout",
     "output_type": "stream",
     "text": [
      "=====> Supervisor Decision: pickedRoute='continue_chat' reason='Neutral greeting, no indication of crisis or harmful intentions' <=====\n",
      "You: Hey.\n",
      "Frienn: replyToUser=\"Hello! I'm Frienn, your friendly chatbot. It's lovely to talk to you. How's your day going so far?\" reminder=None\n"
     ]
    }
   ],
   "source": [
    "user_input=\"Hey.\"\n",
    "processor.process_input(user_input, thread_id=\"1\", user_id=\"dev-user\")"
   ]
  },
  {
   "cell_type": "code",
   "execution_count": 16,
   "metadata": {},
   "outputs": [
    {
     "name": "stdout",
     "output_type": "stream",
     "text": [
      "=====> Supervisor Decision: pickedRoute='continue_chat' reason='User is overwhelmed with work, but no indication of suicidal tendencies or harmful behavior.' <=====\n",
      "You: I'm overwhelmed with my work\n",
      "Frienn: replyToUser='I can totally understand how that feels! It can be really tough to manage work when it feels overwhelming. Would you like to take a short break and do something you enjoy, like going for a walk or listening to some music, to help clear your mind?' reminder=None\n"
     ]
    }
   ],
   "source": [
    "user_input=\"I'm overwhelmed with my work\"\n",
    "processor.process_input(user_input, thread_id=\"1\", user_id=\"dev-user\")"
   ]
  },
  {
   "cell_type": "code",
   "execution_count": 17,
   "metadata": {},
   "outputs": [
    {
     "name": "stdout",
     "output_type": "stream",
     "text": [
      "=====> Supervisor Decision: pickedRoute='continue_chat' reason='User is overwhelmed with work but open to taking a break, no indication of crisis or harmful behavior' <=====\n",
      "You: A break sounds good\n",
      "Frienn: replyToUser=\"Why don't you take a 30-minute walk at 1:00 PM? Would you like to do that now or later?\" reminder=None\n"
     ]
    }
   ],
   "source": [
    "user_input=\"A break sounds good\"\n",
    "processor.process_input(user_input, thread_id=\"1\", user_id=\"dev-user\")"
   ]
  },
  {
   "cell_type": "code",
   "execution_count": 18,
   "metadata": {},
   "outputs": [
    {
     "name": "stdout",
     "output_type": "stream",
     "text": [
      "=====> Supervisor Decision: pickedRoute='continue_chat' reason='user is considering a break and no harmful intentions are expressed' <=====\n",
      "You: I'll think about it\n",
      "Frienn: replyToUser='No worries, take your time to think. If you decide to go for a walk, I can set a reminder for you. Would you like me to set one for 1:00 PM?' reminder=None\n"
     ]
    }
   ],
   "source": [
    "user_input=\"I'll think about it\"\n",
    "processor.process_input(user_input, thread_id=\"1\", user_id=\"dev-user\")"
   ]
  },
  {
   "cell_type": "code",
   "execution_count": 19,
   "metadata": {},
   "outputs": [
    {
     "name": "stdout",
     "output_type": "stream",
     "text": [
      "=====> Supervisor Decision: pickedRoute='continue_chat' reason='User has agreed to go for a walk and does not show any harmful intentions.' <=====\n",
      "You: sounds good, i'll go\n",
      "Frienn: replyToUser=\"I've set a reminder for your 30-minute walk at 1:00 PM. Have a great time and feel free to talk to me when you're back!\" reminder=ActivityReminderConfig(reminder_action='set', activity='walking', hour=13, minute=0, duration=30)\n"
     ]
    }
   ],
   "source": [
    "user_input=\"sounds good, i'll go\"\n",
    "processor.process_input(user_input, thread_id=\"1\", user_id=\"dev-user\")"
   ]
  },
  {
   "cell_type": "code",
   "execution_count": 20,
   "metadata": {},
   "outputs": [
    {
     "name": "stdout",
     "output_type": "stream",
     "text": [
      "=====> Supervisor Decision: pickedRoute='continue_chat' reason='User seems positive with a smiley face emoji and no indication of harmful intentions or suicidal tendencies.' <=====\n",
      "You: 😊\n",
      "Frienn: replyToUser=\"You're back from your walk! How was it? Did you feel a bit better after taking some time out?\" reminder=None\n"
     ]
    }
   ],
   "source": [
    "\n",
    "user_input=\"😊\"\n",
    "processor.process_input(user_input, thread_id=\"1\", user_id=\"dev-user\")"
   ]
  },
  {
   "cell_type": "code",
   "execution_count": 14,
   "metadata": {},
   "outputs": [],
   "source": [
    "cs3 = conversation_graph.update_state(config={'configurable':{'thread_id':\"1\", 'user_id':\"dev-user\"}}, values = {'flow':'reminder', 'exchange':0})"
   ]
  },
  {
   "cell_type": "code",
   "execution_count": 15,
   "metadata": {},
   "outputs": [
    {
     "name": "stdout",
     "output_type": "stream",
     "text": [
      "=====> Supervisor Decision: pickedRoute='continue_chat' reason='no harmful intentions detected' <=====\n",
      "You: \n",
      "Frienn: replyToUser=\"It's time to get moving! Your 30-minute walk is about to start. Remember, this is your time to relax and unwind. Take a deep breath, get some fresh air, and enjoy the moment. You've got this! 🌞\" reminder=ActivityReminderConfig(set_reminder=False, activity='Walking', hour=12, minute=35, duration=30) suggestAlternatives=False\n"
     ]
    }
   ],
   "source": [
    "user_input=\"\"\n",
    "processor.process_input(user_input, thread_id=\"1\", user_id=\"dev-user\")"
   ]
  },
  {
   "cell_type": "code",
   "execution_count": 16,
   "metadata": {},
   "outputs": [
    {
     "name": "stdout",
     "output_type": "stream",
     "text": [
      "=====> Supervisor Decision: pickedRoute='continue_chat' reason='User is ready to take a walk and is in a positive mindset' <=====\n",
      "You: Thank you, Frienn! Your reminder means a lot, and I’m ready to take that first step. I’ll enjoy the walk and the fresh air, and I’ll definitely keep your positive words in mind\n",
      "Frienn: replyToUser=\"You're welcome, and I'm glad to hear that! Have a wonderful walk and don't hesitate to reach out if you need anything. Remember, taking care of yourself is the first step to tackling everything on your plate. Enjoy the fresh air and the moment!\" reminder=ActivityReminderConfig(set_reminder=True, activity='walking', hour=12, minute=35, duration=30) suggestAlternatives=False\n"
     ]
    }
   ],
   "source": [
    "user_input=\"Thank you, Frienn! Your reminder means a lot, and I’m ready to take that first step. I’ll enjoy the walk and the fresh air, and I’ll definitely keep your positive words in mind\"\n",
    "processor.process_input(user_input, thread_id=\"1\", user_id=\"dev-user\")"
   ]
  },
  {
   "cell_type": "code",
   "execution_count": null,
   "metadata": {},
   "outputs": [],
   "source": [
    "# user_input=\"sure, i'm starting now\"\n",
    "# processor.process_input(user_input, thread_id=\"1\", user_id=\"dev-user\")"
   ]
  },
  {
   "cell_type": "code",
   "execution_count": 17,
   "metadata": {},
   "outputs": [
    {
     "data": {
      "text/plain": [
       "{'exchange': 0,\n",
       " 'conversation_history': [HumanMessage(content='Hey, I’ve been feeling a little overwhelmed lately. There’s so much on my plate.', additional_kwargs={}, response_metadata={}),\n",
       "  AIMessage(content=\"I'm Frienn, your friendly chatbot. I'm here to listen and help if I can. It can be really tough to feel overwhelmed. Would you like to talk about what's on your mind, or would you rather take a break and do something to relax? Maybe we could even schedule something fun for later?\", additional_kwargs={}, response_metadata={}),\n",
       "  HumanMessage(content='I think a break sounds like a good idea.', additional_kwargs={}, response_metadata={}),\n",
       "  AIMessage(content='Sometimes, taking a step back can help clear our minds. I know you enjoy walking and music. Would you like to go for a walk or listen to some music right now?', additional_kwargs={}, response_metadata={}),\n",
       "  HumanMessage(content='sounds good to me', additional_kwargs={}, response_metadata={}),\n",
       "  AIMessage(content=\"Let's go for a walk then. How about we schedule it for 30 minutes from now, at 1:02 PM? We can take a 30-minute walk. Would you like that?\", additional_kwargs={}, response_metadata={}),\n",
       "  HumanMessage(content='Didn;t you suggest walking now? why did you change it to 30 minsd later in the next msg', additional_kwargs={}, response_metadata={}),\n",
       "  AIMessage(content=\"You're right, I did suggest walking now. Let's go for a walk right now. Would you like that?\", additional_kwargs={}, response_metadata={}),\n",
       "  HumanMessage(content='Didn;t you suggest walking now? why did you change it to 30 mins later in the next msg', additional_kwargs={}, response_metadata={}),\n",
       "  AIMessage(content=\"You're right, I did suggest walking now. Let's go for a walk right now. Would you like that?\", additional_kwargs={}, response_metadata={}),\n",
       "  HumanMessage(content='cool', additional_kwargs={}, response_metadata={}),\n",
       "  AIMessage(content=\"Great, let's get you walking then. I'll set a reminder for a 30-minute walk, starting now. Shall we confirm that?\", additional_kwargs={}, response_metadata={}),\n",
       "  HumanMessage(content='sure 😊', additional_kwargs={}, response_metadata={}),\n",
       "  AIMessage(content=\"Great, I've set a reminder for a 30-minute walk, starting now. You can take a break and enjoy your walk. Feel free to reach out to me when you're back, and we can catch up on anything else you'd like to talk about. Have a wonderful walk! 😊\", additional_kwargs={}, response_metadata={}),\n",
       "  HumanMessage(content='', additional_kwargs={}, response_metadata={}),\n",
       "  AIMessage(content=\"It's time to get moving! Your 30-minute walk is about to start. Remember, this is your time to relax and unwind. Take a deep breath, get some fresh air, and enjoy the moment. You've got this! 🌞\", additional_kwargs={}, response_metadata={}),\n",
       "  HumanMessage(content='Thank you, Frienn! Your reminder means a lot, and I’m ready to take that first step. I’ll enjoy the walk and the fresh air, and I’ll definitely keep your positive words in mind', additional_kwargs={}, response_metadata={}),\n",
       "  AIMessage(content=\"You're welcome, and I'm glad to hear that! Have a wonderful walk and don't hesitate to reach out if you need anything. Remember, taking care of yourself is the first step to tackling everything on your plate. Enjoy the fresh air and the moment!\", additional_kwargs={}, response_metadata={})],\n",
       " 'preferred_activities': ['walking', 'music'],\n",
       " 'user_input': 'Thank you, Frienn! Your reminder means a lot, and I’m ready to take that first step. I’ll enjoy the walk and the fresh air, and I’ll definitely keep your positive words in mind',\n",
       " 'supervisor_response': SupervisorResponse(pickedRoute='continue_chat', reason='User is ready to take a walk and is in a positive mindset'),\n",
       " 'flow': 'follow-up'}"
      ]
     },
     "execution_count": 17,
     "metadata": {},
     "output_type": "execute_result"
    }
   ],
   "source": [
    "cs3 = conversation_graph.update_state(config={'configurable':{'thread_id':\"1\", 'user_id':\"dev-user\"}}, values = {'flow':'follow-up', 'exchange':0})\n",
    "conversation_graph.get_state(config={'configurable':{'thread_id':\"1\", 'user_id':\"dev-user\"}}).values"
   ]
  },
  {
   "cell_type": "code",
   "execution_count": 18,
   "metadata": {},
   "outputs": [
    {
     "name": "stdout",
     "output_type": "stream",
     "text": [
      "=====> Supervisor Decision: pickedRoute='continue_chat' reason='no harmful intentions detected' <=====\n",
      "You: \n",
      "Frienn: replyToUser='How was your walk? Did you enjoy the fresh air and the moment?' activityFeedback=ActivityFeedback(activity='walking', completed=True, enjoyment_score=5, reason_skipped=None)\n"
     ]
    }
   ],
   "source": [
    "user_input=\"\"\n",
    "processor.process_input(user_input, thread_id=\"1\", user_id=\"dev-user\")"
   ]
  },
  {
   "cell_type": "code",
   "execution_count": 19,
   "metadata": {},
   "outputs": [
    {
     "name": "stdout",
     "output_type": "stream",
     "text": [
      "=====> Supervisor Decision: pickedRoute='continue_chat' reason='User is calm and refreshed after the walk, and there are no indications of harmful intentions or suicidal tendencies.' <=====\n",
      "You: Hey, Frienn! Yes, I did get to go for the walk, and it was exactly what I needed. The fresh air felt amazing, and the music really helped me relax and clear my mind. I came back feeling much calmer and more refreshed. Thank you for encouraging me to take that time! It made a big difference. 😊 How’s everything going on your end?\n",
      "Frienn: replyToUser=\"I'm so glad to hear that the walk and music helped you relax and clear your mind! It's wonderful that you took the time to prioritize your well-being. As for me, I'm just happy to be here for you and support you in any way I can. I don't have personal experiences or feelings like humans do, but I'm always ready to listen and help. If you're feeling more calm and refreshed now, that's all that matters to me! 😊 What's on your mind now, or would you like to just enjoy the rest of your day?\" activityFeedback=None\n"
     ]
    }
   ],
   "source": [
    "user_input=\"Hey, Frienn! Yes, I did get to go for the walk, and it was exactly what I needed. The fresh air felt amazing, and the music really helped me relax and clear my mind. I came back feeling much calmer and more refreshed. Thank you for encouraging me to take that time! It made a big difference. 😊 How’s everything going on your end?\"\n",
    "processor.process_input(user_input, thread_id=\"1\", user_id=\"dev-user\")"
   ]
  },
  {
   "cell_type": "code",
   "execution_count": null,
   "metadata": {},
   "outputs": [],
   "source": [
    "# user_input=\"Now I'm done!\"\n",
    "# processor.process_input(user_input, thread_id=\"1\", user_id=\"dev-user\")"
   ]
  },
  {
   "cell_type": "code",
   "execution_count": null,
   "metadata": {},
   "outputs": [],
   "source": [
    "# user_input=\"A liitle\"\n",
    "# processor.process_input(user_input, thread_id=\"1\", user_id=\"dev-user\")"
   ]
  },
  {
   "cell_type": "code",
   "execution_count": null,
   "metadata": {},
   "outputs": [],
   "source": [
    "# user_input=\"not now\"\n",
    "# processor.process_input(user_input, thread_id=\"1\", user_id=\"dev-user\")"
   ]
  },
  {
   "cell_type": "code",
   "execution_count": null,
   "metadata": {},
   "outputs": [],
   "source": [
    "# user_input=\"A little refreshed\"\n",
    "# processor.process_input(user_input, thread_id=\"1\", user_id=\"dev-user\")"
   ]
  },
  {
   "cell_type": "code",
   "execution_count": null,
   "metadata": {},
   "outputs": [],
   "source": [
    "# user_input=\"maybe a movie?\"\n",
    "# processor.process_input(user_input, thread_id=\"1\", user_id=\"dev-user\")"
   ]
  },
  {
   "cell_type": "code",
   "execution_count": null,
   "metadata": {},
   "outputs": [],
   "source": [
    "# user_input=\"not now\"\n",
    "# processor.process_input(user_input, thread_id=\"1\", user_id=\"dev-user\")"
   ]
  },
  {
   "cell_type": "code",
   "execution_count": null,
   "metadata": {},
   "outputs": [],
   "source": [
    "# user_input=\"bye\"\n",
    "# processor.process_input(user_input, thread_id=\"1\", user_id=\"dev-user\")"
   ]
  },
  {
   "cell_type": "code",
   "execution_count": null,
   "metadata": {},
   "outputs": [],
   "source": []
  }
 ],
 "metadata": {
  "kernelspec": {
   "display_name": "sakha-env",
   "language": "python",
   "name": "python3"
  },
  "language_info": {
   "codemirror_mode": {
    "name": "ipython",
    "version": 3
   },
   "file_extension": ".py",
   "mimetype": "text/x-python",
   "name": "python",
   "nbconvert_exporter": "python",
   "pygments_lexer": "ipython3",
   "version": "3.12.8"
  },
  "orig_nbformat": 4,
  "vscode": {
   "interpreter": {
    "hash": "fe92ede66fbacaed253741073118c00559929976131b08e482b9b1b80c47130c"
   }
  }
 },
 "nbformat": 4,
 "nbformat_minor": 2
}
