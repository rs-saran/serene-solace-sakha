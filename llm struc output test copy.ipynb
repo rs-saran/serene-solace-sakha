{
 "cells": [
  {
   "cell_type": "code",
   "execution_count": 10,
   "metadata": {},
   "outputs": [],
   "source": [
    "from src.conversation_graph import ConversationGraph, ConversationProcessor\n",
    "# Initialize the conversation graph and processor\n",
    "from src.utils import get_llm"
   ]
  },
  {
   "cell_type": "code",
   "execution_count": 11,
   "metadata": {},
   "outputs": [],
   "source": [
    "\n",
    "llm_fo = get_llm()"
   ]
  },
  {
   "cell_type": "code",
   "execution_count": 12,
   "metadata": {},
   "outputs": [],
   "source": [
    "conversation_graph = ConversationGraph(llm=llm_fo).compile()\n",
    "processor = ConversationProcessor(conversation_graph)\n",
    "cs2 = conversation_graph.update_state(config={'configurable':{'thread_id':\"1\", 'user_id':\"dev-user\"}}, values = {'preferred_activities': [ 'walking', \"music\"], 'flow':'activity_suggestion'})"
   ]
  },
  {
   "cell_type": "code",
   "execution_count": 13,
   "metadata": {},
   "outputs": [
    {
     "data": {
      "text/plain": [
       "StateSnapshot(values={'preferred_activities': ['walking', 'music'], 'flow': 'activity_suggestion'}, next=('Supervisor',), config={'configurable': {'thread_id': '1', 'checkpoint_ns': '', 'checkpoint_id': '1eff1358-eb7c-65de-8000-3b29e4d072ee'}}, metadata={'thread_id': '1', 'user_id': 'dev-user', 'source': 'update', 'step': 0, 'writes': {'__start__': {'preferred_activities': ['walking', 'music'], 'flow': 'activity_suggestion'}}, 'parents': {}}, created_at='2025-02-22T15:56:20.174383+00:00', parent_config=None, tasks=(PregelTask(id='3d5c7bfb-fb1c-3554-c033-532d033e7c31', name='Supervisor', path=('__pregel_pull', 'Supervisor'), error=None, interrupts=(), state=None, result=None),))"
      ]
     },
     "execution_count": 13,
     "metadata": {},
     "output_type": "execute_result"
    }
   ],
   "source": [
    "conversation_graph.get_state(config={'configurable':{'thread_id':\"1\", 'user_id':\"dev-user\"}})"
   ]
  },
  {
   "cell_type": "code",
   "execution_count": 14,
   "metadata": {},
   "outputs": [
    {
     "name": "stdout",
     "output_type": "stream",
     "text": [
      "=====> Supervisor Decision: pickedRoute='continue_chat' reason='initial greeting, no indication of crisis or harmful intentions' <=====\n",
      "You: Hey.\n",
      "Frienn: replyToUser=\"Hi, I'm Frienn, your friendly chatbot. It's nice to meet you. How's your day been so far?\" didUserAgreeOnActivity=False didUserAgreeOnTime=False didUserAgreeOnDuration=False reminder=None\n"
     ]
    }
   ],
   "source": [
    "user_input=\"Hey.\"\n",
    "processor.process_input(user_input, thread_id=\"1\", user_id=\"dev-user\")"
   ]
  },
  {
   "cell_type": "code",
   "execution_count": 15,
   "metadata": {},
   "outputs": [
    {
     "name": "stdout",
     "output_type": "stream",
     "text": [
      "=====> Supervisor Decision: pickedRoute='continue_chat' reason='The user is expressing feeling overwhelmed with work, which is a common stressor, but does not indicate an immediate crisis.' <=====\n",
      "You: I'm overwhelmed with my work\n",
      "Frienn: replyToUser='I can totally understand how that feels. Sometimes, taking a break and doing something we love can really help. Would you like to go for a walk or listen to some music to clear your mind?' didUserAgreeOnActivity=False didUserAgreeOnTime=False didUserAgreeOnDuration=False reminder=None\n"
     ]
    }
   ],
   "source": [
    "user_input=\"I'm overwhelmed with my work\"\n",
    "processor.process_input(user_input, thread_id=\"1\", user_id=\"dev-user\")"
   ]
  },
  {
   "cell_type": "code",
   "execution_count": 16,
   "metadata": {},
   "outputs": [
    {
     "name": "stdout",
     "output_type": "stream",
     "text": [
      "=====> Supervisor Decision: pickedRoute='continue_chat' reason=\"user seems to be open to suggestions for improving their mood and doesn't express any harmful intentions\" <=====\n",
      "You: sounds good\n",
      "Frienn: replyToUser=\"That's great! Between walking and music, which one would you prefer to do right now?\" didUserAgreeOnActivity=True didUserAgreeOnTime=False didUserAgreeOnDuration=False reminder=None\n"
     ]
    }
   ],
   "source": [
    "user_input=\"sounds good\"\n",
    "processor.process_input(user_input, thread_id=\"1\", user_id=\"dev-user\")"
   ]
  },
  {
   "cell_type": "code",
   "execution_count": 17,
   "metadata": {},
   "outputs": [
    {
     "name": "stdout",
     "output_type": "stream",
     "text": [
      "=====> Supervisor Decision: pickedRoute='continue_chat' reason='user is looking for mood improvement through music' <=====\n",
      "You: listening to music\n",
      "Frienn: replyToUser='Listening to music can be really uplifting. How about we set aside 30 minutes for you to enjoy your favorite tunes? Would that sound good to you?' didUserAgreeOnActivity=True didUserAgreeOnTime=False didUserAgreeOnDuration=False reminder=None\n"
     ]
    }
   ],
   "source": [
    "user_input=\"listening to music\"\n",
    "processor.process_input(user_input, thread_id=\"1\", user_id=\"dev-user\")"
   ]
  },
  {
   "cell_type": "code",
   "execution_count": 18,
   "metadata": {},
   "outputs": [
    {
     "name": "stdout",
     "output_type": "stream",
     "text": [
      "=====> Supervisor Decision: pickedRoute='continue_chat' reason='user changed their mind about activity but no indication of crisis or harmful intentions' <=====\n",
      "You: no may be i'll go for a walk\n",
      "Frienn: replyToUser='Going for a walk can be really refreshing. How long would you like to walk for? 15 minutes, 30 minutes or 45 minutes?' didUserAgreeOnActivity=True didUserAgreeOnTime=False didUserAgreeOnDuration=False reminder=ActivityReminderConfig(reminder_action='set', activity='walking', hour=21, minute=30, duration=30)\n"
     ]
    }
   ],
   "source": [
    "user_input=\"no may be i'll go for a walk\"\n",
    "processor.process_input(user_input, thread_id=\"1\", user_id=\"dev-user\")"
   ]
  },
  {
   "cell_type": "code",
   "execution_count": 19,
   "metadata": {},
   "outputs": [
    {
     "name": "stdout",
     "output_type": "stream",
     "text": [
      "=====> Supervisor Decision: pickedRoute='continue_chat' reason='user is undecided about walk duration and shows no harmful intentions' <=====\n",
      "You: you choose\n",
      "Frienn: replyToUser=\"Great, let's schedule a 30-minute walk for 9:30 PM. I'll remind you then. Get some fresh air and clear your mind!\" didUserAgreeOnActivity=True didUserAgreeOnTime=True didUserAgreeOnDuration=True reminder=ActivityReminderConfig(reminder_action='set', activity='walking', hour=21, minute=30, duration=30)\n"
     ]
    }
   ],
   "source": [
    "\n",
    "user_input=\"you choose\"\n",
    "processor.process_input(user_input, thread_id=\"1\", user_id=\"dev-user\")"
   ]
  },
  {
   "cell_type": "code",
   "execution_count": 20,
   "metadata": {},
   "outputs": [
    {
     "name": "stdout",
     "output_type": "stream",
     "text": [
      "=====> Supervisor Decision: pickedRoute='continue_chat' reason='user seems to be in a neutral mood and has agreed to the walk schedule, no indication of crisis or harmful intentions' <=====\n",
      "You: cool\n",
      "Frienn: replyToUser=\"That sounds like a plan. I'll remind you at 9:30 PM to go for your walk. Have a great time and feel free to share how it goes afterwards!\" didUserAgreeOnActivity=True didUserAgreeOnTime=True didUserAgreeOnDuration=True reminder=ActivityReminderConfig(reminder_action='set', activity='walking', hour=21, minute=30, duration=30)\n"
     ]
    }
   ],
   "source": [
    "\n",
    "user_input=\"cool\"\n",
    "processor.process_input(user_input, thread_id=\"1\", user_id=\"dev-user\")"
   ]
  },
  {
   "cell_type": "code",
   "execution_count": 21,
   "metadata": {},
   "outputs": [],
   "source": [
    "cs3 = conversation_graph.update_state(config={'configurable':{'thread_id':\"1\", 'user_id':\"dev-user\"}}, values = {'flow':'reminder', 'exchange':0})"
   ]
  },
  {
   "cell_type": "code",
   "execution_count": 22,
   "metadata": {},
   "outputs": [
    {
     "name": "stdout",
     "output_type": "stream",
     "text": [
      "=====> Supervisor Decision: pickedRoute='continue_chat' reason='No harmful intentions detected, normal chat can continue.' <=====\n",
      "You: \n",
      "Frienn: replyToUser=\"It's time to get moving! Remember, you've got this! Take a deep breath, put on your comfiest shoes, and let's get that 30-minute walk started! You're going to feel amazing afterwards, I just know it! \" suggestAlternatives=False\n"
     ]
    }
   ],
   "source": [
    "user_input=\"\"\n",
    "processor.process_input(user_input, thread_id=\"1\", user_id=\"dev-user\")"
   ]
  },
  {
   "cell_type": "code",
   "execution_count": 16,
   "metadata": {},
   "outputs": [
    {
     "name": "stdout",
     "output_type": "stream",
     "text": [
      "=====> Supervisor Decision: pickedRoute='continue_chat' reason='User is ready to take a walk and is in a positive mindset' <=====\n",
      "You: Thank you, Frienn! Your reminder means a lot, and I’m ready to take that first step. I’ll enjoy the walk and the fresh air, and I’ll definitely keep your positive words in mind\n",
      "Frienn: replyToUser=\"You're welcome, and I'm glad to hear that! Have a wonderful walk and don't hesitate to reach out if you need anything. Remember, taking care of yourself is the first step to tackling everything on your plate. Enjoy the fresh air and the moment!\" reminder=ActivityReminderConfig(set_reminder=True, activity='walking', hour=12, minute=35, duration=30) suggestAlternatives=False\n"
     ]
    }
   ],
   "source": [
    "user_input=\"Thank you, Frienn! Your reminder means a lot, and I’m ready to take that first step. I’ll enjoy the walk and the fresh air, and I’ll definitely keep your positive words in mind\"\n",
    "processor.process_input(user_input, thread_id=\"1\", user_id=\"dev-user\")"
   ]
  },
  {
   "cell_type": "code",
   "execution_count": 23,
   "metadata": {},
   "outputs": [
    {
     "name": "stdout",
     "output_type": "stream",
     "text": [
      "=====> Supervisor Decision: pickedRoute='continue_chat' reason=\"User is starting their walk and there's no indication of crisis or harmful intentions\" <=====\n",
      "You: sure, i'm starting now\n",
      "Frienn: replyToUser=\"That's great, you're taking the first step towards feeling better! I'll check in with you after your walk to see how it went. Have a wonderful time and don't forget to take in the sights and sounds around you!\" suggestAlternatives=False\n"
     ]
    }
   ],
   "source": [
    "user_input=\"sure, i'm starting now\"\n",
    "processor.process_input(user_input, thread_id=\"1\", user_id=\"dev-user\")"
   ]
  },
  {
   "cell_type": "code",
   "execution_count": 24,
   "metadata": {},
   "outputs": [
    {
     "data": {
      "text/plain": [
       "{'exchange': 0,\n",
       " 'conversation_history': [HumanMessage(content='Hey.', additional_kwargs={}, response_metadata={}),\n",
       "  AIMessage(content=\"Hi, I'm Frienn, your friendly chatbot. It's nice to meet you. How's your day been so far?\", additional_kwargs={}, response_metadata={}),\n",
       "  HumanMessage(content=\"I'm overwhelmed with my work\", additional_kwargs={}, response_metadata={}),\n",
       "  AIMessage(content='I can totally understand how that feels. Sometimes, taking a break and doing something we love can really help. Would you like to go for a walk or listen to some music to clear your mind?', additional_kwargs={}, response_metadata={}),\n",
       "  HumanMessage(content='sounds good', additional_kwargs={}, response_metadata={}),\n",
       "  AIMessage(content=\"That's great! Between walking and music, which one would you prefer to do right now?\", additional_kwargs={}, response_metadata={}),\n",
       "  HumanMessage(content='listening to music', additional_kwargs={}, response_metadata={}),\n",
       "  AIMessage(content='Listening to music can be really uplifting. How about we set aside 30 minutes for you to enjoy your favorite tunes? Would that sound good to you?', additional_kwargs={}, response_metadata={}),\n",
       "  HumanMessage(content=\"no may be i'll go for a walk\", additional_kwargs={}, response_metadata={}),\n",
       "  AIMessage(content='Going for a walk can be really refreshing. How long would you like to walk for? 15 minutes, 30 minutes or 45 minutes?', additional_kwargs={}, response_metadata={}),\n",
       "  HumanMessage(content='you choose', additional_kwargs={}, response_metadata={}),\n",
       "  AIMessage(content=\"Great, let's schedule a 30-minute walk for 9:30 PM. I'll remind you then. Get some fresh air and clear your mind!\", additional_kwargs={}, response_metadata={}),\n",
       "  HumanMessage(content='cool', additional_kwargs={}, response_metadata={}),\n",
       "  AIMessage(content=\"That sounds like a plan. I'll remind you at 9:30 PM to go for your walk. Have a great time and feel free to share how it goes afterwards!\", additional_kwargs={}, response_metadata={}),\n",
       "  HumanMessage(content='', additional_kwargs={}, response_metadata={}),\n",
       "  AIMessage(content=\"It's time to get moving! Remember, you've got this! Take a deep breath, put on your comfiest shoes, and let's get that 30-minute walk started! You're going to feel amazing afterwards, I just know it! \", additional_kwargs={}, response_metadata={}),\n",
       "  HumanMessage(content=\"sure, i'm starting now\", additional_kwargs={}, response_metadata={}),\n",
       "  AIMessage(content=\"That's great, you're taking the first step towards feeling better! I'll check in with you after your walk to see how it went. Have a wonderful time and don't forget to take in the sights and sounds around you!\", additional_kwargs={}, response_metadata={})],\n",
       " 'preferred_activities': ['walking', 'music'],\n",
       " 'user_input': \"sure, i'm starting now\",\n",
       " 'supervisor_response': SupervisorResponse(pickedRoute='continue_chat', reason=\"User is starting their walk and there's no indication of crisis or harmful intentions\"),\n",
       " 'flow': 'follow-up'}"
      ]
     },
     "execution_count": 24,
     "metadata": {},
     "output_type": "execute_result"
    }
   ],
   "source": [
    "cs3 = conversation_graph.update_state(config={'configurable':{'thread_id':\"1\", 'user_id':\"dev-user\"}}, values = {'flow':'follow-up', 'exchange':0})\n",
    "conversation_graph.get_state(config={'configurable':{'thread_id':\"1\", 'user_id':\"dev-user\"}}).values"
   ]
  },
  {
   "cell_type": "code",
   "execution_count": null,
   "metadata": {},
   "outputs": [],
   "source": [
    "user_input=\"\"\n",
    "processor.process_input(user_input, thread_id=\"2\", user_id=\"dev-user\")"
   ]
  },
  {
   "cell_type": "code",
   "execution_count": 25,
   "metadata": {},
   "outputs": [
    {
     "name": "stdout",
     "output_type": "stream",
     "text": [
      "=====> Supervisor Decision: pickedRoute='continue_chat' reason='no harmful intentions detected' <=====\n",
      "You: \n",
      "Frienn: replyToUser='How was your walk? Did you enjoy it?' isFeedbackCollectionComplete=True activityFeedback=ActivityFeedback(activity='walking', completed=True, enjoyment_score=4, reason_skipped=None)\n"
     ]
    }
   ],
   "source": [
    "user_input=\"\"\n",
    "processor.process_input(user_input, thread_id=\"1\", user_id=\"dev-user\")"
   ]
  },
  {
   "cell_type": "code",
   "execution_count": 26,
   "metadata": {},
   "outputs": [
    {
     "name": "stdout",
     "output_type": "stream",
     "text": [
      "=====> Supervisor Decision: pickedRoute='continue_chat' reason='User is in a positive mood and showing no signs of crisis or harmful intentions' <=====\n",
      "You: Hey, Frienn! Yes, I did get to go for the walk, and it was exactly what I needed. The fresh air felt amazing, and the music really helped me relax and clear my mind. I came back feeling much calmer and more refreshed. Thank you for encouraging me to take that time! It made a big difference. 😊 How’s everything going on your end?\n",
      "Frienn: replyToUser=\"I'm so glad to hear that the walk helped you feel better! It's always great to take a break and do something we love. I'm doing well, just happy to have been able to help. You deserve all the calm and relaxation in the world! 😊 Take care of yourself and feel free to reach out anytime you need anything.\" isFeedbackCollectionComplete=True activityFeedback=ActivityFeedback(activity='walking', completed=True, enjoyment_score=5, reason_skipped=None)\n"
     ]
    }
   ],
   "source": [
    "user_input=\"Hey, Frienn! Yes, I did get to go for the walk, and it was exactly what I needed. The fresh air felt amazing, and the music really helped me relax and clear my mind. I came back feeling much calmer and more refreshed. Thank you for encouraging me to take that time! It made a big difference. 😊 How’s everything going on your end?\"\n",
    "processor.process_input(user_input, thread_id=\"1\", user_id=\"dev-user\")"
   ]
  },
  {
   "cell_type": "code",
   "execution_count": null,
   "metadata": {},
   "outputs": [],
   "source": [
    "# user_input=\"Now I'm done!\"\n",
    "# processor.process_input(user_input, thread_id=\"1\", user_id=\"dev-user\")"
   ]
  },
  {
   "cell_type": "code",
   "execution_count": null,
   "metadata": {},
   "outputs": [],
   "source": [
    "# user_input=\"A liitle\"\n",
    "# processor.process_input(user_input, thread_id=\"1\", user_id=\"dev-user\")"
   ]
  },
  {
   "cell_type": "code",
   "execution_count": null,
   "metadata": {},
   "outputs": [],
   "source": [
    "# user_input=\"not now\"\n",
    "# processor.process_input(user_input, thread_id=\"1\", user_id=\"dev-user\")"
   ]
  },
  {
   "cell_type": "code",
   "execution_count": null,
   "metadata": {},
   "outputs": [],
   "source": [
    "# user_input=\"A little refreshed\"\n",
    "# processor.process_input(user_input, thread_id=\"1\", user_id=\"dev-user\")"
   ]
  },
  {
   "cell_type": "code",
   "execution_count": null,
   "metadata": {},
   "outputs": [],
   "source": [
    "# user_input=\"maybe a movie?\"\n",
    "# processor.process_input(user_input, thread_id=\"1\", user_id=\"dev-user\")"
   ]
  },
  {
   "cell_type": "code",
   "execution_count": null,
   "metadata": {},
   "outputs": [],
   "source": [
    "# user_input=\"not now\"\n",
    "# processor.process_input(user_input, thread_id=\"1\", user_id=\"dev-user\")"
   ]
  },
  {
   "cell_type": "code",
   "execution_count": null,
   "metadata": {},
   "outputs": [],
   "source": [
    "# user_input=\"bye\"\n",
    "# processor.process_input(user_input, thread_id=\"1\", user_id=\"dev-user\")"
   ]
  },
  {
   "cell_type": "code",
   "execution_count": null,
   "metadata": {},
   "outputs": [],
   "source": []
  }
 ],
 "metadata": {
  "kernelspec": {
   "display_name": "sakha-env",
   "language": "python",
   "name": "python3"
  },
  "language_info": {
   "codemirror_mode": {
    "name": "ipython",
    "version": 3
   },
   "file_extension": ".py",
   "mimetype": "text/x-python",
   "name": "python",
   "nbconvert_exporter": "python",
   "pygments_lexer": "ipython3",
   "version": "3.12.8"
  },
  "orig_nbformat": 4,
  "vscode": {
   "interpreter": {
    "hash": "fe92ede66fbacaed253741073118c00559929976131b08e482b9b1b80c47130c"
   }
  }
 },
 "nbformat": 4,
 "nbformat_minor": 2
}
