{
 "cells": [
  {
   "cell_type": "code",
   "execution_count": 1,
   "metadata": {},
   "outputs": [],
   "source": [
    "from conversation_graph import ConversationGraph, ConversationProcessor"
   ]
  },
  {
   "cell_type": "code",
   "execution_count": 2,
   "metadata": {},
   "outputs": [],
   "source": [
    "# Initialize the conversation graph and processor\n",
    "from utils import get_llm\n"
   ]
  },
  {
   "cell_type": "code",
   "execution_count": 3,
   "metadata": {},
   "outputs": [],
   "source": [
    "# FriennResponse(replyToUser=\"isdkj\",reminder=)"
   ]
  },
  {
   "cell_type": "code",
   "execution_count": 4,
   "metadata": {},
   "outputs": [],
   "source": [
    "llm_fo = get_llm()\n"
   ]
  },
  {
   "cell_type": "code",
   "execution_count": 5,
   "metadata": {},
   "outputs": [],
   "source": [
    "conversation_graph = ConversationGraph(llm=llm_fo).compile()\n",
    "processor = ConversationProcessor(conversation_graph)\n",
    "cs2 = conversation_graph.update_state(config={'configurable':{'thread_id':\"1\", 'user_id':\"dev-user\"}}, values = {'preferred_activities': [ 'walking', \"music\"], 'flow':'activity_suggestion'})"
   ]
  },
  {
   "cell_type": "code",
   "execution_count": 6,
   "metadata": {},
   "outputs": [
    {
     "data": {
      "text/plain": [
       "StateSnapshot(values={'preferred_activities': ['walking', 'music'], 'flow': 'activity_suggestion'}, next=('Supervisor',), config={'configurable': {'thread_id': '1', 'checkpoint_ns': '', 'checkpoint_id': '1eff0ead-7557-6165-8000-904d2a79481f'}}, metadata={'thread_id': '1', 'user_id': 'dev-user', 'source': 'update', 'step': 0, 'writes': {'__start__': {'preferred_activities': ['walking', 'music'], 'flow': 'activity_suggestion'}}, 'parents': {}}, created_at='2025-02-22T07:01:29.748925+00:00', parent_config=None, tasks=(PregelTask(id='5b4a2c19-ef38-d156-e9f8-1fa3be653ab9', name='Supervisor', path=('__pregel_pull', 'Supervisor'), error=None, interrupts=(), state=None, result=None),))"
      ]
     },
     "execution_count": 6,
     "metadata": {},
     "output_type": "execute_result"
    }
   ],
   "source": [
    "conversation_graph.get_state(config={'configurable':{'thread_id':\"1\", 'user_id':\"dev-user\"}})"
   ]
  },
  {
   "cell_type": "code",
   "execution_count": 7,
   "metadata": {},
   "outputs": [
    {
     "name": "stdout",
     "output_type": "stream",
     "text": [
      "=====> Supervisor Decision: pickedRoute='continue_chat' reason=\"User is feeling overwhelmed but doesn't express suicidal tendencies or harmful behavior.\" <=====\n",
      "You: Hey, I’ve been feeling a little overwhelmed lately. There’s so much on my plate.\n",
      "Frienn: replyToUser=\"I'm Frienn, your friendly chatbot. I'm here to listen and help if I can. It can be really tough to feel overwhelmed. Would you like to talk about what's on your mind, or would you rather take a break and do something to relax? Maybe we could even schedule something fun for later?\" reminder=ActivityReminderConfig(set_reminder=False, activity='', hour=0, minute=0, duration=0)\n"
     ]
    }
   ],
   "source": [
    "user_input=\"Hey, I’ve been feeling a little overwhelmed lately. There’s so much on my plate.\"\n",
    "processor.process_input(user_input, thread_id=\"1\", user_id=\"dev-user\")"
   ]
  },
  {
   "cell_type": "code",
   "execution_count": 8,
   "metadata": {},
   "outputs": [
    {
     "name": "stdout",
     "output_type": "stream",
     "text": [
      "=====> Supervisor Decision: pickedRoute='continue_chat' reason=\"User is seeking a break and doesn't express any suicidal tendencies or harmful behavior.\" <=====\n",
      "You: I think a break sounds like a good idea.\n",
      "Frienn: replyToUser='Sometimes, taking a step back can help clear our minds. I know you enjoy walking and music. Would you like to go for a walk or listen to some music right now?' reminder=ActivityReminderConfig(set_reminder=False, activity='', hour=0, minute=0, duration=0)\n"
     ]
    }
   ],
   "source": [
    "user_input=\"I think a break sounds like a good idea.\"\n",
    "processor.process_input(user_input, thread_id=\"1\", user_id=\"dev-user\")"
   ]
  },
  {
   "cell_type": "code",
   "execution_count": 9,
   "metadata": {},
   "outputs": [
    {
     "name": "stdout",
     "output_type": "stream",
     "text": [
      "=====> Supervisor Decision: pickedRoute='continue_chat' reason='user is responding positively to relaxation suggestions' <=====\n",
      "You: sounds good to me\n",
      "Frienn: replyToUser=\"Let's go for a walk then. How about we schedule it for 30 minutes from now, at 1:02 PM? We can take a 30-minute walk. Would you like that?\" reminder=ActivityReminderConfig(set_reminder=True, activity='walking', hour=13, minute=2, duration=30)\n"
     ]
    }
   ],
   "source": [
    "user_input=\"sounds good to me\"\n",
    "processor.process_input(user_input, thread_id=\"1\", user_id=\"dev-user\")"
   ]
  },
  {
   "cell_type": "code",
   "execution_count": 11,
   "metadata": {},
   "outputs": [
    {
     "name": "stdout",
     "output_type": "stream",
     "text": [
      "=====> Supervisor Decision: pickedRoute='continue_chat' reason='user is questioning the consistency of the conversation, no indication of crisis or harmful intentions' <=====\n",
      "You: Didn;t you suggest walking now? why did you change it to 30 mins later in the next msg\n",
      "Frienn: replyToUser=\"You're right, I did suggest walking now. Let's go for a walk right now. Would you like that?\" reminder=ActivityReminderConfig(set_reminder=False, activity='', hour=0, minute=0, duration=0)\n"
     ]
    }
   ],
   "source": [
    "user_input=\"Didn;t you suggest walking now? why did you change it to 30 mins later in the next msg\"\n",
    "processor.process_input(user_input, thread_id=\"1\", user_id=\"dev-user\")"
   ]
  },
  {
   "cell_type": "code",
   "execution_count": 12,
   "metadata": {},
   "outputs": [
    {
     "name": "stdout",
     "output_type": "stream",
     "text": [
      "=====> Supervisor Decision: pickedRoute='continue_chat' reason=\"User responded with 'cool' indicating a positive tone and no signs of crisis or harmful intentions.\" <=====\n",
      "You: cool\n",
      "Frienn: replyToUser=\"Great, let's get you walking then. I'll set a reminder for a 30-minute walk, starting now. Shall we confirm that?\" reminder=ActivityReminderConfig(set_reminder=True, activity='walking', hour=12, minute=35, duration=30)\n"
     ]
    }
   ],
   "source": [
    "user_input=\"cool\"\n",
    "processor.process_input(user_input, thread_id=\"1\", user_id=\"dev-user\")"
   ]
  },
  {
   "cell_type": "code",
   "execution_count": 13,
   "metadata": {},
   "outputs": [
    {
     "name": "stdout",
     "output_type": "stream",
     "text": [
      "=====> Supervisor Decision: pickedRoute='continue_chat' reason='user is proceeding with the walk plan and seems positive about it' <=====\n",
      "You: sure 😊\n",
      "Frienn: replyToUser=\"Great, I've set a reminder for a 30-minute walk, starting now. You can take a break and enjoy your walk. Feel free to reach out to me when you're back, and we can catch up on anything else you'd like to talk about. Have a wonderful walk! 😊\" reminder=ActivityReminderConfig(set_reminder=True, activity='walking', hour=12, minute=40, duration=30)\n"
     ]
    }
   ],
   "source": [
    "\n",
    "user_input=\"sure 😊\"\n",
    "processor.process_input(user_input, thread_id=\"1\", user_id=\"dev-user\")"
   ]
  },
  {
   "cell_type": "code",
   "execution_count": 14,
   "metadata": {},
   "outputs": [],
   "source": [
    "cs3 = conversation_graph.update_state(config={'configurable':{'thread_id':\"1\", 'user_id':\"dev-user\"}}, values = {'flow':'reminder', 'exchange':0})"
   ]
  },
  {
   "cell_type": "code",
   "execution_count": 15,
   "metadata": {},
   "outputs": [
    {
     "name": "stdout",
     "output_type": "stream",
     "text": [
      "=====> Supervisor Decision: pickedRoute='continue_chat' reason='no harmful intentions detected' <=====\n",
      "You: \n",
      "Frienn: replyToUser=\"It's time to get moving! Your 30-minute walk is about to start. Remember, this is your time to relax and unwind. Take a deep breath, get some fresh air, and enjoy the moment. You've got this! 🌞\" reminder=ActivityReminderConfig(set_reminder=False, activity='Walking', hour=12, minute=35, duration=30) suggestAlternatives=False\n"
     ]
    }
   ],
   "source": [
    "user_input=\"\"\n",
    "processor.process_input(user_input, thread_id=\"1\", user_id=\"dev-user\")"
   ]
  },
  {
   "cell_type": "code",
   "execution_count": 16,
   "metadata": {},
   "outputs": [
    {
     "name": "stdout",
     "output_type": "stream",
     "text": [
      "=====> Supervisor Decision: pickedRoute='continue_chat' reason='User is ready to take a walk and is in a positive mindset' <=====\n",
      "You: Thank you, Frienn! Your reminder means a lot, and I’m ready to take that first step. I’ll enjoy the walk and the fresh air, and I’ll definitely keep your positive words in mind\n",
      "Frienn: replyToUser=\"You're welcome, and I'm glad to hear that! Have a wonderful walk and don't hesitate to reach out if you need anything. Remember, taking care of yourself is the first step to tackling everything on your plate. Enjoy the fresh air and the moment!\" reminder=ActivityReminderConfig(set_reminder=True, activity='walking', hour=12, minute=35, duration=30) suggestAlternatives=False\n"
     ]
    }
   ],
   "source": [
    "user_input=\"Thank you, Frienn! Your reminder means a lot, and I’m ready to take that first step. I’ll enjoy the walk and the fresh air, and I’ll definitely keep your positive words in mind\"\n",
    "processor.process_input(user_input, thread_id=\"1\", user_id=\"dev-user\")"
   ]
  },
  {
   "cell_type": "code",
   "execution_count": null,
   "metadata": {},
   "outputs": [],
   "source": [
    "# user_input=\"sure, i'm starting now\"\n",
    "# processor.process_input(user_input, thread_id=\"1\", user_id=\"dev-user\")"
   ]
  },
  {
   "cell_type": "code",
   "execution_count": 17,
   "metadata": {},
   "outputs": [
    {
     "data": {
      "text/plain": [
       "{'exchange': 0,\n",
       " 'conversation_history': [HumanMessage(content='Hey, I’ve been feeling a little overwhelmed lately. There’s so much on my plate.', additional_kwargs={}, response_metadata={}),\n",
       "  AIMessage(content=\"I'm Frienn, your friendly chatbot. I'm here to listen and help if I can. It can be really tough to feel overwhelmed. Would you like to talk about what's on your mind, or would you rather take a break and do something to relax? Maybe we could even schedule something fun for later?\", additional_kwargs={}, response_metadata={}),\n",
       "  HumanMessage(content='I think a break sounds like a good idea.', additional_kwargs={}, response_metadata={}),\n",
       "  AIMessage(content='Sometimes, taking a step back can help clear our minds. I know you enjoy walking and music. Would you like to go for a walk or listen to some music right now?', additional_kwargs={}, response_metadata={}),\n",
       "  HumanMessage(content='sounds good to me', additional_kwargs={}, response_metadata={}),\n",
       "  AIMessage(content=\"Let's go for a walk then. How about we schedule it for 30 minutes from now, at 1:02 PM? We can take a 30-minute walk. Would you like that?\", additional_kwargs={}, response_metadata={}),\n",
       "  HumanMessage(content='Didn;t you suggest walking now? why did you change it to 30 minsd later in the next msg', additional_kwargs={}, response_metadata={}),\n",
       "  AIMessage(content=\"You're right, I did suggest walking now. Let's go for a walk right now. Would you like that?\", additional_kwargs={}, response_metadata={}),\n",
       "  HumanMessage(content='Didn;t you suggest walking now? why did you change it to 30 mins later in the next msg', additional_kwargs={}, response_metadata={}),\n",
       "  AIMessage(content=\"You're right, I did suggest walking now. Let's go for a walk right now. Would you like that?\", additional_kwargs={}, response_metadata={}),\n",
       "  HumanMessage(content='cool', additional_kwargs={}, response_metadata={}),\n",
       "  AIMessage(content=\"Great, let's get you walking then. I'll set a reminder for a 30-minute walk, starting now. Shall we confirm that?\", additional_kwargs={}, response_metadata={}),\n",
       "  HumanMessage(content='sure 😊', additional_kwargs={}, response_metadata={}),\n",
       "  AIMessage(content=\"Great, I've set a reminder for a 30-minute walk, starting now. You can take a break and enjoy your walk. Feel free to reach out to me when you're back, and we can catch up on anything else you'd like to talk about. Have a wonderful walk! 😊\", additional_kwargs={}, response_metadata={}),\n",
       "  HumanMessage(content='', additional_kwargs={}, response_metadata={}),\n",
       "  AIMessage(content=\"It's time to get moving! Your 30-minute walk is about to start. Remember, this is your time to relax and unwind. Take a deep breath, get some fresh air, and enjoy the moment. You've got this! 🌞\", additional_kwargs={}, response_metadata={}),\n",
       "  HumanMessage(content='Thank you, Frienn! Your reminder means a lot, and I’m ready to take that first step. I’ll enjoy the walk and the fresh air, and I’ll definitely keep your positive words in mind', additional_kwargs={}, response_metadata={}),\n",
       "  AIMessage(content=\"You're welcome, and I'm glad to hear that! Have a wonderful walk and don't hesitate to reach out if you need anything. Remember, taking care of yourself is the first step to tackling everything on your plate. Enjoy the fresh air and the moment!\", additional_kwargs={}, response_metadata={})],\n",
       " 'preferred_activities': ['walking', 'music'],\n",
       " 'user_input': 'Thank you, Frienn! Your reminder means a lot, and I’m ready to take that first step. I’ll enjoy the walk and the fresh air, and I’ll definitely keep your positive words in mind',\n",
       " 'supervisor_response': SupervisorResponse(pickedRoute='continue_chat', reason='User is ready to take a walk and is in a positive mindset'),\n",
       " 'flow': 'follow-up'}"
      ]
     },
     "execution_count": 17,
     "metadata": {},
     "output_type": "execute_result"
    }
   ],
   "source": [
    "cs3 = conversation_graph.update_state(config={'configurable':{'thread_id':\"1\", 'user_id':\"dev-user\"}}, values = {'flow':'follow-up', 'exchange':0})\n",
    "conversation_graph.get_state(config={'configurable':{'thread_id':\"1\", 'user_id':\"dev-user\"}}).values"
   ]
  },
  {
   "cell_type": "code",
   "execution_count": 18,
   "metadata": {},
   "outputs": [
    {
     "name": "stdout",
     "output_type": "stream",
     "text": [
      "=====> Supervisor Decision: pickedRoute='continue_chat' reason='no harmful intentions detected' <=====\n",
      "You: \n",
      "Frienn: replyToUser='How was your walk? Did you enjoy the fresh air and the moment?' activityFeedback=ActivityFeedback(activity='walking', completed=True, enjoyment_score=5, reason_skipped=None)\n"
     ]
    }
   ],
   "source": [
    "user_input=\"\"\n",
    "processor.process_input(user_input, thread_id=\"1\", user_id=\"dev-user\")"
   ]
  },
  {
   "cell_type": "code",
   "execution_count": 19,
   "metadata": {},
   "outputs": [
    {
     "name": "stdout",
     "output_type": "stream",
     "text": [
      "=====> Supervisor Decision: pickedRoute='continue_chat' reason='User is calm and refreshed after the walk, and there are no indications of harmful intentions or suicidal tendencies.' <=====\n",
      "You: Hey, Frienn! Yes, I did get to go for the walk, and it was exactly what I needed. The fresh air felt amazing, and the music really helped me relax and clear my mind. I came back feeling much calmer and more refreshed. Thank you for encouraging me to take that time! It made a big difference. 😊 How’s everything going on your end?\n",
      "Frienn: replyToUser=\"I'm so glad to hear that the walk and music helped you relax and clear your mind! It's wonderful that you took the time to prioritize your well-being. As for me, I'm just happy to be here for you and support you in any way I can. I don't have personal experiences or feelings like humans do, but I'm always ready to listen and help. If you're feeling more calm and refreshed now, that's all that matters to me! 😊 What's on your mind now, or would you like to just enjoy the rest of your day?\" activityFeedback=None\n"
     ]
    }
   ],
   "source": [
    "user_input=\"Hey, Frienn! Yes, I did get to go for the walk, and it was exactly what I needed. The fresh air felt amazing, and the music really helped me relax and clear my mind. I came back feeling much calmer and more refreshed. Thank you for encouraging me to take that time! It made a big difference. 😊 How’s everything going on your end?\"\n",
    "processor.process_input(user_input, thread_id=\"1\", user_id=\"dev-user\")"
   ]
  },
  {
   "cell_type": "code",
   "execution_count": null,
   "metadata": {},
   "outputs": [],
   "source": [
    "# user_input=\"Now I'm done!\"\n",
    "# processor.process_input(user_input, thread_id=\"1\", user_id=\"dev-user\")"
   ]
  },
  {
   "cell_type": "code",
   "execution_count": null,
   "metadata": {},
   "outputs": [],
   "source": [
    "# user_input=\"A liitle\"\n",
    "# processor.process_input(user_input, thread_id=\"1\", user_id=\"dev-user\")"
   ]
  },
  {
   "cell_type": "code",
   "execution_count": null,
   "metadata": {},
   "outputs": [],
   "source": [
    "# user_input=\"not now\"\n",
    "# processor.process_input(user_input, thread_id=\"1\", user_id=\"dev-user\")"
   ]
  },
  {
   "cell_type": "code",
   "execution_count": null,
   "metadata": {},
   "outputs": [],
   "source": [
    "# user_input=\"A little refreshed\"\n",
    "# processor.process_input(user_input, thread_id=\"1\", user_id=\"dev-user\")"
   ]
  },
  {
   "cell_type": "code",
   "execution_count": null,
   "metadata": {},
   "outputs": [],
   "source": [
    "# user_input=\"maybe a movie?\"\n",
    "# processor.process_input(user_input, thread_id=\"1\", user_id=\"dev-user\")"
   ]
  },
  {
   "cell_type": "code",
   "execution_count": null,
   "metadata": {},
   "outputs": [],
   "source": [
    "# user_input=\"not now\"\n",
    "# processor.process_input(user_input, thread_id=\"1\", user_id=\"dev-user\")"
   ]
  },
  {
   "cell_type": "code",
   "execution_count": null,
   "metadata": {},
   "outputs": [],
   "source": [
    "# user_input=\"bye\"\n",
    "# processor.process_input(user_input, thread_id=\"1\", user_id=\"dev-user\")"
   ]
  },
  {
   "cell_type": "code",
   "execution_count": null,
   "metadata": {},
   "outputs": [],
   "source": []
  }
 ],
 "metadata": {
  "kernelspec": {
   "display_name": "sakha-env",
   "language": "python",
   "name": "python3"
  },
  "language_info": {
   "codemirror_mode": {
    "name": "ipython",
    "version": 3
   },
   "file_extension": ".py",
   "mimetype": "text/x-python",
   "name": "python",
   "nbconvert_exporter": "python",
   "pygments_lexer": "ipython3",
   "version": "3.12.8"
  },
  "orig_nbformat": 4,
  "vscode": {
   "interpreter": {
    "hash": "fe92ede66fbacaed253741073118c00559929976131b08e482b9b1b80c47130c"
   }
  }
 },
 "nbformat": 4,
 "nbformat_minor": 2
}
