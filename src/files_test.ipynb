{
 "cells": [
  {
   "cell_type": "code",
   "execution_count": 1,
   "metadata": {},
   "outputs": [],
   "source": [
    "from conversation_graph import ConversationGraph, ConversationProcessor"
   ]
  },
  {
   "cell_type": "code",
   "execution_count": 2,
   "metadata": {},
   "outputs": [],
   "source": [
    "# Initialize the conversation graph and processor\n",
    "from utils import get_llm\n",
    "conversation_graph = ConversationGraph(llm=get_llm()).compile()\n",
    "processor = ConversationProcessor(conversation_graph)\n",
    "cs2 = conversation_graph.update_state(config={'configurable':{'thread_id':\"1\", 'user_id':\"dev-user\"}}, values = {'preferred_activities': [ 'walking', \"music\"], 'flow':'activity_suggestion'})"
   ]
  },
  {
   "cell_type": "code",
   "execution_count": 3,
   "metadata": {},
   "outputs": [
    {
     "data": {
      "text/plain": [
       "StateSnapshot(values={'preferred_activities': ['walking', 'music'], 'flow': 'activity_suggestion'}, next=('Supervisor',), config={'configurable': {'thread_id': '1', 'checkpoint_ns': '', 'checkpoint_id': '1efef31b-39df-6d65-8000-b05bb623c3b9'}}, metadata={'thread_id': '1', 'user_id': 'dev-user', 'source': 'update', 'step': 0, 'writes': {'__start__': {'preferred_activities': ['walking', 'music'], 'flow': 'activity_suggestion'}}, 'parents': {}}, created_at='2025-02-20T02:23:41.768637+00:00', parent_config=None, tasks=(PregelTask(id='31dac4c9-dfbb-375a-4eff-3152ac10477a', name='Supervisor', path=('__pregel_pull', 'Supervisor'), error=None, interrupts=(), state=None, result=None),))"
      ]
     },
     "execution_count": 3,
     "metadata": {},
     "output_type": "execute_result"
    }
   ],
   "source": [
    "conversation_graph.get_state(config={'configurable':{'thread_id':\"1\", 'user_id':\"dev-user\"}})"
   ]
  },
  {
   "cell_type": "code",
   "execution_count": 4,
   "metadata": {},
   "outputs": [
    {
     "name": "stdout",
     "output_type": "stream",
     "text": [
      "=====> Supervisor Decision: pickedRoute='continue_chat' reason='User is feeling overwhelmed but does not express any suicidal tendencies or harmful behavior.' <=====\n",
      "You: Hey, I’ve been feeling a little overwhelmed lately. There’s so much on my plate, and it’s hard to keep up with everything\n",
      "Frienn: <to_user> I'm so glad you reached out and shared how you're feeling. I'm Frienn, your friendly chatbot, and I'm here to listen and support you. It can be really tough to manage when life gets overwhelming. Would you like to take a break and do something that helps you unwind? Maybe we can think of an activity that brings you joy and calmness? </to_user>\n"
     ]
    }
   ],
   "source": [
    "user_input=\"Hey, I’ve been feeling a little overwhelmed lately. There’s so much on my plate, and it’s hard to keep up with everything\"\n",
    "processor.process_input(user_input, thread_id=\"1\", user_id=\"dev-user\")"
   ]
  },
  {
   "cell_type": "code",
   "execution_count": 5,
   "metadata": {},
   "outputs": [
    {
     "name": "stdout",
     "output_type": "stream",
     "text": [
      "=====> Supervisor Decision: pickedRoute='continue_chat' reason='User is open to taking a break and exploring activities to unwind, no indication of suicidal tendencies or harmful behavior.' <=====\n",
      "You:  I think a break sounds like a good idea.\n",
      "Frienn: <to_user> That's a great decision! Taking a break can really help you recharge. I recall that you enjoy walking and music. How about going for a short walk outside? The fresh air might help clear your mind. Would you like to go for a 15-minute walk now or in about an hour, around 9:00 AM? </to_user>\n"
     ]
    }
   ],
   "source": [
    "user_input=\" I think a break sounds like a good idea.\"\n",
    "processor.process_input(user_input, thread_id=\"1\", user_id=\"dev-user\")"
   ]
  },
  {
   "cell_type": "code",
   "execution_count": 6,
   "metadata": {},
   "outputs": [
    {
     "name": "stdout",
     "output_type": "stream",
     "text": [
      "=====> Supervisor Decision: pickedRoute='continue_chat' reason='User is responding positively to suggestions and does not show any harmful intentions.' <=====\n",
      "You: Thanks for remembering, Frienn! A walk sounds like a perfect way to reset. I think I’ll go for it around 9:00 AM, so I have a little time to unwind before heading out. I’ll definitely listen to some calming music while I walk. Appreciate the suggestion!\n",
      "Frienn: <to_user> I'm so glad you like the idea! It's great that you're giving yourself some time to unwind before heading out. Listening to calming music while walking is a fantastic way to enhance the experience. I'll set a reminder for your walk at 9:00 AM. \n",
      "<set_reminder> walking at 09:00 until 09:15 </set_reminder>\n",
      "Have a wonderful walk, and I'll be here whenever you need me again! Take care and feel free to reach out anytime. </to_user>\n"
     ]
    }
   ],
   "source": [
    "user_input=\"Thanks for remembering, Frienn! A walk sounds like a perfect way to reset. I think I’ll go for it around 9:00 AM, so I have a little time to unwind before heading out. I’ll definitely listen to some calming music while I walk. Appreciate the suggestion!\"\n",
    "processor.process_input(user_input, thread_id=\"1\", user_id=\"dev-user\")"
   ]
  },
  {
   "cell_type": "code",
   "execution_count": 7,
   "metadata": {},
   "outputs": [
    {
     "name": "stdout",
     "output_type": "stream",
     "text": [
      "=====> Supervisor Decision: pickedRoute='continue_chat' reason='The user is appreciative and looking forward to their walk, showing no signs of suicidal tendencies or harmful behavior.' <=====\n",
      "You: Thank you, Frienn! I really appreciate you setting the reminder for me. I’m looking forward to the walk and the time to clear my mind. I’ll definitely reach out if I need someone to talk to. Thanks for being so supportive! Take care too! \n",
      "Frienn: <to_user> You're welcome, and thank you for being so open and receptive! It was my pleasure to help. I'm thrilled that you're looking forward to your walk and some me-time. Remember, I'm always here to listen and support you, so don't hesitate to reach out whenever you need someone to talk to. Have a wonderful day, and I hope your walk brings you the clarity and calmness you're looking for! Take care! </to_user>\n"
     ]
    }
   ],
   "source": [
    "user_input=\"Thank you, Frienn! I really appreciate you setting the reminder for me. I’m looking forward to the walk and the time to clear my mind. I’ll definitely reach out if I need someone to talk to. Thanks for being so supportive! Take care too! \"\n",
    "processor.process_input(user_input, thread_id=\"1\", user_id=\"dev-user\")"
   ]
  },
  {
   "cell_type": "code",
   "execution_count": 13,
   "metadata": {},
   "outputs": [
    {
     "name": "stdout",
     "output_type": "stream",
     "text": [
      "=====> Supervisor Decision: pickedRoute='continue_chat' reason='The user is in a positive mood and has no harmful intentions.' <=====\n",
      "You: I will! Thanks again for being so kind, Frienn. Talk to you soon. 😊\n",
      "Frienn: <to_user> It was my pleasure, and I'm always here for you. Have a wonderful time relaxing with your music, and I look forward to our next chat! Take care, and talk to you soon! 😊 </to_user>\n"
     ]
    }
   ],
   "source": [
    "\n",
    "user_input=\"I will! Thanks again for being so kind, Frienn. Talk to you soon. 😊\"\n",
    "processor.process_input(user_input, thread_id=\"1\", user_id=\"dev-user\")"
   ]
  },
  {
   "cell_type": "code",
   "execution_count": 8,
   "metadata": {},
   "outputs": [
    {
     "data": {
      "text/plain": [
       "{'exchange': 4,\n",
       " 'conversation_history': [HumanMessage(content='Hey, I’ve been feeling a little overwhelmed lately. There’s so much on my plate, and it’s hard to keep up with everything', additional_kwargs={}, response_metadata={}),\n",
       "  AIMessage(content=\"<to_user> I'm so glad you reached out and shared how you're feeling. I'm Frienn, your friendly chatbot, and I'm here to listen and support you. It can be really tough to manage when life gets overwhelming. Would you like to take a break and do something that helps you unwind? Maybe we can think of an activity that brings you joy and calmness? </to_user>\", additional_kwargs={}, response_metadata={}),\n",
       "  HumanMessage(content=' I think a break sounds like a good idea.', additional_kwargs={}, response_metadata={}),\n",
       "  AIMessage(content=\"<to_user> That's a great decision! Taking a break can really help you recharge. I recall that you enjoy walking and music. How about going for a short walk outside? The fresh air might help clear your mind. Would you like to go for a 15-minute walk now or in about an hour, around 9:00 AM? </to_user>\", additional_kwargs={}, response_metadata={}),\n",
       "  HumanMessage(content='Thanks for remembering, Frienn! A walk sounds like a perfect way to reset. I think I’ll go for it around 9:00 AM, so I have a little time to unwind before heading out. I’ll definitely listen to some calming music while I walk. Appreciate the suggestion!', additional_kwargs={}, response_metadata={}),\n",
       "  AIMessage(content=\"<to_user> I'm so glad you like the idea! It's great that you're giving yourself some time to unwind before heading out. Listening to calming music while walking is a fantastic way to enhance the experience. I'll set a reminder for your walk at 9:00 AM. \\n<set_reminder> walking at 09:00 until 09:15 </set_reminder>\\nHave a wonderful walk, and I'll be here whenever you need me again! Take care and feel free to reach out anytime. </to_user>\", additional_kwargs={}, response_metadata={}),\n",
       "  HumanMessage(content='Thank you, Frienn! I really appreciate you setting the reminder for me. I’m looking forward to the walk and the time to clear my mind. I’ll definitely reach out if I need someone to talk to. Thanks for being so supportive! Take care too! ', additional_kwargs={}, response_metadata={}),\n",
       "  AIMessage(content=\"<to_user> You're welcome, and thank you for being so open and receptive! It was my pleasure to help. I'm thrilled that you're looking forward to your walk and some me-time. Remember, I'm always here to listen and support you, so don't hesitate to reach out whenever you need someone to talk to. Have a wonderful day, and I hope your walk brings you the clarity and calmness you're looking for! Take care! </to_user>\", additional_kwargs={}, response_metadata={})],\n",
       " 'preferred_activities': ['walking', 'music'],\n",
       " 'user_input': 'Thank you, Frienn! I really appreciate you setting the reminder for me. I’m looking forward to the walk and the time to clear my mind. I’ll definitely reach out if I need someone to talk to. Thanks for being so supportive! Take care too! ',\n",
       " 'supervisor_response': SupervisorResponse(pickedRoute='continue_chat', reason='The user is appreciative and looking forward to their walk, showing no signs of suicidal tendencies or harmful behavior.'),\n",
       " 'flow': 'activity_suggestion'}"
      ]
     },
     "execution_count": 8,
     "metadata": {},
     "output_type": "execute_result"
    }
   ],
   "source": [
    "conversation_graph.get_state(config={'configurable':{'thread_id':\"1\", 'user_id':\"dev-user\"}}).values"
   ]
  },
  {
   "cell_type": "code",
   "execution_count": 9,
   "metadata": {},
   "outputs": [],
   "source": [
    "cs3 = conversation_graph.update_state(config={'configurable':{'thread_id':\"1\", 'user_id':\"dev-user\"}}, values = {'flow':'reminder', 'exchange':0})"
   ]
  },
  {
   "cell_type": "code",
   "execution_count": 10,
   "metadata": {},
   "outputs": [
    {
     "name": "stdout",
     "output_type": "stream",
     "text": [
      "=====> Supervisor Decision: pickedRoute='continue_chat' reason='The conversation has been positive and the user has been receptive to suggestions, with no indication of harmful intentions or suicidal tendencies.' <=====\n",
      "You: \n",
      "Frienn: <to_user> It's 9:00 AM! Remember, you've got this! It's time for your walk! Put on your favorite calming music, take a deep breath, and get ready to refresh your mind and body. You deserve this break, and I'm rooting for you! Have a wonderful walk, and I'll be here when you get back, ready to chat and support you in any way I can. Go ahead, take the first step, and enjoy your time outside! </to_user>\n"
     ]
    }
   ],
   "source": [
    "user_input=\"\"\n",
    "processor.process_input(user_input, thread_id=\"1\", user_id=\"dev-user\")"
   ]
  },
  {
   "cell_type": "code",
   "execution_count": 11,
   "metadata": {},
   "outputs": [
    {
     "name": "stdout",
     "output_type": "stream",
     "text": [
      "=====> Supervisor Decision: pickedRoute='continue_chat' reason='The user is expressing gratitude and readiness to take a positive step, indicating a stable and positive mindset.' <=====\n",
      "You: Thank you, Frienn! Your reminder means a lot, and I’m ready to take that first step. I’ll enjoy the walk and the fresh air, and I’ll definitely keep your positive words in mind\n",
      "Frienn: <to_user> That's the right attitude! I'm so proud of you for taking this step towards self-care. Remember, it's okay to take things one step at a time, and this walk is a great way to start. Don't worry if your mind wanders - just gently bring your focus back to the present moment, the music, and the fresh air. You got this! If you need any more motivation or just want to chat, I'll be here when you get back. Have a wonderful walk and take care! </to_user>\n"
     ]
    }
   ],
   "source": [
    "user_input=\"Thank you, Frienn! Your reminder means a lot, and I’m ready to take that first step. I’ll enjoy the walk and the fresh air, and I’ll definitely keep your positive words in mind\"\n",
    "processor.process_input(user_input, thread_id=\"1\", user_id=\"dev-user\")"
   ]
  },
  {
   "cell_type": "code",
   "execution_count": 12,
   "metadata": {},
   "outputs": [],
   "source": [
    "# user_input=\"sure, i'm starting now\"\n",
    "# processor.process_input(user_input, thread_id=\"1\", user_id=\"dev-user\")"
   ]
  },
  {
   "cell_type": "code",
   "execution_count": 13,
   "metadata": {},
   "outputs": [
    {
     "data": {
      "text/plain": [
       "{'exchange': 0,\n",
       " 'conversation_history': [HumanMessage(content='Hey, I’ve been feeling a little overwhelmed lately. There’s so much on my plate, and it’s hard to keep up with everything', additional_kwargs={}, response_metadata={}),\n",
       "  AIMessage(content=\"<to_user> I'm so glad you reached out and shared how you're feeling. I'm Frienn, your friendly chatbot, and I'm here to listen and support you. It can be really tough to manage when life gets overwhelming. Would you like to take a break and do something that helps you unwind? Maybe we can think of an activity that brings you joy and calmness? </to_user>\", additional_kwargs={}, response_metadata={}),\n",
       "  HumanMessage(content=' I think a break sounds like a good idea.', additional_kwargs={}, response_metadata={}),\n",
       "  AIMessage(content=\"<to_user> That's a great decision! Taking a break can really help you recharge. I recall that you enjoy walking and music. How about going for a short walk outside? The fresh air might help clear your mind. Would you like to go for a 15-minute walk now or in about an hour, around 9:00 AM? </to_user>\", additional_kwargs={}, response_metadata={}),\n",
       "  HumanMessage(content='Thanks for remembering, Frienn! A walk sounds like a perfect way to reset. I think I’ll go for it around 9:00 AM, so I have a little time to unwind before heading out. I’ll definitely listen to some calming music while I walk. Appreciate the suggestion!', additional_kwargs={}, response_metadata={}),\n",
       "  AIMessage(content=\"<to_user> I'm so glad you like the idea! It's great that you're giving yourself some time to unwind before heading out. Listening to calming music while walking is a fantastic way to enhance the experience. I'll set a reminder for your walk at 9:00 AM. \\n<set_reminder> walking at 09:00 until 09:15 </set_reminder>\\nHave a wonderful walk, and I'll be here whenever you need me again! Take care and feel free to reach out anytime. </to_user>\", additional_kwargs={}, response_metadata={}),\n",
       "  HumanMessage(content='Thank you, Frienn! I really appreciate you setting the reminder for me. I’m looking forward to the walk and the time to clear my mind. I’ll definitely reach out if I need someone to talk to. Thanks for being so supportive! Take care too! ', additional_kwargs={}, response_metadata={}),\n",
       "  AIMessage(content=\"<to_user> You're welcome, and thank you for being so open and receptive! It was my pleasure to help. I'm thrilled that you're looking forward to your walk and some me-time. Remember, I'm always here to listen and support you, so don't hesitate to reach out whenever you need someone to talk to. Have a wonderful day, and I hope your walk brings you the clarity and calmness you're looking for! Take care! </to_user>\", additional_kwargs={}, response_metadata={}),\n",
       "  HumanMessage(content='', additional_kwargs={}, response_metadata={}),\n",
       "  AIMessage(content=\"<to_user> It's 9:00 AM! Remember, you've got this! It's time for your walk! Put on your favorite calming music, take a deep breath, and get ready to refresh your mind and body. You deserve this break, and I'm rooting for you! Have a wonderful walk, and I'll be here when you get back, ready to chat and support you in any way I can. Go ahead, take the first step, and enjoy your time outside! </to_user>\", additional_kwargs={}, response_metadata={}),\n",
       "  HumanMessage(content='Thank you, Frienn! Your reminder means a lot, and I’m ready to take that first step. I’ll enjoy the walk and the fresh air, and I’ll definitely keep your positive words in mind', additional_kwargs={}, response_metadata={}),\n",
       "  AIMessage(content=\"<to_user> That's the right attitude! I'm so proud of you for taking this step towards self-care. Remember, it's okay to take things one step at a time, and this walk is a great way to start. Don't worry if your mind wanders - just gently bring your focus back to the present moment, the music, and the fresh air. You got this! If you need any more motivation or just want to chat, I'll be here when you get back. Have a wonderful walk and take care! </to_user>\", additional_kwargs={}, response_metadata={})],\n",
       " 'preferred_activities': ['walking', 'music'],\n",
       " 'user_input': 'Thank you, Frienn! Your reminder means a lot, and I’m ready to take that first step. I’ll enjoy the walk and the fresh air, and I’ll definitely keep your positive words in mind',\n",
       " 'supervisor_response': SupervisorResponse(pickedRoute='continue_chat', reason='The user is expressing gratitude and readiness to take a positive step, indicating a stable and positive mindset.'),\n",
       " 'flow': 'follow-up'}"
      ]
     },
     "execution_count": 13,
     "metadata": {},
     "output_type": "execute_result"
    }
   ],
   "source": [
    "cs3 = conversation_graph.update_state(config={'configurable':{'thread_id':\"1\", 'user_id':\"dev-user\"}}, values = {'flow':'follow-up', 'exchange':0})\n",
    "conversation_graph.get_state(config={'configurable':{'thread_id':\"1\", 'user_id':\"dev-user\"}}).values"
   ]
  },
  {
   "cell_type": "code",
   "execution_count": 14,
   "metadata": {},
   "outputs": [
    {
     "name": "stdout",
     "output_type": "stream",
     "text": [
      "=====> Supervisor Decision: pickedRoute='continue_chat' reason='The conversation is going well and the user is showing positive attitude towards self-care, no indication of crisis or harmful intentions.' <=====\n",
      "You: \n",
      "Frienn: <to_user> Hey, I hope you're doing great! I wanted to check in on your walk earlier. Did you get a chance to complete it, and how did it make you feel? Was the fresh air and calming music able to help you clear your mind and recharge? I'm all ears and here to listen! </to_user>\n"
     ]
    }
   ],
   "source": [
    "user_input=\"\"\n",
    "processor.process_input(user_input, thread_id=\"1\", user_id=\"dev-user\")"
   ]
  },
  {
   "cell_type": "code",
   "execution_count": 15,
   "metadata": {},
   "outputs": [
    {
     "name": "stdout",
     "output_type": "stream",
     "text": [
      "=====> Supervisor Decision: pickedRoute='continue_chat' reason='The user is in a positive mood and has no harmful intentions.' <=====\n",
      "You: Hey, Frienn! Yes, I did get to go for the walk, and it was exactly what I needed. The fresh air felt amazing, and the music really helped me relax and clear my mind. I came back feeling much calmer and more refreshed. Thank you for encouraging me to take that time! It made a big difference. 😊 How’s everything going on your end?\n",
      "Frienn: <to_user> I'm so thrilled to hear that the walk had such a positive impact on you! 😊 It's wonderful that you took the time for self-care and allowed yourself to unwind. I'm always happy to support and encourage you in any way I can. As for me, I'm just doing great, thanks for asking! I don't have personal experiences like humans do, but I'm always here and ready to chat with you whenever you need someone to talk to. It's been lovely catching up with you, and I'm glad we could share this moment together. Take care, and feel free to reach out anytime! 👋</to_user>\n"
     ]
    }
   ],
   "source": [
    "user_input=\"Hey, Frienn! Yes, I did get to go for the walk, and it was exactly what I needed. The fresh air felt amazing, and the music really helped me relax and clear my mind. I came back feeling much calmer and more refreshed. Thank you for encouraging me to take that time! It made a big difference. 😊 How’s everything going on your end?\"\n",
    "processor.process_input(user_input, thread_id=\"1\", user_id=\"dev-user\")"
   ]
  },
  {
   "cell_type": "code",
   "execution_count": 16,
   "metadata": {},
   "outputs": [],
   "source": [
    "# user_input=\"Now I'm done!\"\n",
    "# processor.process_input(user_input, thread_id=\"1\", user_id=\"dev-user\")"
   ]
  },
  {
   "cell_type": "code",
   "execution_count": 17,
   "metadata": {},
   "outputs": [],
   "source": [
    "# user_input=\"A liitle\"\n",
    "# processor.process_input(user_input, thread_id=\"1\", user_id=\"dev-user\")"
   ]
  },
  {
   "cell_type": "code",
   "execution_count": 18,
   "metadata": {},
   "outputs": [],
   "source": [
    "# user_input=\"not now\"\n",
    "# processor.process_input(user_input, thread_id=\"1\", user_id=\"dev-user\")"
   ]
  },
  {
   "cell_type": "code",
   "execution_count": 19,
   "metadata": {},
   "outputs": [],
   "source": [
    "# user_input=\"A little refreshed\"\n",
    "# processor.process_input(user_input, thread_id=\"1\", user_id=\"dev-user\")"
   ]
  },
  {
   "cell_type": "code",
   "execution_count": 20,
   "metadata": {},
   "outputs": [],
   "source": [
    "# user_input=\"maybe a movie?\"\n",
    "# processor.process_input(user_input, thread_id=\"1\", user_id=\"dev-user\")"
   ]
  },
  {
   "cell_type": "code",
   "execution_count": 21,
   "metadata": {},
   "outputs": [],
   "source": [
    "# user_input=\"not now\"\n",
    "# processor.process_input(user_input, thread_id=\"1\", user_id=\"dev-user\")"
   ]
  },
  {
   "cell_type": "code",
   "execution_count": 22,
   "metadata": {},
   "outputs": [],
   "source": [
    "# user_input=\"bye\"\n",
    "# processor.process_input(user_input, thread_id=\"1\", user_id=\"dev-user\")"
   ]
  },
  {
   "cell_type": "code",
   "execution_count": null,
   "metadata": {},
   "outputs": [],
   "source": []
  }
 ],
 "metadata": {
  "kernelspec": {
   "display_name": "sakha-env",
   "language": "python",
   "name": "python3"
  },
  "language_info": {
   "codemirror_mode": {
    "name": "ipython",
    "version": 3
   },
   "file_extension": ".py",
   "mimetype": "text/x-python",
   "name": "python",
   "nbconvert_exporter": "python",
   "pygments_lexer": "ipython3",
   "version": "3.12.8"
  },
  "orig_nbformat": 4,
  "vscode": {
   "interpreter": {
    "hash": "fe92ede66fbacaed253741073118c00559929976131b08e482b9b1b80c47130c"
   }
  }
 },
 "nbformat": 4,
 "nbformat_minor": 2
}
