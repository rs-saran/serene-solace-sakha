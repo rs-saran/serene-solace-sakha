{
 "cells": [
  {
   "cell_type": "code",
   "execution_count": 11,
   "metadata": {},
   "outputs": [],
   "source": [
    "from conversation_graph import ConversationGraph, ConversationProcessor"
   ]
  },
  {
   "cell_type": "code",
   "execution_count": 14,
   "metadata": {},
   "outputs": [
    {
     "ename": "AttributeError",
     "evalue": "'ConversationGraph' object has no attribute 'llm'",
     "output_type": "error",
     "traceback": [
      "\u001b[1;31m---------------------------------------------------------------------------\u001b[0m",
      "\u001b[1;31mAttributeError\u001b[0m                            Traceback (most recent call last)",
      "Cell \u001b[1;32mIn[14], line 3\u001b[0m\n\u001b[0;32m      1\u001b[0m \u001b[39m# Initialize the conversation graph and processor\u001b[39;00m\n\u001b[0;32m      2\u001b[0m \u001b[39mfrom\u001b[39;00m\u001b[39m \u001b[39m\u001b[39mutils\u001b[39;00m\u001b[39m \u001b[39m\u001b[39mimport\u001b[39;00m get_llm\n\u001b[1;32m----> 3\u001b[0m conversation_graph \u001b[39m=\u001b[39m ConversationGraph(get_llm())\n\u001b[0;32m      4\u001b[0m processor \u001b[39m=\u001b[39m ConversationProcessor(conversation_graph)\n",
      "File \u001b[1;32md:\\ExtraAcads\\DS & AI\\github\\serene-solace-sakha\\src\\conversation_graph.py:18\u001b[0m, in \u001b[0;36mConversationGraph.__init__\u001b[1;34m(self, llm)\u001b[0m\n\u001b[0;32m     16\u001b[0m \u001b[39mdef\u001b[39;00m\u001b[39m \u001b[39m\u001b[39m__init__\u001b[39m(\u001b[39mself\u001b[39m,llm):\n\u001b[0;32m     17\u001b[0m     \u001b[39mself\u001b[39m\u001b[39m.\u001b[39mbuilder \u001b[39m=\u001b[39m StateGraph(ConversationState)\n\u001b[1;32m---> 18\u001b[0m     \u001b[39mself\u001b[39;49m\u001b[39m.\u001b[39;49m_add_nodes()\n\u001b[0;32m     19\u001b[0m     \u001b[39mself\u001b[39m\u001b[39m.\u001b[39m_add_edges()\n\u001b[0;32m     20\u001b[0m     \u001b[39mself\u001b[39m\u001b[39m.\u001b[39mllm \u001b[39m=\u001b[39m llm\n",
      "File \u001b[1;32md:\\ExtraAcads\\DS & AI\\github\\serene-solace-sakha\\src\\conversation_graph.py:25\u001b[0m, in \u001b[0;36mConversationGraph._add_nodes\u001b[1;34m(self)\u001b[0m\n\u001b[0;32m     23\u001b[0m \u001b[39mdef\u001b[39;00m\u001b[39m \u001b[39m\u001b[39m_add_nodes\u001b[39m(\u001b[39mself\u001b[39m):\n\u001b[0;32m     24\u001b[0m \u001b[39m    \u001b[39m\u001b[39m\"\"\"Add all nodes to the graph\"\"\"\u001b[39;00m\n\u001b[1;32m---> 25\u001b[0m     \u001b[39mself\u001b[39m\u001b[39m.\u001b[39mbuilder\u001b[39m.\u001b[39madd_node(\u001b[39m\"\u001b[39m\u001b[39mSupervisor\u001b[39m\u001b[39m\"\u001b[39m, Supervisor(llm\u001b[39m=\u001b[39m\u001b[39mself\u001b[39;49m\u001b[39m.\u001b[39;49mllm)\u001b[39m.\u001b[39mget_supervisor_decision)\n\u001b[0;32m     26\u001b[0m     \u001b[39mself\u001b[39m\u001b[39m.\u001b[39mbuilder\u001b[39m.\u001b[39madd_node(\u001b[39m\"\u001b[39m\u001b[39mFrienn\u001b[39m\u001b[39m\"\u001b[39m, ChatEngine(llm\u001b[39m=\u001b[39m\u001b[39mself\u001b[39m\u001b[39m.\u001b[39mllm)\u001b[39m.\u001b[39mchat)\n\u001b[0;32m     27\u001b[0m     \u001b[39mself\u001b[39m\u001b[39m.\u001b[39mbuilder\u001b[39m.\u001b[39madd_node(\u001b[39m\"\u001b[39m\u001b[39msetReminder\u001b[39m\u001b[39m\"\u001b[39m, set_activity_reminder)\n",
      "\u001b[1;31mAttributeError\u001b[0m: 'ConversationGraph' object has no attribute 'llm'"
     ]
    }
   ],
   "source": [
    "# Initialize the conversation graph and processor\n",
    "from utils import get_llm\n",
    "conversation_graph = ConversationGraph(get_llm())\n",
    "processor = ConversationProcessor(conversation_graph)"
   ]
  },
  {
   "cell_type": "code",
   "execution_count": null,
   "metadata": {},
   "outputs": [],
   "source": []
  }
 ],
 "metadata": {
  "kernelspec": {
   "display_name": "sakha-env",
   "language": "python",
   "name": "python3"
  },
  "language_info": {
   "codemirror_mode": {
    "name": "ipython",
    "version": 3
   },
   "file_extension": ".py",
   "mimetype": "text/x-python",
   "name": "python",
   "nbconvert_exporter": "python",
   "pygments_lexer": "ipython3",
   "version": "3.12.8"
  },
  "orig_nbformat": 4,
  "vscode": {
   "interpreter": {
    "hash": "fe92ede66fbacaed253741073118c00559929976131b08e482b9b1b80c47130c"
   }
  }
 },
 "nbformat": 4,
 "nbformat_minor": 2
}
