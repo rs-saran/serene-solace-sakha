{
 "cells": [
  {
   "cell_type": "code",
   "execution_count": 1,
   "metadata": {},
   "outputs": [],
   "source": [
    "from conversation_graph import ConversationGraph, ConversationProcessor"
   ]
  },
  {
   "cell_type": "code",
   "execution_count": 2,
   "metadata": {},
   "outputs": [],
   "source": [
    "# Initialize the conversation graph and processor\n",
    "from utils import get_llm\n",
    "conversation_graph = ConversationGraph(llm=get_llm()).compile()\n",
    "processor = ConversationProcessor(conversation_graph)"
   ]
  },
  {
   "cell_type": "code",
   "execution_count": 3,
   "metadata": {},
   "outputs": [
    {
     "name": "stdout",
     "output_type": "stream",
     "text": [
      "=====> Supervisor Decision: pickedRoute='continue_chat' reason='The user has just started the conversation with a greeting and has not expressed any harmful intentions or suicidal tendencies, so the normal chat route is the most suitable to proceed with.' <=====\n",
      "You: hi\n",
      "Frienn: Hello. I'm Frienn, your friendly companion. I'm here to listen, support, and suggest activities to help brighten your day. I'm designed to be empathetic, respectful, and kind. If you're feeling down, I can offer thoughtful suggestions to lift your mood. If not, we can just chat like friends. How are you feeling today?\n"
     ]
    }
   ],
   "source": [
    "user_input=\"hi\"\n",
    "processor.process_input(user_input, thread_id=\"1\", user_id=\"dev-user\")"
   ]
  },
  {
   "cell_type": "code",
   "execution_count": 4,
   "metadata": {},
   "outputs": [
    {
     "name": "stdout",
     "output_type": "stream",
     "text": [
      "=====> Supervisor Decision: pickedRoute='continue_chat' reason='The user is expressing feelings of being overwhelmed with work, but there is no indication of suicidal tendencies or harmful behavior. The conversation can proceed with the normal chat route to help the user improve their mood.' <=====\n",
      "You: i'm overwhelmed with my work\n",
      "Frienn: That can be really tough. Would you like to take a break and do something to relax? Maybe we could plan 'activity1' now or in about an hour?\n"
     ]
    }
   ],
   "source": [
    "user_input=\"i'm overwhelmed with my work\"\n",
    "processor.process_input(user_input, thread_id=\"1\", user_id=\"dev-user\")"
   ]
  },
  {
   "cell_type": "code",
   "execution_count": 5,
   "metadata": {},
   "outputs": [
    {
     "name": "stdout",
     "output_type": "stream",
     "text": [
      "=====> Supervisor Decision: pickedRoute='continue_chat' reason='The user is overwhelmed with work but has agreed to take a break in 30 minutes, indicating a willingness to engage in mood-improving activities and no immediate indication of suicidal tendencies or harmful behavior.' <=====\n",
      "You: sounds interesting, i'll get a break in about 30 mins\n",
      "Frienn: Let's plan 'activity1' in 30 minutes then. Is that still okay with you?\n"
     ]
    }
   ],
   "source": [
    "user_input=\"sounds interesting, i'll get a break in about 30 mins\"\n",
    "processor.process_input(user_input, thread_id=\"1\", user_id=\"dev-user\")"
   ]
  },
  {
   "cell_type": "code",
   "execution_count": 6,
   "metadata": {},
   "outputs": [
    {
     "name": "stdout",
     "output_type": "stream",
     "text": [
      "=====> Supervisor Decision: pickedRoute='set_reminder' reason='The user has agreed to the activity and time, and the conversation has proceeded to the point where setting a reminder is the next logical step.' <=====\n",
      "<==== Setting reminder for activity='activity1' hour=16 minute=59\n",
      "You: yep\n",
      "Frienn: <set_reminder> activity1 at 17:00 </set_reminder> All set. Have a great break, and I'll catch up with you later. Take care.\n"
     ]
    }
   ],
   "source": [
    "user_input=\"yep\"\n",
    "processor.process_input(user_input, thread_id=\"1\", user_id=\"dev-user\")"
   ]
  },
  {
   "cell_type": "code",
   "execution_count": 7,
   "metadata": {},
   "outputs": [
    {
     "name": "stdout",
     "output_type": "stream",
     "text": [
      "=====> Supervisor Decision: pickedRoute='continue_chat' reason='The user has agreed to the planned activity and time, and has bid farewell, indicating no immediate need for crisis helpline or further discussion about the reminder.' <=====\n",
      "You: cool bye\n",
      "Frienn: Bye, take care.\n"
     ]
    }
   ],
   "source": [
    "user_input=\"cool bye\"\n",
    "processor.process_input(user_input, thread_id=\"1\", user_id=\"dev-user\")"
   ]
  },
  {
   "cell_type": "code",
   "execution_count": null,
   "metadata": {},
   "outputs": [],
   "source": [
    "user_input=\n",
    "processor.process_input(user_input, thread_id=\"1\", user_id=\"dev-user\")"
   ]
  },
  {
   "cell_type": "code",
   "execution_count": null,
   "metadata": {},
   "outputs": [],
   "source": []
  },
  {
   "cell_type": "code",
   "execution_count": null,
   "metadata": {},
   "outputs": [],
   "source": []
  },
  {
   "cell_type": "code",
   "execution_count": null,
   "metadata": {},
   "outputs": [],
   "source": []
  },
  {
   "cell_type": "code",
   "execution_count": null,
   "metadata": {},
   "outputs": [],
   "source": []
  },
  {
   "cell_type": "code",
   "execution_count": null,
   "metadata": {},
   "outputs": [],
   "source": []
  },
  {
   "cell_type": "code",
   "execution_count": null,
   "metadata": {},
   "outputs": [],
   "source": []
  },
  {
   "cell_type": "code",
   "execution_count": null,
   "metadata": {},
   "outputs": [],
   "source": []
  }
 ],
 "metadata": {
  "kernelspec": {
   "display_name": "sakha-env",
   "language": "python",
   "name": "python3"
  },
  "language_info": {
   "codemirror_mode": {
    "name": "ipython",
    "version": 3
   },
   "file_extension": ".py",
   "mimetype": "text/x-python",
   "name": "python",
   "nbconvert_exporter": "python",
   "pygments_lexer": "ipython3",
   "version": "3.12.8"
  },
  "orig_nbformat": 4,
  "vscode": {
   "interpreter": {
    "hash": "fe92ede66fbacaed253741073118c00559929976131b08e482b9b1b80c47130c"
   }
  }
 },
 "nbformat": 4,
 "nbformat_minor": 2
}
