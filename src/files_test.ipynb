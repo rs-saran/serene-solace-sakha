{
 "cells": [
  {
   "cell_type": "code",
   "execution_count": 1,
   "metadata": {},
   "outputs": [],
   "source": [
    "from conversation_graph import ConversationGraph, ConversationProcessor"
   ]
  },
  {
   "cell_type": "code",
   "execution_count": 2,
   "metadata": {},
   "outputs": [],
   "source": [
    "# Initialize the conversation graph and processor\n",
    "from utils import get_llm\n",
    "conversation_graph = ConversationGraph(llm=get_llm()).compile()\n",
    "processor = ConversationProcessor(conversation_graph)\n",
    "cs2 = conversation_graph.update_state(config={'configurable':{'thread_id':\"1\", 'user_id':\"dev-user\"}}, values = {'preferred_activities': [ 'walking'], 'flow':'activity_suggestion'})"
   ]
  },
  {
   "cell_type": "code",
   "execution_count": 3,
   "metadata": {},
   "outputs": [
    {
     "data": {
      "text/plain": [
       "StateSnapshot(values={'preferred_activities': ['walking'], 'flow': 'activity_suggestion'}, next=('Supervisor',), config={'configurable': {'thread_id': '1', 'checkpoint_ns': '', 'checkpoint_id': '1efec5e9-348c-6554-8000-08a727f6d265'}}, metadata={'thread_id': '1', 'user_id': 'dev-user', 'source': 'update', 'step': 0, 'writes': {'__start__': {'preferred_activities': ['walking'], 'flow': 'activity_suggestion'}}, 'parents': {}}, created_at='2025-02-16T12:07:21.387554+00:00', parent_config=None, tasks=(PregelTask(id='bbb50294-58b3-f5cc-e551-ab73ac4d12bc', name='Supervisor', path=('__pregel_pull', 'Supervisor'), error=None, interrupts=(), state=None, result=None),))"
      ]
     },
     "execution_count": 3,
     "metadata": {},
     "output_type": "execute_result"
    }
   ],
   "source": [
    "conversation_graph.get_state(config={'configurable':{'thread_id':\"1\", 'user_id':\"dev-user\"}})"
   ]
  },
  {
   "cell_type": "code",
   "execution_count": 4,
   "metadata": {},
   "outputs": [
    {
     "name": "stdout",
     "output_type": "stream",
     "text": [
      "=====> Supervisor Decision: pickedRoute='continue_chat' reason='The user has just initiated the conversation with a greeting, and there is no indication of harmful intentions or suicidal tendencies, so the normal chat route is the most appropriate choice.' <=====\n",
      "You: hi\n",
      "Frienn: Hello. I'm Frienn, your friendly companion. I'm here to listen, support, and suggest activities to help improve your mood. I'm a kind and empathetic virtual friend, designed to provide a comfortable and non-judgmental space for you to express yourself. I'll do my best to understand what you're going through and offer thoughtful suggestions to brighten your day. How are you feeling today?\n"
     ]
    }
   ],
   "source": [
    "user_input=\"hi\"\n",
    "processor.process_input(user_input, thread_id=\"1\", user_id=\"dev-user\")"
   ]
  },
  {
   "cell_type": "code",
   "execution_count": 5,
   "metadata": {},
   "outputs": [
    {
     "name": "stdout",
     "output_type": "stream",
     "text": [
      "=====> Supervisor Decision: pickedRoute='continue_chat' reason='The user is expressing feelings of being overwhelmed with work, which is a common stressor, but does not indicate suicidal tendencies or harmful behavior. The user can be assisted through normal chat to improve their mood.' <=====\n",
      "You: i'm overwhelmed with my work\n",
      "Frienn: That can be really tough. Would you like to take a break and go for a walk to clear your mind? Maybe we could plan a 30-minute walk, either now or at 6:00 PM?\n"
     ]
    }
   ],
   "source": [
    "user_input=\"i'm overwhelmed with my work\"\n",
    "processor.process_input(user_input, thread_id=\"1\", user_id=\"dev-user\")"
   ]
  },
  {
   "cell_type": "code",
   "execution_count": 6,
   "metadata": {},
   "outputs": [
    {
     "name": "stdout",
     "output_type": "stream",
     "text": [
      "=====> Supervisor Decision: pickedRoute='set_reminder' reason='The user has agreed to the suggested activity and time, so setting a reminder is the next logical step.' <=====\n",
      "<==== Setting reminder for activity='30-minute walk' hour=18 minute=0\n",
      "You: I would like that\n",
      "Frienn: Let's plan a 30-minute walk at 6:00 PM. Is that okay with you? \n",
      "<set_reminder>30-minute walk</set_reminder> at 6:00 PM until 6:30 PM</set_reminder>\n"
     ]
    }
   ],
   "source": [
    "user_input=\"I would like that\"\n",
    "processor.process_input(user_input, thread_id=\"1\", user_id=\"dev-user\")"
   ]
  },
  {
   "cell_type": "code",
   "execution_count": 7,
   "metadata": {},
   "outputs": [
    {
     "name": "stdout",
     "output_type": "stream",
     "text": [
      "=====> Supervisor Decision: pickedRoute='set_reminder' reason='The user agreed on both activity and time, which is a 30-minute walk at 6:00 PM.' <=====\n",
      "<==== Setting reminder for activity='30-minute walk' hour=18 minute=0\n",
      "You: sure\n",
      "Frienn: <set_reminder>30-minute walk</set_reminder> at 6:00 PM until 6:30 PM</set_reminder>. Have a great walk and feel better. Talk to you later.\n"
     ]
    }
   ],
   "source": [
    "user_input=\"sure\"\n",
    "processor.process_input(user_input, thread_id=\"1\", user_id=\"dev-user\")"
   ]
  },
  {
   "cell_type": "code",
   "execution_count": 8,
   "metadata": {},
   "outputs": [
    {
     "data": {
      "text/plain": [
       "{'exchange': 4,\n",
       " 'conversation_history': [HumanMessage(content='hi', additional_kwargs={}, response_metadata={}),\n",
       "  AIMessage(content=\"Hello. I'm Frienn, your friendly companion. I'm here to listen, support, and suggest activities to help improve your mood. I'm a kind and empathetic virtual friend, designed to provide a comfortable and non-judgmental space for you to express yourself. I'll do my best to understand what you're going through and offer thoughtful suggestions to brighten your day. How are you feeling today?\", additional_kwargs={}, response_metadata={}),\n",
       "  HumanMessage(content=\"i'm overwhelmed with my work\", additional_kwargs={}, response_metadata={}),\n",
       "  AIMessage(content='That can be really tough. Would you like to take a break and go for a walk to clear your mind? Maybe we could plan a 30-minute walk, either now or at 6:00 PM?', additional_kwargs={}, response_metadata={}),\n",
       "  HumanMessage(content='I would like that', additional_kwargs={}, response_metadata={}),\n",
       "  AIMessage(content=\"Let's plan a 30-minute walk at 6:00 PM. Is that okay with you? \\n<set_reminder>30-minute walk</set_reminder> at 6:00 PM until 6:30 PM</set_reminder>\", additional_kwargs={}, response_metadata={}),\n",
       "  HumanMessage(content='sure', additional_kwargs={}, response_metadata={}),\n",
       "  AIMessage(content='<set_reminder>30-minute walk</set_reminder> at 6:00 PM until 6:30 PM</set_reminder>. Have a great walk and feel better. Talk to you later.', additional_kwargs={}, response_metadata={})],\n",
       " 'preferred_activities': ['walking'],\n",
       " 'user_input': 'sure',\n",
       " 'supervisor_response': SupervisorResponse(pickedRoute='set_reminder', reason='The user agreed on both activity and time, which is a 30-minute walk at 6:00 PM.'),\n",
       " 'flow': 'activity_suggestion'}"
      ]
     },
     "execution_count": 8,
     "metadata": {},
     "output_type": "execute_result"
    }
   ],
   "source": [
    "conversation_graph.get_state(config={'configurable':{'thread_id':\"1\", 'user_id':\"dev-user\"}}).values"
   ]
  },
  {
   "cell_type": "code",
   "execution_count": 9,
   "metadata": {},
   "outputs": [],
   "source": [
    "cs3 = conversation_graph.update_state(config={'configurable':{'thread_id':\"1\", 'user_id':\"dev-user\"}}, values = {'flow':'reminder', 'exchange':0})"
   ]
  },
  {
   "cell_type": "code",
   "execution_count": 10,
   "metadata": {},
   "outputs": [
    {
     "name": "stdout",
     "output_type": "stream",
     "text": [
      "=====> Supervisor Decision: pickedRoute='continue_chat' reason='The user has already agreed on a mood improvement activity and a reminder has been set. There is no indication of harmful intentions or suicidal tendencies, so the conversation can proceed with the normal chat route.' <=====\n",
      "You: \n",
      "Frienn: It's 6:00 PM. Time for your 30-minute walk. You got this! Take a deep breath, get moving, and let the fresh air clear your mind. You'll feel more relaxed and focused after this. Go for it!\n"
     ]
    }
   ],
   "source": [
    "user_input=\"\"\n",
    "processor.process_input(user_input, thread_id=\"1\", user_id=\"dev-user\")"
   ]
  },
  {
   "cell_type": "code",
   "execution_count": 11,
   "metadata": {},
   "outputs": [
    {
     "name": "stdout",
     "output_type": "stream",
     "text": [
      "=====> Supervisor Decision: pickedRoute='continue_chat' reason='The user is expressing a normal struggle with motivation and workload, and does not indicate any suicidal tendencies or harmful behavior, so the conversation can continue with the assistant bot to help improve their mood.' <=====\n",
      "You: i don't feel like it, i'm yet to complete my work\n",
      "Frienn: Just 30 minutes. It'll refresh you and help you focus on your work afterwards. Why not listen to your favorite music or podcast while you walk?\n"
     ]
    }
   ],
   "source": [
    "user_input=\"i don't feel like it, i'm yet to complete my work\"\n",
    "processor.process_input(user_input, thread_id=\"1\", user_id=\"dev-user\")"
   ]
  },
  {
   "cell_type": "code",
   "execution_count": 12,
   "metadata": {},
   "outputs": [
    {
     "name": "stdout",
     "output_type": "stream",
     "text": [
      "=====> Supervisor Decision: pickedRoute='continue_chat' reason='The user has agreed to go for the walk, indicating a willingness to engage in a mood improvement activity, and there is no indication of harmful intentions or suicidal tendencies.' <=====\n",
      "You: fine i'll go\n",
      "Frienn: You're taking the first step. Take your phone and listen to your favorite music or podcast while you walk. It'll make the time pass more enjoyably. You got this!\n"
     ]
    }
   ],
   "source": [
    "user_input=\"fine i'll go\"\n",
    "processor.process_input(user_input, thread_id=\"1\", user_id=\"dev-user\")"
   ]
  },
  {
   "cell_type": "code",
   "execution_count": 13,
   "metadata": {},
   "outputs": [
    {
     "data": {
      "text/plain": [
       "{'exchange': 0,\n",
       " 'conversation_history': [HumanMessage(content='hi', additional_kwargs={}, response_metadata={}),\n",
       "  AIMessage(content=\"Hello. I'm Frienn, your friendly companion. I'm here to listen, support, and suggest activities to help improve your mood. I'm a kind and empathetic virtual friend, designed to provide a comfortable and non-judgmental space for you to express yourself. I'll do my best to understand what you're going through and offer thoughtful suggestions to brighten your day. How are you feeling today?\", additional_kwargs={}, response_metadata={}),\n",
       "  HumanMessage(content=\"i'm overwhelmed with my work\", additional_kwargs={}, response_metadata={}),\n",
       "  AIMessage(content='That can be really tough. Would you like to take a break and go for a walk to clear your mind? Maybe we could plan a 30-minute walk, either now or at 6:00 PM?', additional_kwargs={}, response_metadata={}),\n",
       "  HumanMessage(content='I would like that', additional_kwargs={}, response_metadata={}),\n",
       "  AIMessage(content=\"Let's plan a 30-minute walk at 6:00 PM. Is that okay with you? \\n<set_reminder>30-minute walk</set_reminder> at 6:00 PM until 6:30 PM</set_reminder>\", additional_kwargs={}, response_metadata={}),\n",
       "  HumanMessage(content='sure', additional_kwargs={}, response_metadata={}),\n",
       "  AIMessage(content='<set_reminder>30-minute walk</set_reminder> at 6:00 PM until 6:30 PM</set_reminder>. Have a great walk and feel better. Talk to you later.', additional_kwargs={}, response_metadata={}),\n",
       "  HumanMessage(content='', additional_kwargs={}, response_metadata={}),\n",
       "  AIMessage(content=\"It's 6:00 PM. Time for your 30-minute walk. You got this! Take a deep breath, get moving, and let the fresh air clear your mind. You'll feel more relaxed and focused after this. Go for it!\", additional_kwargs={}, response_metadata={}),\n",
       "  HumanMessage(content=\"i don't feel like it, i'm yet to complete my work\", additional_kwargs={}, response_metadata={}),\n",
       "  AIMessage(content=\"Just 30 minutes. It'll refresh you and help you focus on your work afterwards. Why not listen to your favorite music or podcast while you walk?\", additional_kwargs={}, response_metadata={}),\n",
       "  HumanMessage(content=\"fine i'll go\", additional_kwargs={}, response_metadata={}),\n",
       "  AIMessage(content=\"You're taking the first step. Take your phone and listen to your favorite music or podcast while you walk. It'll make the time pass more enjoyably. You got this!\", additional_kwargs={}, response_metadata={})],\n",
       " 'preferred_activities': ['walking'],\n",
       " 'user_input': \"fine i'll go\",\n",
       " 'supervisor_response': SupervisorResponse(pickedRoute='continue_chat', reason='The user has agreed to go for the walk, indicating a willingness to engage in a mood improvement activity, and there is no indication of harmful intentions or suicidal tendencies.'),\n",
       " 'flow': 'follow-up'}"
      ]
     },
     "execution_count": 13,
     "metadata": {},
     "output_type": "execute_result"
    }
   ],
   "source": [
    "cs3 = conversation_graph.update_state(config={'configurable':{'thread_id':\"1\", 'user_id':\"dev-user\"}}, values = {'flow':'follow-up', 'exchange':0})\n",
    "conversation_graph.get_state(config={'configurable':{'thread_id':\"1\", 'user_id':\"dev-user\"}}).values"
   ]
  },
  {
   "cell_type": "code",
   "execution_count": 14,
   "metadata": {},
   "outputs": [
    {
     "name": "stdout",
     "output_type": "stream",
     "text": [
      "=====> Supervisor Decision: pickedRoute='continue_chat' reason='The user has agreed to go for a walk and the conversation is proceeding in a positive direction, with no indication of harmful intentions or suicidal tendencies.' <=====\n",
      "You: \n",
      "Frienn: You went for a walk. How was it? Did it help you feel better and more focused on your work?\n"
     ]
    }
   ],
   "source": [
    "user_input=\"\"\n",
    "processor.process_input(user_input, thread_id=\"1\", user_id=\"dev-user\")"
   ]
  },
  {
   "cell_type": "code",
   "execution_count": 15,
   "metadata": {},
   "outputs": [
    {
     "name": "stdout",
     "output_type": "stream",
     "text": [
      "=====> Supervisor Decision: pickedRoute='continue_chat' reason=\"The user is currently in the middle of a walk and has not expressed any harmful intentions or suicidal tendencies, so it's best to continue the chat and check in with them after they've completed their walk.\" <=====\n",
      "You: I'm yet to complete my walk 5 more mins\n",
      "Frienn: You're almost done. Just 5 more minutes, you can do it. Take a few deep breaths and enjoy the last bit of your walk. I'll check in with you after you're done.\n"
     ]
    }
   ],
   "source": [
    "user_input=\"I'm yet to complete my walk 5 more mins\"\n",
    "processor.process_input(user_input, thread_id=\"1\", user_id=\"dev-user\")"
   ]
  },
  {
   "cell_type": "code",
   "execution_count": 16,
   "metadata": {},
   "outputs": [
    {
     "name": "stdout",
     "output_type": "stream",
     "text": [
      "=====> Supervisor Decision: pickedRoute='continue_chat' reason=\"The user has completed their walk and there is no indication of harmful intentions or suicidal tendencies, so it's best to continue the chat to further improve their mood.\" <=====\n",
      "You: Now I'm done!\n",
      "Frienn: How was your walk? Did it help you clear your mind and feel better?\n"
     ]
    }
   ],
   "source": [
    "user_input=\"Now I'm done!\"\n",
    "processor.process_input(user_input, thread_id=\"1\", user_id=\"dev-user\")"
   ]
  },
  {
   "cell_type": "code",
   "execution_count": 17,
   "metadata": {},
   "outputs": [
    {
     "name": "stdout",
     "output_type": "stream",
     "text": [
      "=====> Supervisor Decision: pickedRoute='continue_chat' reason='The user has just finished their walk and is responding to the question about how it helped them, indicating they are engaging in the conversation and there is no indication of harmful intentions or suicidal tendencies.' <=====\n",
      "You: A liitle\n",
      "Frienn: A little is a good start. Would you like to walk again sometime soon to see if it helps even more?\n"
     ]
    }
   ],
   "source": [
    "user_input=\"A liitle\"\n",
    "processor.process_input(user_input, thread_id=\"1\", user_id=\"dev-user\")"
   ]
  },
  {
   "cell_type": "code",
   "execution_count": 18,
   "metadata": {},
   "outputs": [
    {
     "name": "stdout",
     "output_type": "stream",
     "text": [
      "=====> Supervisor Decision: pickedRoute='continue_chat' reason='The user has expressed a simple decline for walking again today, but has not shown any harmful intentions or suicidal tendencies, so the conversation can continue in the normal chat route.' <=====\n",
      "You: not today\n",
      "Frienn: That's okay. Maybe some other time then. How are you feeling now compared to before the walk?\n"
     ]
    }
   ],
   "source": [
    "user_input=\"not today\"\n",
    "processor.process_input(user_input, thread_id=\"1\", user_id=\"dev-user\")"
   ]
  },
  {
   "cell_type": "code",
   "execution_count": 19,
   "metadata": {},
   "outputs": [
    {
     "name": "stdout",
     "output_type": "stream",
     "text": [
      "=====> Supervisor Decision: pickedRoute='continue_chat' reason='The user is feeling a little refreshed, indicating a positive shift in their mood, and there is no indication of harmful intentions or suicidal tendencies.' <=====\n",
      "You: A little refreshed\n",
      "Frienn: Glad to hear that. The walk helped a bit. What do you think you'll do next to relax?\n"
     ]
    }
   ],
   "source": [
    "user_input=\"A little refreshed\"\n",
    "processor.process_input(user_input, thread_id=\"1\", user_id=\"dev-user\")"
   ]
  },
  {
   "cell_type": "code",
   "execution_count": 20,
   "metadata": {},
   "outputs": [
    {
     "name": "stdout",
     "output_type": "stream",
     "text": [
      "=====> Supervisor Decision: pickedRoute='continue_chat' reason='The user is discussing a normal activity to relax, which is watching a movie, and does not indicate any harmful intentions or suicidal tendencies.' <=====\n",
      "You: maybe a movie?\n",
      "Frienn: What kind of movie are you in the mood for?\n"
     ]
    }
   ],
   "source": [
    "user_input=\"maybe a movie?\"\n",
    "processor.process_input(user_input, thread_id=\"1\", user_id=\"dev-user\")"
   ]
  },
  {
   "cell_type": "code",
   "execution_count": 21,
   "metadata": {},
   "outputs": [
    {
     "name": "stdout",
     "output_type": "stream",
     "text": [
      "=====> Supervisor Decision: pickedRoute='continue_chat' reason=\"The user is not expressing any harmful intentions or suicidal tendencies, and the conversation is still in the mood improvement topic, so it's best to continue the chat to help the user relax and improve their mood.\" <=====\n",
      "You: not now\n",
      "Frienn: We can catch up later then. Feel better and have a great evening.\n"
     ]
    }
   ],
   "source": [
    "user_input=\"not now\"\n",
    "processor.process_input(user_input, thread_id=\"1\", user_id=\"dev-user\")"
   ]
  },
  {
   "cell_type": "code",
   "execution_count": 22,
   "metadata": {},
   "outputs": [
    {
     "name": "stdout",
     "output_type": "stream",
     "text": [
      "=====> Supervisor Decision: pickedRoute='continue_chat' reason=\"The user's input 'bye' indicates a conclusion to the conversation, but since there's no indication of harm or suicidal tendencies, the continue_chat route is the most suitable to handle the farewell message and potentially allow for future conversations.\" <=====\n",
      "You: bye\n",
      "Frienn: Bye, take care and have a great evening.\n"
     ]
    }
   ],
   "source": [
    "user_input=\"bye\"\n",
    "processor.process_input(user_input, thread_id=\"1\", user_id=\"dev-user\")"
   ]
  },
  {
   "cell_type": "code",
   "execution_count": null,
   "metadata": {},
   "outputs": [],
   "source": []
  }
 ],
 "metadata": {
  "kernelspec": {
   "display_name": "sakha-env",
   "language": "python",
   "name": "python3"
  },
  "language_info": {
   "codemirror_mode": {
    "name": "ipython",
    "version": 3
   },
   "file_extension": ".py",
   "mimetype": "text/x-python",
   "name": "python",
   "nbconvert_exporter": "python",
   "pygments_lexer": "ipython3",
   "version": "3.12.8"
  },
  "orig_nbformat": 4,
  "vscode": {
   "interpreter": {
    "hash": "fe92ede66fbacaed253741073118c00559929976131b08e482b9b1b80c47130c"
   }
  }
 },
 "nbformat": 4,
 "nbformat_minor": 2
}
