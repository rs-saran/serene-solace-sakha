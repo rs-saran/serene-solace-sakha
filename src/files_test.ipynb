{
 "cells": [
  {
   "cell_type": "code",
   "execution_count": 1,
   "metadata": {},
   "outputs": [],
   "source": [
    "from conversation_graph import ConversationGraph, ConversationProcessor"
   ]
  },
  {
   "cell_type": "code",
   "execution_count": 2,
   "metadata": {},
   "outputs": [],
   "source": [
    "# Initialize the conversation graph and processor\n",
    "from utils import get_llm\n",
    "conversation_graph = ConversationGraph(llm=get_llm()).compile()\n",
    "processor = ConversationProcessor(conversation_graph)\n",
    "cs2 = conversation_graph.update_state(config={'configurable':{'thread_id':\"1\", 'user_id':\"dev-user\"}}, values = {'preferred_activities': [ 'walking'], 'flow':'activity_suggestion'})"
   ]
  },
  {
   "cell_type": "code",
   "execution_count": 3,
   "metadata": {},
   "outputs": [
    {
     "data": {
      "text/plain": [
       "StateSnapshot(values={'preferred_activities': ['walking'], 'flow': 'activity_suggestion'}, next=('Supervisor',), config={'configurable': {'thread_id': '1', 'checkpoint_ns': '', 'checkpoint_id': '1efece2a-24f1-6518-8000-75300959bf0f'}}, metadata={'thread_id': '1', 'user_id': 'dev-user', 'source': 'update', 'step': 0, 'writes': {'__start__': {'preferred_activities': ['walking'], 'flow': 'activity_suggestion'}}, 'parents': {}}, created_at='2025-02-17T03:52:40.163048+00:00', parent_config=None, tasks=(PregelTask(id='50c2db8f-8bfb-56c5-11fd-9102f980e736', name='Supervisor', path=('__pregel_pull', 'Supervisor'), error=None, interrupts=(), state=None, result=None),))"
      ]
     },
     "execution_count": 3,
     "metadata": {},
     "output_type": "execute_result"
    }
   ],
   "source": [
    "conversation_graph.get_state(config={'configurable':{'thread_id':\"1\", 'user_id':\"dev-user\"}})"
   ]
  },
  {
   "cell_type": "code",
   "execution_count": 4,
   "metadata": {},
   "outputs": [
    {
     "name": "stdout",
     "output_type": "stream",
     "text": [
      "=====> Supervisor Decision: pickedRoute='continue_chat' reason='user input is a greeting, no indication of crisis or harmful intentions' <=====\n",
      "You: hi\n",
      "Frienn: I'm Frienn, nice to meet you. How's your day going so far?\n"
     ]
    }
   ],
   "source": [
    "user_input=\"hi\"\n",
    "processor.process_input(user_input, thread_id=\"1\", user_id=\"dev-user\")"
   ]
  },
  {
   "cell_type": "code",
   "execution_count": 5,
   "metadata": {},
   "outputs": [
    {
     "name": "stdout",
     "output_type": "stream",
     "text": [
      "=====> Supervisor Decision: pickedRoute='continue_chat' reason='User is overwhelmed with work, but no indication of suicidal tendencies or harmful behavior.' <=====\n",
      "You: i'm overwhelmed with my work\n",
      "Frienn: That can be really stressful. Would you like to take a short walk to clear your mind? We could plan one for 15 minutes, now or later?\n"
     ]
    }
   ],
   "source": [
    "user_input=\"i'm overwhelmed with my work\"\n",
    "processor.process_input(user_input, thread_id=\"1\", user_id=\"dev-user\")"
   ]
  },
  {
   "cell_type": "code",
   "execution_count": 6,
   "metadata": {},
   "outputs": [
    {
     "name": "stdout",
     "output_type": "stream",
     "text": [
      "=====> Supervisor Decision: pickedRoute='continue_chat' reason='user agreed to take a short walk to clear their mind, no indication of suicidal tendencies or harmful behavior' <=====\n",
      "You: I would like that\n",
      "Frienn: Let's plan a 15-minute walk for now. We can schedule it from 9:25 to 9:40. \n",
      "<set_reminder> walking at 09:25 until 09:40</set_reminder>\n",
      "Feel better soon. Have a great walk!\n"
     ]
    }
   ],
   "source": [
    "user_input=\"I would like that\"\n",
    "processor.process_input(user_input, thread_id=\"1\", user_id=\"dev-user\")"
   ]
  },
  {
   "cell_type": "code",
   "execution_count": 7,
   "metadata": {},
   "outputs": [
    {
     "name": "stdout",
     "output_type": "stream",
     "text": [
      "=====> Supervisor Decision: pickedRoute='continue_chat' reason=\"user has agreed to the planned walk and doesn't show signs of crisis or harmful behavior\" <=====\n",
      "You: sure\n",
      "Frienn: I'll check in with you after your walk. How are you feeling now?\n"
     ]
    }
   ],
   "source": [
    "user_input=\"sure\"\n",
    "processor.process_input(user_input, thread_id=\"1\", user_id=\"dev-user\")"
   ]
  },
  {
   "cell_type": "code",
   "execution_count": 8,
   "metadata": {},
   "outputs": [
    {
     "data": {
      "text/plain": [
       "{'exchange': 4,\n",
       " 'conversation_history': [HumanMessage(content='hi', additional_kwargs={}, response_metadata={}),\n",
       "  AIMessage(content=\"I'm Frienn, nice to meet you. How's your day going so far?\", additional_kwargs={}, response_metadata={}),\n",
       "  HumanMessage(content=\"i'm overwhelmed with my work\", additional_kwargs={}, response_metadata={}),\n",
       "  AIMessage(content='That can be really stressful. Would you like to take a short walk to clear your mind? We could plan one for 15 minutes, now or later?', additional_kwargs={}, response_metadata={}),\n",
       "  HumanMessage(content='I would like that', additional_kwargs={}, response_metadata={}),\n",
       "  AIMessage(content=\"Let's plan a 15-minute walk for now. We can schedule it from 9:25 to 9:40. \\n<set_reminder> walking at 09:25 until 09:40</set_reminder>\\nFeel better soon. Have a great walk!\", additional_kwargs={}, response_metadata={}),\n",
       "  HumanMessage(content='sure', additional_kwargs={}, response_metadata={}),\n",
       "  AIMessage(content=\"I'll check in with you after your walk. How are you feeling now?\", additional_kwargs={}, response_metadata={})],\n",
       " 'preferred_activities': ['walking'],\n",
       " 'user_input': 'sure',\n",
       " 'supervisor_response': SupervisorResponse(pickedRoute='continue_chat', reason=\"user has agreed to the planned walk and doesn't show signs of crisis or harmful behavior\"),\n",
       " 'flow': 'activity_suggestion'}"
      ]
     },
     "execution_count": 8,
     "metadata": {},
     "output_type": "execute_result"
    }
   ],
   "source": [
    "conversation_graph.get_state(config={'configurable':{'thread_id':\"1\", 'user_id':\"dev-user\"}}).values"
   ]
  },
  {
   "cell_type": "code",
   "execution_count": 9,
   "metadata": {},
   "outputs": [],
   "source": [
    "cs3 = conversation_graph.update_state(config={'configurable':{'thread_id':\"1\", 'user_id':\"dev-user\"}}, values = {'flow':'reminder', 'exchange':0})"
   ]
  },
  {
   "cell_type": "code",
   "execution_count": 10,
   "metadata": {},
   "outputs": [
    {
     "name": "stdout",
     "output_type": "stream",
     "text": [
      "=====> Supervisor Decision: pickedRoute='continue_chat' reason='no harmful intentions or suicidal tendencies mentioned in the conversation so far' <=====\n",
      "You: \n",
      "Frienn: It's 9:25, time for your walk. Get some fresh air, take a break, and refresh your mind. You got this!\n"
     ]
    }
   ],
   "source": [
    "user_input=\"\"\n",
    "processor.process_input(user_input, thread_id=\"1\", user_id=\"dev-user\")"
   ]
  },
  {
   "cell_type": "code",
   "execution_count": 11,
   "metadata": {},
   "outputs": [
    {
     "name": "stdout",
     "output_type": "stream",
     "text": [
      "=====> Supervisor Decision: pickedRoute='continue_chat' reason='user is expressing reluctance due to work but no indication of crisis or harmful behavior' <=====\n",
      "You: i don't feel like it, i'm yet to complete my work\n",
      "Frienn: Even 5 minutes of fresh air can help. Why not make it more fun? Listen to your favorite song or podcast while you walk?\n"
     ]
    }
   ],
   "source": [
    "user_input=\"i don't feel like it, i'm yet to complete my work\"\n",
    "processor.process_input(user_input, thread_id=\"1\", user_id=\"dev-user\")"
   ]
  },
  {
   "cell_type": "code",
   "execution_count": 11,
   "metadata": {},
   "outputs": [
    {
     "name": "stdout",
     "output_type": "stream",
     "text": [
      "=====> Supervisor Decision: pickedRoute='continue_chat' reason=\"The user has started their walk and there's no indication of crisis or harmful behavior, so the conversation can proceed with the normal chat route to continue supporting their mood improvement.\" <=====\n",
      "You: sure, i'm starting now\n",
      "Frienn: Have a great walk. Take your time and breathe in the fresh air. I'll be here when you get back.\n"
     ]
    }
   ],
   "source": [
    "user_input=\"sure, i'm starting now\"\n",
    "processor.process_input(user_input, thread_id=\"1\", user_id=\"dev-user\")"
   ]
  },
  {
   "cell_type": "code",
   "execution_count": 12,
   "metadata": {},
   "outputs": [
    {
     "data": {
      "text/plain": [
       "{'exchange': 0,\n",
       " 'conversation_history': [HumanMessage(content='hi', additional_kwargs={}, response_metadata={}),\n",
       "  AIMessage(content=\"Hi, I'm Frienn, nice to meet you. How's your day going so far?\", additional_kwargs={}, response_metadata={}),\n",
       "  HumanMessage(content=\"i'm overwhelmed with my work\", additional_kwargs={}, response_metadata={}),\n",
       "  AIMessage(content='That can be really tough. Would you like to take a short walk to clear your mind? We could plan for 30 minutes, say around 9:30?', additional_kwargs={}, response_metadata={}),\n",
       "  HumanMessage(content='I would like that', additional_kwargs={}, response_metadata={}),\n",
       "  AIMessage(content=\"I'm glad you're up for a walk. So, we've got a 30-minute walk planned for 9:30. I'll set a reminder for you. \\n<set_reminder> walking at 09:30 until 10:00</set_reminder>\\nFeel better soon. Take care!\", additional_kwargs={}, response_metadata={}),\n",
       "  HumanMessage(content='sure', additional_kwargs={}, response_metadata={}),\n",
       "  AIMessage(content=\"You've got a walk planned for 9:30. I'll let you get ready. Have a great walk and I'll catch up with you later to see how it went. Take care!\", additional_kwargs={}, response_metadata={}),\n",
       "  HumanMessage(content='', additional_kwargs={}, response_metadata={}),\n",
       "  AIMessage(content=\"It's 9:30, time for your walk. Get moving, fresh air awaits! You got this!\", additional_kwargs={}, response_metadata={}),\n",
       "  HumanMessage(content=\"sure, i'm starting now\", additional_kwargs={}, response_metadata={}),\n",
       "  AIMessage(content=\"Have a great walk. Take your time and breathe in the fresh air. I'll be here when you get back.\", additional_kwargs={}, response_metadata={})],\n",
       " 'preferred_activities': ['walking'],\n",
       " 'user_input': \"sure, i'm starting now\",\n",
       " 'supervisor_response': SupervisorResponse(pickedRoute='continue_chat', reason=\"The user has started their walk and there's no indication of crisis or harmful behavior, so the conversation can proceed with the normal chat route to continue supporting their mood improvement.\"),\n",
       " 'flow': 'follow-up'}"
      ]
     },
     "execution_count": 12,
     "metadata": {},
     "output_type": "execute_result"
    }
   ],
   "source": [
    "cs3 = conversation_graph.update_state(config={'configurable':{'thread_id':\"1\", 'user_id':\"dev-user\"}}, values = {'flow':'follow-up', 'exchange':0})\n",
    "conversation_graph.get_state(config={'configurable':{'thread_id':\"1\", 'user_id':\"dev-user\"}}).values"
   ]
  },
  {
   "cell_type": "code",
   "execution_count": 13,
   "metadata": {},
   "outputs": [
    {
     "name": "stdout",
     "output_type": "stream",
     "text": [
      "=====> Supervisor Decision: pickedRoute='continue_chat' reason='The user has just started their walk and the conversation is proceeding normally, with no indication of crisis or harmful intentions.' <=====\n",
      "You: \n",
      "Frienn: You're back from your walk. How did it go? Did you feel any better after getting some fresh air?\n"
     ]
    }
   ],
   "source": [
    "user_input=\"\"\n",
    "processor.process_input(user_input, thread_id=\"1\", user_id=\"dev-user\")"
   ]
  },
  {
   "cell_type": "code",
   "execution_count": 14,
   "metadata": {},
   "outputs": [
    {
     "name": "stdout",
     "output_type": "stream",
     "text": [
      "=====> Supervisor Decision: pickedRoute='continue_chat' reason='The user is yet to complete their walk and has not expressed any harmful intentions or suicidal tendencies, so continuing the chat to support their mood improvement activity is the best route.' <=====\n",
      "You: I'm yet to complete my walk\n",
      "Frienn: You're still walking. Take your time, enjoy the fresh air, and don't rush. I'll be here when you're done.\n"
     ]
    }
   ],
   "source": [
    "user_input=\"I'm yet to complete my walk\"\n",
    "processor.process_input(user_input, thread_id=\"1\", user_id=\"dev-user\")"
   ]
  },
  {
   "cell_type": "code",
   "execution_count": 15,
   "metadata": {},
   "outputs": [
    {
     "name": "stdout",
     "output_type": "stream",
     "text": [
      "=====> Supervisor Decision: pickedRoute='continue_chat' reason='The user has completed their walk and is ready to continue the conversation, with no indication of harmful intentions or suicidal tendencies.' <=====\n",
      "You: Now I'm done!\n",
      "Frienn: How was your walk? Did it help clear your mind a bit?\n"
     ]
    }
   ],
   "source": [
    "user_input=\"Now I'm done!\"\n",
    "processor.process_input(user_input, thread_id=\"1\", user_id=\"dev-user\")"
   ]
  },
  {
   "cell_type": "code",
   "execution_count": 16,
   "metadata": {},
   "outputs": [
    {
     "name": "stdout",
     "output_type": "stream",
     "text": [
      "=====> Supervisor Decision: pickedRoute='continue_chat' reason=\"The user's response indicates a slight improvement in their mood after the walk, and there is no indication of harmful intentions or suicidal tendencies, so the conversation can proceed with the normal chat route to further assist the user in improving their mood.\" <=====\n",
      "You: A liitle\n",
      "Frienn: Glad to hear that! Even a little help can make a difference. Would you like to do something else to lift your mood?\n"
     ]
    }
   ],
   "source": [
    "user_input=\"A liitle\"\n",
    "processor.process_input(user_input, thread_id=\"1\", user_id=\"dev-user\")"
   ]
  },
  {
   "cell_type": "code",
   "execution_count": 17,
   "metadata": {},
   "outputs": [
    {
     "name": "stdout",
     "output_type": "stream",
     "text": [
      "=====> Supervisor Decision: pickedRoute='continue_chat' reason=\"The user responded with 'not now' which indicates they are not in a crisis and are not ready to engage in another mood improvement activity at the moment, so continuing the chat is the best route to proceed.\" <=====\n",
      "You: not now\n",
      "Frienn: It's okay, take your time. Feel better soon. Bye for now!\n"
     ]
    }
   ],
   "source": [
    "user_input=\"not now\"\n",
    "processor.process_input(user_input, thread_id=\"1\", user_id=\"dev-user\")"
   ]
  },
  {
   "cell_type": "code",
   "execution_count": 19,
   "metadata": {},
   "outputs": [
    {
     "name": "stdout",
     "output_type": "stream",
     "text": [
      "=====> Supervisor Decision: pickedRoute='continue_chat' reason='The user is feeling a little refreshed, indicating a positive shift in their mood, and there is no indication of harmful intentions or suicidal tendencies.' <=====\n",
      "You: A little refreshed\n",
      "Frienn: Glad to hear that. The walk helped a bit. What do you think you'll do next to relax?\n"
     ]
    }
   ],
   "source": [
    "user_input=\"A little refreshed\"\n",
    "processor.process_input(user_input, thread_id=\"1\", user_id=\"dev-user\")"
   ]
  },
  {
   "cell_type": "code",
   "execution_count": 20,
   "metadata": {},
   "outputs": [
    {
     "name": "stdout",
     "output_type": "stream",
     "text": [
      "=====> Supervisor Decision: pickedRoute='continue_chat' reason='The user is discussing a normal activity to relax, which is watching a movie, and does not indicate any harmful intentions or suicidal tendencies.' <=====\n",
      "You: maybe a movie?\n",
      "Frienn: What kind of movie are you in the mood for?\n"
     ]
    }
   ],
   "source": [
    "user_input=\"maybe a movie?\"\n",
    "processor.process_input(user_input, thread_id=\"1\", user_id=\"dev-user\")"
   ]
  },
  {
   "cell_type": "code",
   "execution_count": 21,
   "metadata": {},
   "outputs": [
    {
     "name": "stdout",
     "output_type": "stream",
     "text": [
      "=====> Supervisor Decision: pickedRoute='continue_chat' reason=\"The user is not expressing any harmful intentions or suicidal tendencies, and the conversation is still in the mood improvement topic, so it's best to continue the chat to help the user relax and improve their mood.\" <=====\n",
      "You: not now\n",
      "Frienn: We can catch up later then. Feel better and have a great evening.\n"
     ]
    }
   ],
   "source": [
    "user_input=\"not now\"\n",
    "processor.process_input(user_input, thread_id=\"1\", user_id=\"dev-user\")"
   ]
  },
  {
   "cell_type": "code",
   "execution_count": 22,
   "metadata": {},
   "outputs": [
    {
     "name": "stdout",
     "output_type": "stream",
     "text": [
      "=====> Supervisor Decision: pickedRoute='continue_chat' reason=\"The user's input 'bye' indicates a conclusion to the conversation, but since there's no indication of harm or suicidal tendencies, the continue_chat route is the most suitable to handle the farewell message and potentially allow for future conversations.\" <=====\n",
      "You: bye\n",
      "Frienn: Bye, take care and have a great evening.\n"
     ]
    },
    {
     "ename": "",
     "evalue": "",
     "output_type": "error",
     "traceback": [
      "\u001b[1;31mThe Kernel crashed while executing code in the the current cell or a previous cell. Please review the code in the cell(s) to identify a possible cause of the failure. Click <a href='https://aka.ms/vscodeJupyterKernelCrash'>here</a> for more info. View Jupyter <a href='command:jupyter.viewOutput'>log</a> for further details."
     ]
    }
   ],
   "source": [
    "user_input=\"bye\"\n",
    "processor.process_input(user_input, thread_id=\"1\", user_id=\"dev-user\")"
   ]
  },
  {
   "cell_type": "code",
   "execution_count": null,
   "metadata": {},
   "outputs": [],
   "source": []
  }
 ],
 "metadata": {
  "kernelspec": {
   "display_name": "sakha-env",
   "language": "python",
   "name": "python3"
  },
  "language_info": {
   "codemirror_mode": {
    "name": "ipython",
    "version": 3
   },
   "file_extension": ".py",
   "mimetype": "text/x-python",
   "name": "python",
   "nbconvert_exporter": "python",
   "pygments_lexer": "ipython3",
   "version": "3.12.8"
  },
  "orig_nbformat": 4,
  "vscode": {
   "interpreter": {
    "hash": "fe92ede66fbacaed253741073118c00559929976131b08e482b9b1b80c47130c"
   }
  }
 },
 "nbformat": 4,
 "nbformat_minor": 2
}
