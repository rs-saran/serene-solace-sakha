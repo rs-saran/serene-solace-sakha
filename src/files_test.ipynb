{
 "cells": [
  {
   "cell_type": "code",
   "execution_count": 1,
   "metadata": {},
   "outputs": [],
   "source": [
    "from conversation_graph import ConversationGraph, ConversationProcessor"
   ]
  },
  {
   "cell_type": "code",
   "execution_count": 2,
   "metadata": {},
   "outputs": [],
   "source": [
    "# Initialize the conversation graph and processor\n",
    "from utils import get_llm\n",
    "conversation_graph = ConversationGraph(llm=get_llm()).compile()\n",
    "processor = ConversationProcessor(conversation_graph)"
   ]
  },
  {
   "cell_type": "code",
   "execution_count": 3,
   "metadata": {},
   "outputs": [
    {
     "name": "stdout",
     "output_type": "stream",
     "text": [
      "=====> Supervisor Decision: pickedRoute='continue_chat' reason='The user has just initiated the conversation with a greeting, and there is no indication of harmful intentions or suicidal tendencies, so the normal chat route is the most suitable choice.' <=====\n",
      "You: hi\n",
      "Frienn: Hello. I'm Frienn, your virtual companion. I'm here to listen, support, and suggest activities to help improve your mood. I'm designed to be empathetic, respectful, and friendly. I'll do my best to understand how you're feeling and offer thoughtful suggestions to help you feel better. How are you doing today?\n"
     ]
    }
   ],
   "source": [
    "user_input=\"hi\"\n",
    "processor.process_input(user_input, thread_id=\"1\", user_id=\"dev-user\")"
   ]
  },
  {
   "cell_type": "code",
   "execution_count": 5,
   "metadata": {},
   "outputs": [
    {
     "name": "stdout",
     "output_type": "stream",
     "text": [
      "=====> Supervisor Decision: pickedRoute='continue_chat' reason='The user is expressing feelings of being overwhelmed with work, but there is no indication of suicidal tendencies or harmful behavior. The conversation can continue with the assistant bot to help the user improve their mood.' <=====\n",
      "You: i'm overwhelmed with my work, will have to work for 2 more hours\n",
      "Frienn: You're feeling stressed. Taking a break later can help. How about 'activity2' after work, around 23:32? Want to do it then?\n"
     ]
    }
   ],
   "source": [
    "user_input=\"i'm overwhelmed with my work, will have to work for 2 more hours\"\n",
    "processor.process_input(user_input, thread_id=\"1\", user_id=\"dev-user\")"
   ]
  },
  {
   "cell_type": "code",
   "execution_count": 6,
   "metadata": {},
   "outputs": [
    {
     "name": "stdout",
     "output_type": "stream",
     "text": [
      "=====> Supervisor Decision: pickedRoute='set_reminder' reason='The user agreed on the activity and also specified a time (00 hrs) to do it.' <=====\n",
      "<==== Setting reminder for activity='activity1' hour=23 minute=31\n",
      "You: sure, but lets do it at 00 hrs\n",
      "Frienn: I've set a reminder for 'activity2' at 00:00. Hope it helps you relax after work. <set_reminder> activity2 at 00:00 </set_reminder>\n"
     ]
    }
   ],
   "source": [
    "user_input=\"sure, but lets do it at 00 hrs\"\n",
    "processor.process_input(user_input, thread_id=\"1\", user_id=\"dev-user\")"
   ]
  },
  {
   "cell_type": "code",
   "execution_count": 7,
   "metadata": {},
   "outputs": [
    {
     "name": "stdout",
     "output_type": "stream",
     "text": [
      "=====> Supervisor Decision: pickedRoute='continue_chat' reason=\"The user has agreed on an activity and time, and the current input 'cool' indicates a positive response, so the conversation can proceed with the normal chat route.\" <=====\n",
      "You: cool\n",
      "Frienn: Feeling better about 'activity2' at 00:00?\n"
     ]
    }
   ],
   "source": [
    "user_input=\"cool\"\n",
    "processor.process_input(user_input, thread_id=\"1\", user_id=\"dev-user\")"
   ]
  },
  {
   "cell_type": "code",
   "execution_count": null,
   "metadata": {},
   "outputs": [],
   "source": [
    "user_input=\n",
    "processor.process_input(user_input, thread_id=\"1\", user_id=\"dev-user\")"
   ]
  },
  {
   "cell_type": "code",
   "execution_count": null,
   "metadata": {},
   "outputs": [],
   "source": [
    "user_input=\n",
    "processor.process_input(user_input, thread_id=\"1\", user_id=\"dev-user\")"
   ]
  },
  {
   "cell_type": "code",
   "execution_count": null,
   "metadata": {},
   "outputs": [],
   "source": []
  },
  {
   "cell_type": "code",
   "execution_count": null,
   "metadata": {},
   "outputs": [],
   "source": []
  },
  {
   "cell_type": "code",
   "execution_count": null,
   "metadata": {},
   "outputs": [],
   "source": []
  },
  {
   "cell_type": "code",
   "execution_count": null,
   "metadata": {},
   "outputs": [],
   "source": []
  },
  {
   "cell_type": "code",
   "execution_count": null,
   "metadata": {},
   "outputs": [],
   "source": []
  },
  {
   "cell_type": "code",
   "execution_count": null,
   "metadata": {},
   "outputs": [],
   "source": []
  },
  {
   "cell_type": "code",
   "execution_count": null,
   "metadata": {},
   "outputs": [],
   "source": []
  }
 ],
 "metadata": {
  "kernelspec": {
   "display_name": "sakha-env",
   "language": "python",
   "name": "python3"
  },
  "language_info": {
   "codemirror_mode": {
    "name": "ipython",
    "version": 3
   },
   "file_extension": ".py",
   "mimetype": "text/x-python",
   "name": "python",
   "nbconvert_exporter": "python",
   "pygments_lexer": "ipython3",
   "version": "3.12.8"
  },
  "orig_nbformat": 4,
  "vscode": {
   "interpreter": {
    "hash": "fe92ede66fbacaed253741073118c00559929976131b08e482b9b1b80c47130c"
   }
  }
 },
 "nbformat": 4,
 "nbformat_minor": 2
}
