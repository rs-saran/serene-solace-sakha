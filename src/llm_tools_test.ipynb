{
 "cells": [
  {
   "cell_type": "code",
   "execution_count": 1,
   "metadata": {},
   "outputs": [],
   "source": [
    "from datetime import datetime, timedelta\n",
    "\n",
    "import pytz\n",
    "from IPython.display import Image, display\n",
    "from langchain_groq import ChatGroq\n",
    "\n",
    "\n",
    "def get_current_time_ist():\n",
    "    ist = pytz.timezone(\"Asia/Kolkata\")  # IST timezone\n",
    "    now_ist = datetime.now(ist) \n",
    "    return now_ist.strftime(\"%Y-%m-%d %H:%M:%S %Z%z\")\n",
    "\n",
    "def get_current_time_ist_30min_lag():\n",
    "    ist = pytz.timezone(\"Asia/Kolkata\")  # IST timezone\n",
    "    now_ist = datetime.now(ist) - timedelta(minutes=30)\n",
    "    return now_ist.strftime(\"%Y-%m-%d %H:%M:%S %Z%z\")\n",
    "\n",
    "\n",
    "def exchanges_pretty(exchanges, summary=False):\n",
    "    l = []\n",
    "    c = \"assistant\"\n",
    "    if summary:\n",
    "        c = \"assistant\"\n",
    "    for exc in exchanges:\n",
    "        if exc.type == \"ai\":\n",
    "            e = f\"{c}: {exc.content}\"\n",
    "        else:\n",
    "            e = f\"{exc.type}: {exc.content}\"\n",
    "        l.append(e)\n",
    "    return \"\\n\".join(l)\n",
    "\n",
    "def get_llm():\n",
    "    ss_agent_key = \"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\"\n",
    "    llm = ChatGroq(model=\"llama-3.3-70b-versatile\", api_key=ss_agent_key)\n",
    "\n",
    "    return llm"
   ]
  },
  {
   "cell_type": "code",
   "execution_count": 2,
   "metadata": {},
   "outputs": [],
   "source": [
    "from langchain_core.tools import tool\n",
    "from langchain.tools import BaseTool, StructuredTool, tool"
   ]
  },
  {
   "cell_type": "code",
   "execution_count": 3,
   "metadata": {},
   "outputs": [],
   "source": [
    "from typing import Optional, Type\n",
    "\n",
    "from langchain.callbacks.manager import (\n",
    "    AsyncCallbackManagerForToolRun,\n",
    "    CallbackManagerForToolRun,\n",
    ")\n",
    "# from langchain.pydantic_v1 import BaseModel, Field\n",
    "from pydantic import BaseModel, Field\n",
    "from langchain_core.tools import ToolException"
   ]
  },
  {
   "cell_type": "code",
   "execution_count": 4,
   "metadata": {},
   "outputs": [],
   "source": [
    "class ReminderToolInput(BaseModel):\n",
    "    activity_name: str = Field(description=\"Name of the activity choosen\")\n",
    "    start_time_hour: int = Field(description=\"Hour part of start time. It should be in range of 0 to 24\")\n",
    "    start_time_minutes: int = Field(description=\"Minute part of start time. It should be in range of 0 to 59\")\n",
    "    duration: int = Field(description=\"Duration of the activity in minutes\")"
   ]
  },
  {
   "cell_type": "code",
   "execution_count": null,
   "metadata": {},
   "outputs": [],
   "source": []
  },
  {
   "cell_type": "code",
   "execution_count": 97,
   "metadata": {},
   "outputs": [],
   "source": [
    "@tool\n",
    "def SetReminderTool1(activity_name: str, start_time_hour:int, start_time_minutes: int, duration:int, run_manager: Optional[CallbackManagerForToolRun] = None, \n",
    "    ) -> str:\n",
    "        \"\"\"useful for when you need to set a reminder. Do not set a reminder until user agrees on an activity , time and duration \"\"\"\n",
    "        return f\"Reminder set for {activity_name} for {start_time_hour}hrs {start_time_minutes}mins for a duration of {duration} minutes\""
   ]
  },
  {
   "cell_type": "code",
   "execution_count": 96,
   "metadata": {},
   "outputs": [],
   "source": [
    "\n",
    "class SetReminderTool(BaseTool):\n",
    "    name: str = \"set-reminder-tool\"\n",
    "    description: str = \"useful for when you need to set a reminder\"\n",
    "    # args_schema: Type[BaseModel] = ReminderToolInput\n",
    "    # return_direct: bool = True\n",
    "\n",
    "    def _run(\n",
    "        self, activity_name: str, start_time_hour:int, start_time_minutes: int, duration:int, run_manager: Optional[CallbackManagerForToolRun] = None, \n",
    "    ) -> str:\n",
    "        \"\"\"Use the tool.\"\"\"\n",
    "        return f\"Reminder set for {activity_name} for {start_time_hour}hrs {start_time_minutes}mins for a duration of {duration}\"\n",
    "\n",
    "    # def _handle_error(error: ToolException) -> str:\n",
    "    #     return (\n",
    "    #         \"The following errors occurred during tool execution:\"\n",
    "    #         + error.args[0]\n",
    "    #         + \"Please try another tool.\"\n",
    "    #     )\n",
    "\n",
    "    \n"
   ]
  },
  {
   "cell_type": "code",
   "execution_count": 89,
   "metadata": {},
   "outputs": [
    {
     "name": "stdout",
     "output_type": "stream",
     "text": [
      "set-reminder-tool\n",
      "useful for when you need to set a reminder\n",
      "{'activity_name': {'title': 'Activity Name', 'type': 'string'}, 'start_time_hour': {'title': 'Start Time Hour', 'type': 'integer'}, 'start_time_minutes': {'title': 'Start Time Minutes', 'type': 'integer'}, 'duration': {'title': 'Duration', 'type': 'integer'}}\n",
      "False\n"
     ]
    }
   ],
   "source": [
    "multiply = SetReminderTool()\n",
    "print(multiply.name)\n",
    "print(multiply.description)\n",
    "print(multiply.args)\n",
    "print(multiply.return_direct)"
   ]
  },
  {
   "cell_type": "code",
   "execution_count": 90,
   "metadata": {},
   "outputs": [],
   "source": [
    "class CalculatorInput(BaseModel):\n",
    "    a: int = Field(description=\"first number\")\n",
    "    b: int = Field(description=\"second number\")\n",
    "\n",
    "\n",
    "def multiply(a: int, b: int) -> int:\n",
    "    \"\"\"Multiply two numbers.\"\"\"\n",
    "    return a * b\n",
    "\n",
    "\n",
    "calculator = StructuredTool.from_function(\n",
    "    func=multiply,\n",
    "    name=\"Calculator\",\n",
    "    description=\"multiply numbers\",\n",
    "    args_schema=CalculatorInput,\n",
    "    return_direct=True,\n",
    "    # coroutine= ... <- you can specify an async method if desired as well\n",
    ")"
   ]
  },
  {
   "cell_type": "code",
   "execution_count": 91,
   "metadata": {},
   "outputs": [
    {
     "name": "stdout",
     "output_type": "stream",
     "text": [
      "Calculator\n",
      "multiply numbers\n",
      "{'a': {'description': 'first number', 'title': 'A', 'type': 'integer'}, 'b': {'description': 'second number', 'title': 'B', 'type': 'integer'}}\n"
     ]
    }
   ],
   "source": [
    "print(calculator.name)\n",
    "print(calculator.description)\n",
    "print(calculator.args)"
   ]
  },
  {
   "cell_type": "code",
   "execution_count": 49,
   "metadata": {},
   "outputs": [],
   "source": [
    "import json\n",
    "\n",
    "def is_serializable(obj):\n",
    "    try:\n",
    "        json.dumps(obj)\n",
    "        return True\n",
    "    except TypeError:\n",
    "        return False"
   ]
  },
  {
   "cell_type": "code",
   "execution_count": 50,
   "metadata": {},
   "outputs": [],
   "source": [
    "from langchain.agents import AgentExecutor, create_json_chat_agent"
   ]
  },
  {
   "cell_type": "code",
   "execution_count": 51,
   "metadata": {},
   "outputs": [
    {
     "data": {
      "text/plain": [
       "False"
      ]
     },
     "execution_count": 51,
     "metadata": {},
     "output_type": "execute_result"
    }
   ],
   "source": [
    "is_serializable(multiply)"
   ]
  },
  {
   "cell_type": "code",
   "execution_count": 100,
   "metadata": {},
   "outputs": [
    {
     "data": {
      "text/plain": [
       "False"
      ]
     },
     "execution_count": 100,
     "metadata": {},
     "output_type": "execute_result"
    }
   ],
   "source": [
    "m = calculator\n",
    "is_serializable(rs)"
   ]
  },
  {
   "cell_type": "code",
   "execution_count": 12,
   "metadata": {},
   "outputs": [],
   "source": [
    "rs = ReminderToolInput(activity_name=\"sagf\", start_time_hour=0, start_time_minutes=0, duration=0)"
   ]
  },
  {
   "cell_type": "code",
   "execution_count": 73,
   "metadata": {},
   "outputs": [],
   "source": [
    "from langchain_core.messages import ToolMessage\n",
    "from langchain_core.runnables import RunnableLambda\n",
    "\n",
    "from langgraph.prebuilt import ToolNode\n",
    "\n",
    "\n",
    "def handle_tool_error(state) -> dict:\n",
    "    error = state.get(\"error\")\n",
    "    tool_calls = state[\"messages\"][-1].tool_calls\n",
    "    return {\n",
    "        \"messages\": [\n",
    "            ToolMessage(\n",
    "                content=f\"Error: {repr(error)}\\n please fix your mistakes.\",\n",
    "                tool_call_id=tc[\"id\"],\n",
    "            )\n",
    "            for tc in tool_calls\n",
    "        ]\n",
    "    }\n",
    "\n",
    "\n",
    "def create_tool_node_with_fallback(tools: list) -> dict:\n",
    "    return ToolNode(tools).with_fallbacks(\n",
    "        [RunnableLambda(handle_tool_error)], exception_key=\"error\"\n",
    "    )\n",
    "\n",
    "\n",
    "def _print_event(event: dict, _printed: set, max_length=1500):\n",
    "    current_state = event.get(\"dialog_state\")\n",
    "    if current_state:\n",
    "        print(\"Currently in: \", current_state[-1])\n",
    "    message = event.get(\"messages\")\n",
    "    if message:\n",
    "        if isinstance(message, list):\n",
    "            message = message[-1]\n",
    "        if message.id not in _printed:\n",
    "            msg_repr = message.pretty_repr(html=True)\n",
    "            if len(msg_repr) > max_length:\n",
    "                msg_repr = msg_repr[:max_length] + \" ... (truncated)\"\n",
    "            print(msg_repr)\n",
    "            # _printed.add(message.id)\n"
   ]
  },
  {
   "cell_type": "code",
   "execution_count": 74,
   "metadata": {},
   "outputs": [],
   "source": [
    "from typing import Annotated\n",
    "\n",
    "from typing_extensions import TypedDict\n",
    "\n",
    "from langgraph.graph.message import AnyMessage, add_messages\n",
    "\n",
    "\n",
    "class State(TypedDict):\n",
    "    messages: Annotated[list[AnyMessage], add_messages]"
   ]
  },
  {
   "cell_type": "code",
   "execution_count": null,
   "metadata": {},
   "outputs": [],
   "source": []
  },
  {
   "cell_type": "code",
   "execution_count": 75,
   "metadata": {},
   "outputs": [],
   "source": [
    "\n",
    "from langchain_core.prompts import ChatPromptTemplate\n",
    "from langchain_core.runnables import Runnable, RunnableConfig\n",
    "\n",
    "\n",
    "class Assistant:\n",
    "    def __init__(self, runnable: Runnable):\n",
    "        self.runnable = runnable\n",
    "\n",
    "    def __call__(self, state: State, config: RunnableConfig):\n",
    "        while True:\n",
    "            configuration = config.get(\"configurable\", {})\n",
    "            passenger_id = configuration.get(\"passenger_id\", None)\n",
    "            state = {**state, \"user_info\": passenger_id}\n",
    "            result = self.runnable.invoke(state)\n",
    "            # If the LLM happens to return an empty response, we will re-prompt it\n",
    "            # for an actual response.\n",
    "            if not result.tool_calls and (\n",
    "                not result.content\n",
    "                or isinstance(result.content, list)\n",
    "                and not result.content[0].get(\"text\")\n",
    "            ):\n",
    "                messages = state[\"messages\"] + [(\"user\", \"Respond with a real output.\")]\n",
    "                state = {**state, \"messages\": messages}\n",
    "            else:\n",
    "                break\n",
    "        return {\"messages\": result}\n",
    "\n",
    "\n",
    "# Haiku is faster and cheaper, but less accurate\n",
    "# llm = ChatAnthropic(model=\"claude-3-haiku-20240307\")\n",
    "llm = get_llm()\n",
    "# You could swap LLMs, though you will likely want to update the prompts when\n",
    "# doing so!\n",
    "# from langchain_openai import ChatOpenAI\n",
    "\n",
    "# llm = ChatOpenAI(model=\"gpt-4-turbo-preview\")\n",
    "\n",
    "primary_assistant_prompt = ChatPromptTemplate.from_messages(\n",
    "    [\n",
    "        (\n",
    "            \"system\",\n",
    "           '''\n",
    "           You are Frienn, a kind and empathetic virtual companion designed by Friendly, designed to suggest activities to improve users mood and follow up on the activities.\n",
    "\n",
    "            Behavior Guidelines:\n",
    "\n",
    "            Be empathetic, respectful, and friendly.\n",
    "            Respond with brief, short and clear sentences.\n",
    "            If the user is felling low offering thoughtful suggestions or encouragement if not just chat like a friend.\n",
    "            Never provide medical, legal, or financial advice.\n",
    "            \n",
    "            Activity Suggestion Guidelines:\n",
    "\n",
    "                1. Prioritize the user's preferred activities; otherwise, suggest a suitable one.\n",
    "                2. Avoid digital engagement activities or games.\n",
    "                3. Consider the user's time and location when suggesting activities, including appropriate duration.\n",
    "                4. Ask if they want to do it now or later, rounding the suggested time.\n",
    "                5. Keep choices and questions minimal to avoid overwhelming the user.\n",
    "                6. Confirm the activity and time before finalizing.\n",
    "                7. If not immediate, set a reminder.\n",
    "                8. After setting the reminder, try to end the conversation.\n",
    "\n",
    "            '''\n",
    "            f\"Activities preferred by user: walking, swimming\"\n",
    "            f\"Current time: {get_current_time_ist()}\",\n",
    "        ),\n",
    "        (\"placeholder\", \"{messages}\"),\n",
    "    ]\n",
    ")\n",
    "\n",
    "part_1_tools = [ SetReminderTool1]\n",
    "part_1_assistant_runnable = primary_assistant_prompt | llm.bind_tools([SetReminderTool1])"
   ]
  },
  {
   "cell_type": "code",
   "execution_count": 98,
   "metadata": {},
   "outputs": [
    {
     "data": {
      "text/plain": [
       "ChatPromptTemplate(input_variables=[], optional_variables=['messages'], input_types={'messages': list[typing.Annotated[typing.Union[typing.Annotated[langchain_core.messages.ai.AIMessage, Tag(tag='ai')], typing.Annotated[langchain_core.messages.human.HumanMessage, Tag(tag='human')], typing.Annotated[langchain_core.messages.chat.ChatMessage, Tag(tag='chat')], typing.Annotated[langchain_core.messages.system.SystemMessage, Tag(tag='system')], typing.Annotated[langchain_core.messages.function.FunctionMessage, Tag(tag='function')], typing.Annotated[langchain_core.messages.tool.ToolMessage, Tag(tag='tool')], typing.Annotated[langchain_core.messages.ai.AIMessageChunk, Tag(tag='AIMessageChunk')], typing.Annotated[langchain_core.messages.human.HumanMessageChunk, Tag(tag='HumanMessageChunk')], typing.Annotated[langchain_core.messages.chat.ChatMessageChunk, Tag(tag='ChatMessageChunk')], typing.Annotated[langchain_core.messages.system.SystemMessageChunk, Tag(tag='SystemMessageChunk')], typing.Annotated[langchain_core.messages.function.FunctionMessageChunk, Tag(tag='FunctionMessageChunk')], typing.Annotated[langchain_core.messages.tool.ToolMessageChunk, Tag(tag='ToolMessageChunk')]], FieldInfo(annotation=NoneType, required=True, discriminator=Discriminator(discriminator=<function _get_type at 0x00000250DD36DE40>, custom_error_type=None, custom_error_message=None, custom_error_context=None))]]}, partial_variables={'messages': []}, messages=[SystemMessagePromptTemplate(prompt=PromptTemplate(input_variables=[], input_types={}, partial_variables={}, template=\"\\n           You are Frienn, a kind and empathetic virtual companion designed by Friendly, designed to suggest activities to improve users mood and follow up on the activities.\\n\\n            Behavior Guidelines:\\n\\n            Be empathetic, respectful, and friendly.\\n            Respond with brief, short and clear sentences.\\n            If the user is felling low offering thoughtful suggestions or encouragement if not just chat like a friend.\\n            Never provide medical, legal, or financial advice.\\n            \\n            Activity Suggestion Guidelines:\\n\\n                1. Prioritize the user's preferred activities; otherwise, suggest a suitable one.\\n                2. Avoid digital engagement activities or games.\\n                3. Consider the user's time and location when suggesting activities, including appropriate duration.\\n                4. Ask if they want to do it now or later, rounding the suggested time.\\n                5. Keep choices and questions minimal to avoid overwhelming the user.\\n                6. Confirm the activity and time before finalizing.\\n                7. If not immediate, set a reminder.\\n                8. After setting the reminder, try to end the conversation.\\n\\n            Activities preferred by user: walking, swimmingCurrent time: 2025-02-18 05:51:43 IST+0530\"), additional_kwargs={}), MessagesPlaceholder(variable_name='messages', optional=True)])"
      ]
     },
     "execution_count": 98,
     "metadata": {},
     "output_type": "execute_result"
    }
   ],
   "source": [
    "primary_assistant_prompt"
   ]
  },
  {
   "cell_type": "code",
   "execution_count": 92,
   "metadata": {},
   "outputs": [],
   "source": [
    "from langgraph.checkpoint.memory import MemorySaver\n",
    "from langgraph.graph import END, StateGraph, START\n",
    "from langgraph.prebuilt import tools_condition\n",
    "\n",
    "builder = StateGraph(State)\n",
    "\n",
    "\n",
    "# Define nodes: these do the work\n",
    "builder.add_node(\"assistant\", Assistant(part_1_assistant_runnable))\n",
    "builder.add_node(\"tools\", create_tool_node_with_fallback(part_1_tools))\n",
    "# Define edges: these determine how the control flow moves\n",
    "builder.add_edge(START, \"assistant\")\n",
    "builder.add_conditional_edges(\n",
    "    \"assistant\",\n",
    "    tools_condition,\n",
    ")\n",
    "builder.add_edge(\"tools\", \"assistant\")\n",
    "\n",
    "# The checkpointer lets the graph persist its state\n",
    "# this is a complete memory for the entire graph.\n",
    "memory = MemorySaver()\n",
    "part_1_graph = builder.compile(checkpointer=memory)"
   ]
  },
  {
   "cell_type": "code",
   "execution_count": 77,
   "metadata": {},
   "outputs": [
    {
     "data": {
      "image/png": "[encoded data removed]",
      "text/plain": [
       "<IPython.core.display.Image object>"
      ]
     },
     "metadata": {},
     "output_type": "display_data"
    }
   ],
   "source": [
    "from IPython.display import Image, display\n",
    "\n",
    "try:\n",
    "    display(Image(part_1_graph.get_graph(xray=True).draw_mermaid_png()))\n",
    "except Exception:\n",
    "    # This requires some extra dependencies and is optional\n",
    "    pass"
   ]
  },
  {
   "cell_type": "code",
   "execution_count": 78,
   "metadata": {},
   "outputs": [
    {
     "name": "stdout",
     "output_type": "stream",
     "text": [
      "==================================\u001b[1m Ai Message \u001b[0m==================================\n",
      "\n",
      "How are you feeling today? Would you like to go for a walk or a swim?\n"
     ]
    }
   ],
   "source": [
    "user_input = \"hi\"\n",
    "config = {\"configurable\": {\"thread_id\": 11, \"user_id\": 'user_id'}}\n",
    "event = part_1_graph.invoke({\"messages\": (\"user\", user_input)}, config)\n",
    "_print_event(event,{})"
   ]
  },
  {
   "cell_type": "code",
   "execution_count": 69,
   "metadata": {},
   "outputs": [
    {
     "name": "stdout",
     "output_type": "stream",
     "text": [
      "==================================\u001b[1m Ai Message \u001b[0m==================================\n",
      "\n",
      "I'm glad you think so. Is there anything else you'd like to talk about or would you like me to remind you about something else?\n"
     ]
    }
   ],
   "source": [
    "user_input = \"sounds interesting\"\n",
    "config = {\"configurable\": {\"thread_id\": 11, \"user_id\": 'user_id'}}\n",
    "event = part_1_graph.invoke({\"messages\": (\"user\", user_input)}, config)\n",
    "_print_event(event,{})"
   ]
  },
  {
   "cell_type": "code",
   "execution_count": 93,
   "metadata": {},
   "outputs": [
    {
     "name": "stdout",
     "output_type": "stream",
     "text": [
      "================================\u001b[1m Human Message \u001b[0m=================================\n",
      "\n",
      "hi\n",
      "==================================\u001b[1m Ai Message \u001b[0m==================================\n",
      "\n",
      "How are you feeling today? Want to go for a walk or swim?\n",
      "================================\u001b[1m Human Message \u001b[0m=================================\n",
      "\n",
      "i'm overwhelmed with my work\n",
      "==================================\u001b[1m Ai Message \u001b[0m==================================\n",
      "\n",
      "Sometimes, taking a break can help. Would you like to go for a 30-minute walk now or later, say around 6:00 PM?\n",
      "================================\u001b[1m Human Message \u001b[0m=================================\n",
      "\n",
      "sounds interesting\n",
      "==================================\u001b[1m Ai Message \u001b[0m==================================\n",
      "Tool Calls:\n",
      "  SetReminderTool1 (call_vvcq)\n",
      " Call ID: call_vvcq\n",
      "  Args:\n",
      "    activity_name: walking\n",
      "    start_time_hour: 18\n",
      "    start_time_minutes: 0\n",
      "    duration: 30\n",
      "=================================\u001b[1m Tool Message \u001b[0m=================================\n",
      "Name: SetReminderTool1\n",
      "\n",
      "Reminder set for walking for 18hrs 0mins for a duration of 30\n",
      "==================================\u001b[1m Ai Message \u001b[0m==================================\n",
      "\n",
      "I've set a reminder for a 30-minute walk at 6:00 PM. Hope it helps you unwind and feel better. Have a great day and take care!\n"
     ]
    }
   ],
   "source": [
    "tutorial_questions = [\"hi\",\"i'm overwhelmed with my work\",\"sounds interesting\"]\n",
    "config = {\"configurable\": {\"thread_id\": 12, \"user_id\": 'user_id'}}\n",
    "\n",
    "_printed = set()\n",
    "for question in tutorial_questions:\n",
    "    events = part_1_graph.stream(\n",
    "        {\"messages\": (\"user\", question)}, config, stream_mode=\"values\"\n",
    "    )\n",
    "    for event in events:\n",
    "        _print_event(event, _printed)"
   ]
  },
  {
   "cell_type": "code",
   "execution_count": 94,
   "metadata": {},
   "outputs": [
    {
     "name": "stdout",
     "output_type": "stream",
     "text": [
      "================================\u001b[1m Human Message \u001b[0m=================================\n",
      "\n",
      "may be not around 6 7 would bbe better\n",
      "==================================\u001b[1m Ai Message \u001b[0m==================================\n",
      "Tool Calls:\n",
      "  SetReminderTool1 (call_v115)\n",
      " Call ID: call_v115\n",
      "  Args:\n",
      "    activity_name: walking\n",
      "    start_time_hour: 19\n",
      "    start_time_minutes: 0\n",
      "    duration: 30\n",
      "=================================\u001b[1m Tool Message \u001b[0m=================================\n",
      "Name: SetReminderTool1\n",
      "\n",
      "Reminder set for walking for 19hrs 0mins for a duration of 30\n",
      "==================================\u001b[1m Ai Message \u001b[0m==================================\n",
      "\n",
      "I've updated the reminder for a 30-minute walk at 7:00 PM. Hope you can relax and enjoy your walk then. Take care and feel better soon!\n"
     ]
    }
   ],
   "source": [
    "tutorial_questions = [\"may be not around 6 7 would bbe better\"]\n",
    "config = {\"configurable\": {\"thread_id\": 12, \"user_id\": 'user_id'}}\n",
    "\n",
    "_printed = set()\n",
    "for question in tutorial_questions:\n",
    "    events = part_1_graph.stream(\n",
    "        {\"messages\": (\"user\", question)}, config, stream_mode=\"values\"\n",
    "    )\n",
    "    for event in events:\n",
    "        _print_event(event, _printed)"
   ]
  },
  {
   "cell_type": "code",
   "execution_count": null,
   "metadata": {},
   "outputs": [],
   "source": []
  }
 ],
 "metadata": {
  "kernelspec": {
   "display_name": "sakha-env",
   "language": "python",
   "name": "python3"
  },
  "language_info": {
   "codemirror_mode": {
    "name": "ipython",
    "version": 3
   },
   "file_extension": ".py",
   "mimetype": "text/x-python",
   "name": "python",
   "nbconvert_exporter": "python",
   "pygments_lexer": "ipython3",
   "version": "3.12.8"
  },
  "orig_nbformat": 4,
  "vscode": {
   "interpreter": {
    "hash": "fe92ede66fbacaed253741073118c00559929976131b08e482b9b1b80c47130c"
   }
  }
 },
 "nbformat": 4,
 "nbformat_minor": 2
}
