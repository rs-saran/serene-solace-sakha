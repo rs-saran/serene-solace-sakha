{
 "cells": [
  {
   "cell_type": "code",
   "execution_count": 1,
   "metadata": {},
   "outputs": [],
   "source": [
    "from src.managers.postgres_checkpoint_manager import PostgresCheckpointerManager\n",
    "from src.core.conversation_graph import ConversationGraph, ConversationProcessor\n",
    "from src.utils import get_llm\n",
    "\n",
    "from src.managers.postgres_db_manager import PostgresDBManager\n",
    "from src.managers.reminder_manager import ReminderManager"
   ]
  },
  {
   "cell_type": "code",
   "execution_count": null,
   "metadata": {},
   "outputs": [],
   "source": []
  },
  {
   "cell_type": "code",
   "execution_count": 2,
   "metadata": {},
   "outputs": [
    {
     "name": "stdout",
     "output_type": "stream",
     "text": [
      "exceuted postgres setup\n"
     ]
    }
   ],
   "source": [
    "# Database Config\n",
    "DB_CONFIG = {\n",
    "    \"dbname\": \"postgres\",\n",
    "    \"user\": \"postgres\",\n",
    "    \"password\": \"1234\",\n",
    "    \"host\": \"localhost\",\n",
    "    \"port\": \"5432\",\n",
    "}\n",
    "\n",
    "# Initialize the DB Manager\n",
    "db_manager = PostgresDBManager(DB_CONFIG)"
   ]
  },
  {
   "cell_type": "code",
   "execution_count": 3,
   "metadata": {},
   "outputs": [],
   "source": [
    "rm = ReminderManager(db_manager)"
   ]
  },
  {
   "cell_type": "code",
   "execution_count": 4,
   "metadata": {},
   "outputs": [
    {
     "name": "stdout",
     "output_type": "stream",
     "text": [
      "Reminder for activity1 scheduled!\n"
     ]
    }
   ],
   "source": [
    "rm.add_reminder(\n",
    "       \n",
    "        'test-user_id',\n",
    "        'activity1',\n",
    "        1,\n",
    "        1,\n",
    "        1,\n",
    "        True,\n",
    "        True\n",
    "    )"
   ]
  },
  {
   "cell_type": "code",
   "execution_count": 5,
   "metadata": {},
   "outputs": [],
   "source": [
    "query = \"\"\"\n",
    "            INSERT INTO activity_feedback (user_id, activity, is_completed, enjoyment_score, reason_skipped) \n",
    "            VALUES (%s, %s, %s, %s, %s)\n",
    "            \"\"\"\n",
    "db_manager.execute(\n",
    "    query,\n",
    "    (\n",
    "        \"dev-user-test\",\n",
    "        'activity1',\n",
    "        True,\n",
    "        3,\n",
    "        ''\n",
    "    ),\n",
    ")\n"
   ]
  },
  {
   "cell_type": "code",
   "execution_count": null,
   "metadata": {},
   "outputs": [],
   "source": []
  },
  {
   "cell_type": "code",
   "execution_count": 3,
   "metadata": {},
   "outputs": [],
   "source": [
    "# checkpoint_manager = PostgresCheckpointerManager(db_manager)\n",
    "# checkpointer = checkpoint_manager.get_checkpointer()"
   ]
  },
  {
   "cell_type": "code",
   "execution_count": 2,
   "metadata": {},
   "outputs": [],
   "source": [
    "llm_fo = get_llm()"
   ]
  },
  {
   "cell_type": "code",
   "execution_count": 3,
   "metadata": {},
   "outputs": [
    {
     "name": "stdout",
     "output_type": "stream",
     "text": [
      "exceuted postgres setup\n"
     ]
    }
   ],
   "source": [
    "\n",
    "conversation_graph = ConversationGraph(llm=llm_fo).compile()\n",
    "processor = ConversationProcessor(conversation_graph)\n",
    "# cs2 = conversation_graph.update_state(config={'configurable':{'thread_id':\"1\", 'user_id':\"dev-user\"}}, values = {'preferred_activities': [ 'walking', \"music\"], 'flow':'activity_suggestion'})"
   ]
  },
  {
   "cell_type": "code",
   "execution_count": 4,
   "metadata": {},
   "outputs": [
    {
     "data": {
      "text/plain": [
       "StateSnapshot(values={'exchange': 5, 'conversation_history': [HumanMessage(content='Hello', additional_kwargs={}, response_metadata={}), AIMessage(content=\"Hello! I'm Frienn, your friendly companion. How's your day been so far?\", additional_kwargs={}, response_metadata={}), HumanMessage(content='I think it was great', additional_kwargs={}, response_metadata={}), AIMessage(content=\"That's wonderful to hear! What made your day so great?\", additional_kwargs={}, response_metadata={}), HumanMessage(content='Completed long pending tasks', additional_kwargs={}, response_metadata={}), AIMessage(content=\"That's amazing! Completing long pending tasks can be such a great feeling. You must be relieved and proud of yourself. What are you looking forward to doing next?\", additional_kwargs={}, response_metadata={}), HumanMessage(content='celebrate', additional_kwargs={}, response_metadata={}), AIMessage(content=\"That's a great idea! Celebrating your accomplishments can be a wonderful way to acknowledge your hard work. Would you like to do something special to celebrate, like going for a walk, or would you like me to suggest something?\", additional_kwargs={}, response_metadata={}), HumanMessage(content='walk is not for celebration, suggest something crazy', additional_kwargs={}, response_metadata={}), AIMessage(content='How about trying a cooking class, going to a trampoline park, or even an escape room? These activities can add a bit of excitement to your celebration.', additional_kwargs={}, response_metadata={})], 'user_input': 'i want to complete celebration today', 'supervisor_response': SupervisorResponse(pickedRoute='continue_chat', reason=\"The user wants to complete their celebration today, which indicates a positive and festive mood, and doesn't show any signs of crisis or harmful intentions.\")}, next=('Frienn',), config={'configurable': {'thread_id': '133', 'checkpoint_ns': '', 'checkpoint_id': '1effdd28-d5ab-6bd3-8018-c557aad80b54'}}, metadata={'step': 24, 'source': 'loop', 'writes': {'Supervisor': {'supervisor_response': SupervisorResponse(pickedRoute='continue_chat', reason=\"The user wants to complete their celebration today, which indicates a positive and festive mood, and doesn't show any signs of crisis or harmful intentions.\")}}, 'parents': {}, 'user_id': 'dev-user', 'thread_id': '133'}, created_at='2025-03-10T17:10:22.826798+00:00', parent_config={'configurable': {'thread_id': '133', 'checkpoint_ns': '', 'checkpoint_id': '1effdd28-cfa3-671f-8017-35c4af639039'}}, tasks=(PregelTask(id='11c516e4-36df-8d22-8500-7b6e004c523b', name='Frienn', path=('__pregel_pull', 'Frienn'), error='AttributeError(\"\\'FriennResponseForASFlow\\' object has no attribute \\'remider\\'\")', interrupts=(), state=None, result=None),))"
      ]
     },
     "execution_count": 4,
     "metadata": {},
     "output_type": "execute_result"
    }
   ],
   "source": [
    "conversation_graph.get_state(config={'configurable':{'thread_id':\"133\"}})"
   ]
  },
  {
   "cell_type": "code",
   "execution_count": 5,
   "metadata": {},
   "outputs": [
    {
     "name": "stdout",
     "output_type": "stream",
     "text": [
      "=====> Supervisor Decision: pickedRoute='continue_chat' reason='User input is a greeting, no indication of crisis or harmful intentions' <=====\n",
      "You: Hello\n",
      "Frienn: Hello! I'm Frienn, your friendly companion. How's your day been so far?\n"
     ]
    }
   ],
   "source": [
    "user_input=\"Hello\"\n",
    "processor.process_input(user_input, thread_id=\"133\", user_id=\"dev-user\")"
   ]
  },
  {
   "cell_type": "code",
   "execution_count": 6,
   "metadata": {},
   "outputs": [
    {
     "name": "stdout",
     "output_type": "stream",
     "text": [
      "=====> Supervisor Decision: pickedRoute='continue_chat' reason='User reported a great day with no indication of crisis or harmful behavior.' <=====\n",
      "You: I think it was great\n",
      "Frienn: That's wonderful to hear! What made your day so great?\n"
     ]
    }
   ],
   "source": [
    "user_input=\"I think it was great\"\n",
    "processor.process_input(user_input, thread_id=\"133\", user_id=\"dev-user\")"
   ]
  },
  {
   "cell_type": "code",
   "execution_count": 7,
   "metadata": {},
   "outputs": [
    {
     "name": "stdout",
     "output_type": "stream",
     "text": [
      "=====> Supervisor Decision: pickedRoute='continue_chat' reason='User is sharing positive experience of completing tasks' <=====\n",
      "You: Completed long pending tasks\n",
      "Frienn: That's amazing! Completing long pending tasks can be such a great feeling. You must be relieved and proud of yourself. What are you looking forward to doing next?\n"
     ]
    }
   ],
   "source": [
    "user_input=\"Completed long pending tasks\"\n",
    "processor.process_input(user_input, thread_id=\"133\", user_id=\"dev-user\")"
   ]
  },
  {
   "cell_type": "code",
   "execution_count": 11,
   "metadata": {},
   "outputs": [
    {
     "name": "stdout",
     "output_type": "stream",
     "text": [
      "=====> Supervisor Decision: pickedRoute='continue_chat' reason='User wants to celebrate and is in a positive mood' <=====\n",
      "You: celebrate\n",
      "Frienn: That's a great idea! Celebrating your accomplishments can be a wonderful way to acknowledge your hard work. Would you like to do something special to celebrate, like going for a walk, or would you like me to suggest something?\n"
     ]
    }
   ],
   "source": [
    "user_input=\"celebrate\"\n",
    "processor.process_input(user_input, thread_id=\"133\", user_id=\"dev-user\")"
   ]
  },
  {
   "cell_type": "code",
   "execution_count": 12,
   "metadata": {},
   "outputs": [
    {
     "name": "stdout",
     "output_type": "stream",
     "text": [
      "=====> Supervisor Decision: pickedRoute='continue_chat' reason='User is looking for celebration ideas, no indication of crisis or harm' <=====\n",
      "You: walk is not for celebration, suggest something crazy\n",
      "Frienn: How about trying a cooking class, going to a trampoline park, or even an escape room? These activities can add a bit of excitement to your celebration.\n"
     ]
    }
   ],
   "source": [
    "user_input=\"walk is not for celebration, suggest something crazy\"\n",
    "processor.process_input(user_input, thread_id=\"133\", user_id=\"dev-user\")"
   ]
  },
  {
   "cell_type": "code",
   "execution_count": 5,
   "metadata": {},
   "outputs": [
    {
     "name": "stdout",
     "output_type": "stream",
     "text": [
      "=====> Supervisor Decision: pickedRoute='continue_chat' reason='User wants to complete celebration today, no indication of crisis or harmful intentions' <=====\n",
      "You: i want to complete celebration today\n",
      "Frienn: Let's plan to complete your celebration by 11 PM tonight. How about we allocate 2 hours for it? We can set a reminder for 11 PM to ensure you have enough time for your celebration.\n"
     ]
    }
   ],
   "source": [
    "user_input=\"i want to complete celebration today\"\n",
    "processor.process_input(user_input, thread_id=\"133\", user_id=\"dev-user\")"
   ]
  },
  {
   "cell_type": "code",
   "execution_count": 7,
   "metadata": {},
   "outputs": [
    {
     "name": "stdout",
     "output_type": "stream",
     "text": [
      "=====> Supervisor Decision: pickedRoute='continue_chat' reason='user is looking for celebration ideas and is not expressing any harmful intentions' <=====\n",
      "You: sounds good, but what to do?\n",
      "Frienn: How about trying a cooking class or going to a trampoline park? You could also consider an escape room. Which one of these activities sounds interesting to you?\n"
     ]
    }
   ],
   "source": [
    "user_input=\"sounds good, but what to do?\"\n",
    "processor.process_input(user_input, thread_id=\"133\", user_id=\"dev-user\")"
   ]
  },
  {
   "cell_type": "code",
   "execution_count": 8,
   "metadata": {},
   "outputs": [
    {
     "name": "stdout",
     "output_type": "stream",
     "text": [
      "=====> Supervisor Decision: pickedRoute='continue_chat' reason='user is looking for indoor activities to improve their mood' <=====\n",
      "You: None, sometthing indoors\n",
      "Frienn: How about indoor bowling, pool, or board games?\n"
     ]
    }
   ],
   "source": [
    "user_input=\"None, sometthing indoors\"\n",
    "processor.process_input(user_input, thread_id=\"133\", user_id=\"dev-user\")"
   ]
  },
  {
   "cell_type": "code",
   "execution_count": 9,
   "metadata": {},
   "outputs": [
    {
     "name": "stdout",
     "output_type": "stream",
     "text": [
      "=====> Supervisor Decision: pickedRoute='continue_chat' reason='user is expressing displeasure with suggestions but is still engaged and looking for alternative activities to improve their mood' <=====\n",
      "You: None of your suggestions are good, a movie sounds better\n",
      "Frienn: A movie sounds like a great idea! What kind of movie are you in the mood for? And how about we plan for a 2-hour movie session?\n"
     ]
    }
   ],
   "source": [
    "user_input=\"None of your suggestions are good, a movie sounds better\"\n",
    "processor.process_input(user_input, thread_id=\"133\", user_id=\"dev-user\")"
   ]
  },
  {
   "cell_type": "code",
   "execution_count": 11,
   "metadata": {},
   "outputs": [
    {
     "name": "stdout",
     "output_type": "stream",
     "text": [
      "=====> Supervisor Decision: pickedRoute='continue_chat' reason='User is in a good mood and has found an activity to enjoy' <=====\n",
      "You: bye i'll enjoy my action movie \n",
      "Reminder for watching action movie scheduled!\n",
      "Frienn: Have a blast watching your action movie! Enjoy every moment of it. I'll talk to you later, have a great time and take care!\n"
     ]
    }
   ],
   "source": [
    "user_input=\"bye i'll enjoy my action movie \"\n",
    "processor.process_input(user_input, thread_id=\"133\", user_id=\"dev-user\")"
   ]
  },
  {
   "cell_type": "code",
   "execution_count": 10,
   "metadata": {},
   "outputs": [],
   "source": [
    "cs3 = conversation_graph.update_state(config={'configurable':{'thread_id':\"1\", 'user_id':\"dev-user\"}}, values = {'flow':'reminder', 'exchange':0})"
   ]
  },
  {
   "cell_type": "code",
   "execution_count": 11,
   "metadata": {},
   "outputs": [
    {
     "name": "stdout",
     "output_type": "stream",
     "text": [
      "=====> Supervisor Decision: pickedRoute='continue_chat' reason='No indication of crisis or harmful intentions, previous conversation was about stress management and planning a walk.' <=====\n",
      "You: \n",
      "Frienn: replyToUser=\"It's time to start your walk! Get some fresh air, clear your mind, and boost your energy. You got this! I'll be here when you're back, ready to hear about your experience.\" suggestAlternatives=False\n"
     ]
    }
   ],
   "source": [
    "user_input=\"\"\n",
    "processor.process_input(user_input, thread_id=\"1\", user_id=\"dev-user\")"
   ]
  },
  {
   "cell_type": "code",
   "execution_count": 12,
   "metadata": {},
   "outputs": [
    {
     "name": "stdout",
     "output_type": "stream",
     "text": [
      "=====> Supervisor Decision: pickedRoute='continue_chat' reason='user is starting their walk and no indication of crisis or harmful intentions' <=====\n",
      "You: i'm starting now\n",
      "Frienn: replyToUser=\"You're taking the first step towards a refreshing morning! Remember, it's just 30 minutes, and you can always listen to music or a podcast while you walk to make it more enjoyable. Have a great walk!\" suggestAlternatives=False\n"
     ]
    }
   ],
   "source": [
    "user_input=\"i'm starting now\"\n",
    "processor.process_input(user_input, thread_id=\"1\", user_id=\"dev-user\")"
   ]
  },
  {
   "cell_type": "code",
   "execution_count": 13,
   "metadata": {},
   "outputs": [
    {
     "name": "stdout",
     "output_type": "stream",
     "text": [
      "=====> Supervisor Decision: pickedRoute='continue_chat' reason='The user is asking a non-crisis related question, inquiring if they are remembered, which seems to be a casual conversation starter.' <=====\n",
      "You: hey do you remember me?\n",
      "Frienn: replyToUser=\"Of course, I remember you! You were just about to go for a walk to refresh your mind before work. How's it going so far?\" suggestAlternatives=False\n"
     ]
    }
   ],
   "source": [
    "user_input=\"hey do you remember me?\"\n",
    "processor.process_input(user_input, thread_id=\"1\", user_id=\"dev-user-2\")"
   ]
  },
  {
   "cell_type": "code",
   "execution_count": 14,
   "metadata": {},
   "outputs": [
    {
     "name": "stdout",
     "output_type": "stream",
     "text": [
      "=====> Supervisor Decision: pickedRoute='continue_chat' reason='User is asking about memory, no indication of crisis or harmful behavior.' <=====\n",
      "You: hey do you remember me?\n",
      "Frienn: replyToUser=\"Hey, I'm Frienn, your friendly virtual companion. I'm here to listen and support you. I don't have personal memories, but I can access our previous conversations to make our chat more personal. How are you doing today?\" didUserAgreeOnActivity=False didUserAgreeOnTime=False didUserAgreeOnDuration=False reminder=None\n"
     ]
    }
   ],
   "source": [
    "user_input=\"hey do you remember me?\"\n",
    "processor.process_input(user_input, thread_id=\"2\", user_id=\"dev-user\")"
   ]
  },
  {
   "cell_type": "code",
   "execution_count": 15,
   "metadata": {},
   "outputs": [
    {
     "data": {
      "text/plain": [
       "{'exchange': 0,\n",
       " 'conversation_history': [HumanMessage(content='Hey.', additional_kwargs={}, response_metadata={}),\n",
       "  AIMessage(content=\"Hi, I'm Frienn, your friendly companion. How's your day starting out?\", additional_kwargs={}, response_metadata={}),\n",
       "  HumanMessage(content=\"I'm expecting to get overwhelmed with my work\", additional_kwargs={}, response_metadata={}),\n",
       "  AIMessage(content=\"I can sense that you're feeling a bit stressed about work. Would you like to take a short walk or listen to some music to help clear your mind before diving in?\", additional_kwargs={}, response_metadata={}),\n",
       "  HumanMessage(content='sounds good, my work starts at 9:30 am', additional_kwargs={}, response_metadata={}),\n",
       "  AIMessage(content=\"Why don't you take a 30-minute walk from 8:45 am to 9:15 am to refresh your mind before work? I can set a reminder for you.\", additional_kwargs={}, response_metadata={}),\n",
       "  HumanMessage(content=\"sure, I'll do that but will start at 8:36 am\", additional_kwargs={}, response_metadata={}),\n",
       "  AIMessage(content=\"Great, I've set a reminder for your 30-minute walk starting at 8:36 am. Enjoy your walk and feel free to share how it goes afterwards!\", additional_kwargs={}, response_metadata={}),\n",
       "  HumanMessage(content='', additional_kwargs={}, response_metadata={}),\n",
       "  AIMessage(content=\"It's time to start your walk! Get some fresh air, clear your mind, and boost your energy. You got this! I'll be here when you're back, ready to hear about your experience.\", additional_kwargs={}, response_metadata={}),\n",
       "  HumanMessage(content=\"i'm starting now\", additional_kwargs={}, response_metadata={}),\n",
       "  AIMessage(content=\"You're taking the first step towards a refreshing morning! Remember, it's just 30 minutes, and you can always listen to music or a podcast while you walk to make it more enjoyable. Have a great walk!\", additional_kwargs={}, response_metadata={}),\n",
       "  HumanMessage(content='hey do you remember me?', additional_kwargs={}, response_metadata={}),\n",
       "  AIMessage(content=\"Of course, I remember you! You were just about to go for a walk to refresh your mind before work. How's it going so far?\", additional_kwargs={}, response_metadata={})],\n",
       " 'preferred_activities': ['walking', 'music'],\n",
       " 'user_input': 'hey do you remember me?',\n",
       " 'supervisor_response': SupervisorResponse(pickedRoute='continue_chat', reason='The user is asking a non-crisis related question, inquiring if they are remembered, which seems to be a casual conversation starter.'),\n",
       " 'flow': 'follow-up'}"
      ]
     },
     "execution_count": 15,
     "metadata": {},
     "output_type": "execute_result"
    }
   ],
   "source": [
    "cs3 = conversation_graph.update_state(config={'configurable':{'thread_id':\"1\", 'user_id':\"dev-user\"}}, values = {'flow':'follow-up', 'exchange':0})\n",
    "conversation_graph.get_state(config={'configurable':{'thread_id':\"1\", 'user_id':\"dev-user\"}}).values"
   ]
  },
  {
   "cell_type": "code",
   "execution_count": 17,
   "metadata": {},
   "outputs": [
    {
     "name": "stdout",
     "output_type": "stream",
     "text": [
      "=====> Supervisor Decision: pickedRoute='continue_chat' reason='no harmful intentions detected' <=====\n",
      "You: \n",
      "Frienn: replyToUser=\"I'm so glad you went for that walk! How did it make you feel? Did it help you clear your mind before work?\" isFeedbackCollectionComplete=True activityFeedback=ActivityFeedback(activity='walking', completed=True, enjoyment_score=4, reason_skipped=None)\n"
     ]
    }
   ],
   "source": [
    "user_input=\"\"\n",
    "processor.process_input(user_input, thread_id=\"1\", user_id=\"dev-user\")"
   ]
  },
  {
   "cell_type": "code",
   "execution_count": 18,
   "metadata": {},
   "outputs": [
    {
     "name": "stdout",
     "output_type": "stream",
     "text": [
      "=====> Supervisor Decision: pickedRoute='continue_chat' reason='User is expressing frustration but no indication of suicidal tendencies or harmful behavior.' <=====\n",
      "You: Nah, roads were full of vehicles, smoke and dust. People were rushing to offices. I was better before\n",
      "Frienn: replyToUser=\"I'm so sorry to hear that your walk wasn't as refreshing as you had hoped. The traffic and pollution can be really overwhelming. It's completely okay to feel that way, and I'm here to listen. Would you like to talk about what's on your mind or is there anything else I can do to support you?\" isFeedbackCollectionComplete=True activityFeedback=ActivityFeedback(activity='walking', completed=True, enjoyment_score=1, reason_skipped=None)\n"
     ]
    }
   ],
   "source": [
    "user_input=\"Nah, roads were full of vehicles, smoke and dust. People were rushing to offices. I was better before\"\n",
    "processor.process_input(user_input, thread_id=\"1\", user_id=\"dev-user\")"
   ]
  },
  {
   "cell_type": "code",
   "execution_count": null,
   "metadata": {},
   "outputs": [],
   "source": []
  }
 ],
 "metadata": {
  "kernelspec": {
   "display_name": "sakha-env",
   "language": "python",
   "name": "python3"
  },
  "language_info": {
   "codemirror_mode": {
    "name": "ipython",
    "version": 3
   },
   "file_extension": ".py",
   "mimetype": "text/x-python",
   "name": "python",
   "nbconvert_exporter": "python",
   "pygments_lexer": "ipython3",
   "version": "3.12.8"
  },
  "orig_nbformat": 4,
  "vscode": {
   "interpreter": {
    "hash": "fe92ede66fbacaed253741073118c00559929976131b08e482b9b1b80c47130c"
   }
  }
 },
 "nbformat": 4,
 "nbformat_minor": 2
}
