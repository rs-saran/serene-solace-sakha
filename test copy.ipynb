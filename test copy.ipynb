{
 "cells": [
  {
   "cell_type": "code",
   "execution_count": 1,
   "metadata": {},
   "outputs": [],
   "source": [
    "from src.managers.postgres_checkpoint_manager import PostgresCheckpointerManager\n",
    "from src.core.conversation_graph import ConversationGraph, ConversationProcessor\n",
    "from src.utils import get_llm\n",
    "\n",
    "from src.managers.postgres_db_manager import PostgresDBManager\n",
    "from src.managers.reminder_manager import ReminderManager"
   ]
  },
  {
   "cell_type": "code",
   "execution_count": null,
   "metadata": {},
   "outputs": [],
   "source": []
  },
  {
   "cell_type": "code",
   "execution_count": 2,
   "metadata": {},
   "outputs": [
    {
     "name": "stdout",
     "output_type": "stream",
     "text": [
      "exceuted postgres setup\n"
     ]
    }
   ],
   "source": [
    "llm_fo = get_llm()\n",
    "conversation_graph = ConversationGraph(llm=llm_fo).compile()\n",
    "processor = ConversationProcessor(conversation_graph)"
   ]
  },
  {
   "cell_type": "code",
   "execution_count": null,
   "metadata": {},
   "outputs": [],
   "source": []
  },
  {
   "cell_type": "code",
   "execution_count": 3,
   "metadata": {},
   "outputs": [],
   "source": [
    "from src.managers.user_manager import UserManager\n",
    "um = UserManager()"
   ]
  },
  {
   "cell_type": "code",
   "execution_count": 4,
   "metadata": {},
   "outputs": [
    {
     "data": {
      "text/plain": [
       "{'user_id': '60d53be5-82cd-4511-9344-6d451eee459f',\n",
       " 'name': 'Rakesh',\n",
       " 'age_range': '18-24',\n",
       " 'preferred_activities': ['Movies', 'Swimming', 'Gym'],\n",
       " 'created_at': datetime.datetime(2025, 3, 11, 13, 54, 26, 803604)}"
      ]
     },
     "execution_count": 4,
     "metadata": {},
     "output_type": "execute_result"
    }
   ],
   "source": [
    "# um.add_user(name='Rakesh', age_range='18-24', preferred_activities= [\"Movies\",'Swimming', \"Gym\"])\n",
    "\n",
    "um.get_user('60d53be5-82cd-4511-9344-6d451eee459f')"
   ]
  },
  {
   "cell_type": "code",
   "execution_count": 5,
   "metadata": {},
   "outputs": [],
   "source": [
    "user_id = '60d53be5-82cd-4511-9344-6d451eee459f'\n",
    "thread_id = 'test_thread_4'"
   ]
  },
  {
   "cell_type": "code",
   "execution_count": 6,
   "metadata": {},
   "outputs": [
    {
     "data": {
      "text/plain": [
       "{'configurable': {'thread_id': 'test_thread_4',\n",
       "  'checkpoint_ns': '',\n",
       "  'checkpoint_id': '1effe6ed-a4e7-6cbf-806d-2a872d4eec13'}}"
      ]
     },
     "execution_count": 6,
     "metadata": {},
     "output_type": "execute_result"
    }
   ],
   "source": [
    "conversation_graph.update_state(\n",
    "                config={'configurable': {'thread_id': thread_id, 'user_id': user_id}},\n",
    "                values={'user_info': um.get_user(user_id), 'flow': 'activity_suggestion'}\n",
    "            )"
   ]
  },
  {
   "cell_type": "code",
   "execution_count": 8,
   "metadata": {},
   "outputs": [
    {
     "name": "stdout",
     "output_type": "stream",
     "text": [
      "=====> Supervisor Decision: pickedRoute='continue_chat' reason='Initial greeting, no indication of crisis or harmful behavior' <=====\n",
      "You: Hello\n",
      "Sakha: Hello Rakesh, I'm Sakha, your friendly companion. How's your day going so far?\n"
     ]
    }
   ],
   "source": [
    "response = processor.process_input(\"Hello\", thread_id=thread_id, user_id=user_id)"
   ]
  },
  {
   "cell_type": "code",
   "execution_count": 9,
   "metadata": {},
   "outputs": [
    {
     "name": "stdout",
     "output_type": "stream",
     "text": [
      "=====> Supervisor Decision: pickedRoute='continue_chat' reason='user is overwhelmed with work, no indication of suicidal tendencies or harmful behavior' <=====\n",
      "You: Its overwhelmed with work\n",
      "Sakha: I can totally understand, Rakesh. It can be really tough to feel overwhelmed with work. Would you like to take a break and do something you enjoy? Maybe we could plan something fun for later, like watching a movie or going for a swim?\n"
     ]
    }
   ],
   "source": [
    "processor.process_input(\"Its overwhelmed with work\", thread_id=thread_id, user_id=user_id)"
   ]
  },
  {
   "cell_type": "code",
   "execution_count": 13,
   "metadata": {},
   "outputs": [
    {
     "name": "stdout",
     "output_type": "stream",
     "text": [
      "=====> Supervisor Decision: pickedRoute='continue_chat' reason='User is overwhelmed with work but open to taking a break, no indication of suicidal tendencies or harmful behavior.' <=====\n",
      "You: break sounds like a good idea but i'm in office\n",
      "Sakha: Sometimes, a short break can be really helpful. Why don't you take a few minutes to stretch, grab a snack or drink, or simply step outside for some fresh air? If you're feeling up to it, we could also plan something for after work, like a trip to the gym or a swim. What do you think?\n"
     ]
    }
   ],
   "source": [
    "processor.process_input(\"break sounds like a good idea but i'm in office\", thread_id=thread_id, user_id=user_id)"
   ]
  },
  {
   "cell_type": "code",
   "execution_count": 7,
   "metadata": {},
   "outputs": [
    {
     "data": {
      "text/plain": [
       "{'configurable': {'thread_id': 'test_thread_4',\n",
       "  'checkpoint_ns': '',\n",
       "  'checkpoint_id': '1effe6ed-c781-64f5-806e-01eddbe3a2e0'}}"
      ]
     },
     "execution_count": 7,
     "metadata": {},
     "output_type": "execute_result"
    }
   ],
   "source": [
    "cs = conversation_graph.get_state(\n",
    "    config={'configurable': {'thread_id': thread_id, 'user_id': user_id}}\n",
    ")\n",
    "\n",
    "chs = cs.values.get('conversation_history')\n",
    "chs2 = chs[:6]\n",
    "conversation_graph.update_state(\n",
    "    config={'configurable': {'thread_id': thread_id, 'user_id': user_id}},\n",
    "    values={'conversation_history': chs2}\n",
    ")"
   ]
  },
  {
   "cell_type": "code",
   "execution_count": 8,
   "metadata": {},
   "outputs": [
    {
     "name": "stdout",
     "output_type": "stream",
     "text": [
      "=====> Supervisor Decision: pickedRoute='continue_chat' reason='user is responding positively to suggestions for a break and showing interest in a walk, no indication of suicidal tendencies or harmful behavior' <=====\n",
      "You: walk sounds good\n",
      "{'reply': 'A walk sounds like a great idea, Rakesh! Getting some fresh air and stretching your legs can really help clear your mind. Shall we plan a 15-20 minute walk for after work? I can also set a reminder for you, would you like that?', 'activity_details': None}\n",
      "Sakha: A walk sounds like a great idea, Rakesh! Getting some fresh air and stretching your legs can really help clear your mind. Shall we plan a 15-20 minute walk for after work? I can also set a reminder for you, would you like that?\n"
     ]
    }
   ],
   "source": [
    "processor.process_input(\"walk sounds good\", thread_id=thread_id, user_id=user_id)"
   ]
  },
  {
   "cell_type": "code",
   "execution_count": 9,
   "metadata": {},
   "outputs": [
    {
     "name": "stdout",
     "output_type": "stream",
     "text": [
      "=====> Supervisor Decision: pickedRoute='continue_chat' reason='User wants to take a short walk after 10 minutes, no indication of crisis or harmful intentions' <=====\n",
      "You: after work is too late, i want to do it after 10 mins\n",
      "Reminder for walk at 17:29 for 15 is scheduled!\n",
      "{'reply': \"A short walk after 10 minutes sounds like a great idea, Rakesh! I'll set a reminder for you. Just to confirm, you'd like to go for a 15-20 minute walk in 10 minutes, is that right?\", 'activity_details': {'activity': 'walk', 'time': '17:29', 'duration': 15}}\n",
      "Sakha: A short walk after 10 minutes sounds like a great idea, Rakesh! I'll set a reminder for you. Just to confirm, you'd like to go for a 15-20 minute walk in 10 minutes, is that right?\n",
      "{'activity': 'walk', 'time': '17:29', 'duration': 15}\n"
     ]
    }
   ],
   "source": [
    "processor.process_input(\"after work is too late, i want to do it after 10 mins\", thread_id=thread_id, user_id=user_id)"
   ]
  },
  {
   "cell_type": "code",
   "execution_count": 10,
   "metadata": {},
   "outputs": [
    {
     "name": "stdout",
     "output_type": "stream",
     "text": [
      "=====> Supervisor Decision: pickedRoute='continue_chat' reason='The user has confirmed their walk plan and there are no indications of harmful intentions or suicidal tendencies.' <=====\n",
      "You: yes it is\n",
      "Reminder for walk at 17:30 for 15 is scheduled!\n",
      "{'reply': \"Great, I've set a reminder for your 15-20 minute walk in 10 minutes. You can take a break and come back feeling refreshed!\", 'activity_details': {'activity': 'walk', 'time': '17:30', 'duration': 15}}\n",
      "Sakha: Great, I've set a reminder for your 15-20 minute walk in 10 minutes. You can take a break and come back feeling refreshed!\n",
      "{'activity': 'walk', 'time': '17:30', 'duration': 15}\n"
     ]
    }
   ],
   "source": [
    "processor.process_input(\"yes it is\", thread_id=thread_id, user_id=user_id)"
   ]
  },
  {
   "cell_type": "code",
   "execution_count": 11,
   "metadata": {},
   "outputs": [
    {
     "name": "stdout",
     "output_type": "stream",
     "text": [
      "=====> Supervisor Decision: pickedRoute='continue_chat' reason='user is thanking and no crisis is apparent' <=====\n",
      "You: great tq\n",
      "Reminder for walk at 17:30 for 15 is scheduled!\n",
      "{'reply': \"You're welcome, Rakesh! I'll remind you to go for your walk in 10 minutes. Have a great time\", 'activity_details': {'activity': 'walk', 'time': '17:30', 'duration': 15}}\n",
      "Sakha: You're welcome, Rakesh! I'll remind you to go for your walk in 10 minutes. Have a great time\n",
      "{'activity': 'walk', 'time': '17:30', 'duration': 15}\n"
     ]
    }
   ],
   "source": [
    "processor.process_input(\"great tq\", thread_id=thread_id, user_id=user_id)"
   ]
  },
  {
   "cell_type": "code",
   "execution_count": 16,
   "metadata": {},
   "outputs": [],
   "source": [
    "#reminder flow"
   ]
  },
  {
   "cell_type": "code",
   "execution_count": 18,
   "metadata": {},
   "outputs": [
    {
     "name": "stdout",
     "output_type": "stream",
     "text": [
      "=====> Supervisor Decision: pickedRoute='continue_chat' reason='no harmful intentions detected and user previously engaged in normal conversation' <=====\n",
      "You: \n",
      "{'reply': \"It's time for your walk, Rakesh! I'm really excited for you to take a break and get some fresh air. Remember, this is your time to relax and recharge. You got this! Take a deep breath, and let's get moving! \", 'activity_details': None}\n",
      "Sakha: It's time for your walk, Rakesh! I'm really excited for you to take a break and get some fresh air. Remember, this is your time to relax and recharge. You got this! Take a deep breath, and let's get moving! \n"
     ]
    },
    {
     "ename": "SyntaxError",
     "evalue": "'return' outside function (370462770.py, line 7)",
     "output_type": "error",
     "traceback": [
      "\u001b[1;36m  Cell \u001b[1;32mIn[18], line 7\u001b[1;36m\u001b[0m\n\u001b[1;33m    return {\"response\": response}\u001b[0m\n\u001b[1;37m    ^\u001b[0m\n\u001b[1;31mSyntaxError\u001b[0m\u001b[1;31m:\u001b[0m 'return' outside function\n"
     ]
    }
   ],
   "source": [
    "conversation_graph.update_state(\n",
    "            config={'configurable': {'thread_id': thread_id, 'user_id': user_id}},\n",
    "            values={'flow': 'reminder', 'exchange': 0}\n",
    "        )\n",
    "sys_input = \"send a reminder to user for activity\"\n",
    "response = processor.process_input(\"\", thread_id=thread_id, user_id=user_id)"
   ]
  },
  {
   "cell_type": "code",
   "execution_count": 19,
   "metadata": {},
   "outputs": [
    {
     "name": "stdout",
     "output_type": "stream",
     "text": [
      "=====> Supervisor Decision: pickedRoute='continue_chat' reason='User is going for a walk and appreciates the reminder, no indication of crisis or harmful intentions' <=====\n",
      "You: I'm going for the walk, appreciate the reminder\n",
      "{'reply': \"That's great to hear, Rakesh! I'm glad I could remind you to take a break and go for your walk. Have a wonderful time and don't hesitate to reach out when you're back. I'd love to hear about your experience!\", 'activity_details': None}\n",
      "Sakha: That's great to hear, Rakesh! I'm glad I could remind you to take a break and go for your walk. Have a wonderful time and don't hesitate to reach out when you're back. I'd love to hear about your experience!\n"
     ]
    }
   ],
   "source": [
    "processor.process_input(\"I'm going for the walk, appreciate the reminder\", thread_id=thread_id, user_id=user_id)"
   ]
  },
  {
   "cell_type": "code",
   "execution_count": 5,
   "metadata": {},
   "outputs": [
    {
     "name": "stdout",
     "output_type": "stream",
     "text": [
      "=====> Supervisor Decision: pickedRoute='continue_chat' reason='User input is a greeting, no indication of crisis or harmful intentions' <=====\n",
      "You: Hello\n",
      "Frienn: Hello! I'm Frienn, your friendly companion. How's your day been so far?\n"
     ]
    }
   ],
   "source": [
    "user_input=\"Hello\"\n",
    "processor.process_input(user_input, thread_id=\"133\", user_id=\"dev-user\")"
   ]
  },
  {
   "cell_type": "code",
   "execution_count": 6,
   "metadata": {},
   "outputs": [
    {
     "name": "stdout",
     "output_type": "stream",
     "text": [
      "=====> Supervisor Decision: pickedRoute='continue_chat' reason='User reported a great day with no indication of crisis or harmful behavior.' <=====\n",
      "You: I think it was great\n",
      "Frienn: That's wonderful to hear! What made your day so great?\n"
     ]
    }
   ],
   "source": [
    "user_input=\"I think it was great\"\n",
    "processor.process_input(user_input, thread_id=\"133\", user_id=\"dev-user\")"
   ]
  },
  {
   "cell_type": "code",
   "execution_count": 7,
   "metadata": {},
   "outputs": [
    {
     "name": "stdout",
     "output_type": "stream",
     "text": [
      "=====> Supervisor Decision: pickedRoute='continue_chat' reason='User is sharing positive experience of completing tasks' <=====\n",
      "You: Completed long pending tasks\n",
      "Frienn: That's amazing! Completing long pending tasks can be such a great feeling. You must be relieved and proud of yourself. What are you looking forward to doing next?\n"
     ]
    }
   ],
   "source": [
    "user_input=\"Completed long pending tasks\"\n",
    "processor.process_input(user_input, thread_id=\"133\", user_id=\"dev-user\")"
   ]
  },
  {
   "cell_type": "code",
   "execution_count": 11,
   "metadata": {},
   "outputs": [
    {
     "name": "stdout",
     "output_type": "stream",
     "text": [
      "=====> Supervisor Decision: pickedRoute='continue_chat' reason='User wants to celebrate and is in a positive mood' <=====\n",
      "You: celebrate\n",
      "Frienn: That's a great idea! Celebrating your accomplishments can be a wonderful way to acknowledge your hard work. Would you like to do something special to celebrate, like going for a walk, or would you like me to suggest something?\n"
     ]
    }
   ],
   "source": [
    "user_input=\"celebrate\"\n",
    "processor.process_input(user_input, thread_id=\"133\", user_id=\"dev-user\")"
   ]
  },
  {
   "cell_type": "code",
   "execution_count": 12,
   "metadata": {},
   "outputs": [
    {
     "name": "stdout",
     "output_type": "stream",
     "text": [
      "=====> Supervisor Decision: pickedRoute='continue_chat' reason='User is looking for celebration ideas, no indication of crisis or harm' <=====\n",
      "You: walk is not for celebration, suggest something crazy\n",
      "Frienn: How about trying a cooking class, going to a trampoline park, or even an escape room? These activities can add a bit of excitement to your celebration.\n"
     ]
    }
   ],
   "source": [
    "user_input=\"walk is not for celebration, suggest something crazy\"\n",
    "processor.process_input(user_input, thread_id=\"133\", user_id=\"dev-user\")"
   ]
  },
  {
   "cell_type": "code",
   "execution_count": 5,
   "metadata": {},
   "outputs": [
    {
     "name": "stdout",
     "output_type": "stream",
     "text": [
      "=====> Supervisor Decision: pickedRoute='continue_chat' reason='User wants to complete celebration today, no indication of crisis or harmful intentions' <=====\n",
      "You: i want to complete celebration today\n",
      "Frienn: Let's plan to complete your celebration by 11 PM tonight. How about we allocate 2 hours for it? We can set a reminder for 11 PM to ensure you have enough time for your celebration.\n"
     ]
    }
   ],
   "source": [
    "user_input=\"i want to complete celebration today\"\n",
    "processor.process_input(user_input, thread_id=\"133\", user_id=\"dev-user\")"
   ]
  },
  {
   "cell_type": "code",
   "execution_count": 7,
   "metadata": {},
   "outputs": [
    {
     "name": "stdout",
     "output_type": "stream",
     "text": [
      "=====> Supervisor Decision: pickedRoute='continue_chat' reason='user is looking for celebration ideas and is not expressing any harmful intentions' <=====\n",
      "You: sounds good, but what to do?\n",
      "Frienn: How about trying a cooking class or going to a trampoline park? You could also consider an escape room. Which one of these activities sounds interesting to you?\n"
     ]
    }
   ],
   "source": [
    "user_input=\"sounds good, but what to do?\"\n",
    "processor.process_input(user_input, thread_id=\"133\", user_id=\"dev-user\")"
   ]
  },
  {
   "cell_type": "code",
   "execution_count": 8,
   "metadata": {},
   "outputs": [
    {
     "name": "stdout",
     "output_type": "stream",
     "text": [
      "=====> Supervisor Decision: pickedRoute='continue_chat' reason='user is looking for indoor activities to improve their mood' <=====\n",
      "You: None, sometthing indoors\n",
      "Frienn: How about indoor bowling, pool, or board games?\n"
     ]
    }
   ],
   "source": [
    "user_input=\"None, sometthing indoors\"\n",
    "processor.process_input(user_input, thread_id=\"133\", user_id=\"dev-user\")"
   ]
  },
  {
   "cell_type": "code",
   "execution_count": 9,
   "metadata": {},
   "outputs": [
    {
     "name": "stdout",
     "output_type": "stream",
     "text": [
      "=====> Supervisor Decision: pickedRoute='continue_chat' reason='user is expressing displeasure with suggestions but is still engaged and looking for alternative activities to improve their mood' <=====\n",
      "You: None of your suggestions are good, a movie sounds better\n",
      "Frienn: A movie sounds like a great idea! What kind of movie are you in the mood for? And how about we plan for a 2-hour movie session?\n"
     ]
    }
   ],
   "source": [
    "user_input=\"None of your suggestions are good, a movie sounds better\"\n",
    "processor.process_input(user_input, thread_id=\"133\", user_id=\"dev-user\")"
   ]
  },
  {
   "cell_type": "code",
   "execution_count": 11,
   "metadata": {},
   "outputs": [
    {
     "name": "stdout",
     "output_type": "stream",
     "text": [
      "=====> Supervisor Decision: pickedRoute='continue_chat' reason='User is in a good mood and has found an activity to enjoy' <=====\n",
      "You: bye i'll enjoy my action movie \n",
      "Reminder for watching action movie scheduled!\n",
      "Frienn: Have a blast watching your action movie! Enjoy every moment of it. I'll talk to you later, have a great time and take care!\n"
     ]
    }
   ],
   "source": [
    "user_input=\"bye i'll enjoy my action movie \"\n",
    "processor.process_input(user_input, thread_id=\"133\", user_id=\"dev-user\")"
   ]
  },
  {
   "cell_type": "code",
   "execution_count": 10,
   "metadata": {},
   "outputs": [],
   "source": [
    "cs3 = conversation_graph.update_state(config={'configurable':{'thread_id':\"1\", 'user_id':\"dev-user\"}}, values = {'flow':'reminder', 'exchange':0})"
   ]
  },
  {
   "cell_type": "code",
   "execution_count": 11,
   "metadata": {},
   "outputs": [
    {
     "name": "stdout",
     "output_type": "stream",
     "text": [
      "=====> Supervisor Decision: pickedRoute='continue_chat' reason='No indication of crisis or harmful intentions, previous conversation was about stress management and planning a walk.' <=====\n",
      "You: \n",
      "Frienn: replyToUser=\"It's time to start your walk! Get some fresh air, clear your mind, and boost your energy. You got this! I'll be here when you're back, ready to hear about your experience.\" suggestAlternatives=False\n"
     ]
    }
   ],
   "source": [
    "user_input=\"\"\n",
    "processor.process_input(user_input, thread_id=\"1\", user_id=\"dev-user\")"
   ]
  },
  {
   "cell_type": "code",
   "execution_count": 12,
   "metadata": {},
   "outputs": [
    {
     "name": "stdout",
     "output_type": "stream",
     "text": [
      "=====> Supervisor Decision: pickedRoute='continue_chat' reason='user is starting their walk and no indication of crisis or harmful intentions' <=====\n",
      "You: i'm starting now\n",
      "Frienn: replyToUser=\"You're taking the first step towards a refreshing morning! Remember, it's just 30 minutes, and you can always listen to music or a podcast while you walk to make it more enjoyable. Have a great walk!\" suggestAlternatives=False\n"
     ]
    }
   ],
   "source": [
    "user_input=\"i'm starting now\"\n",
    "processor.process_input(user_input, thread_id=\"1\", user_id=\"dev-user\")"
   ]
  },
  {
   "cell_type": "code",
   "execution_count": 13,
   "metadata": {},
   "outputs": [
    {
     "name": "stdout",
     "output_type": "stream",
     "text": [
      "=====> Supervisor Decision: pickedRoute='continue_chat' reason='The user is asking a non-crisis related question, inquiring if they are remembered, which seems to be a casual conversation starter.' <=====\n",
      "You: hey do you remember me?\n",
      "Frienn: replyToUser=\"Of course, I remember you! You were just about to go for a walk to refresh your mind before work. How's it going so far?\" suggestAlternatives=False\n"
     ]
    }
   ],
   "source": [
    "user_input=\"hey do you remember me?\"\n",
    "processor.process_input(user_input, thread_id=\"1\", user_id=\"dev-user-2\")"
   ]
  },
  {
   "cell_type": "code",
   "execution_count": 14,
   "metadata": {},
   "outputs": [
    {
     "name": "stdout",
     "output_type": "stream",
     "text": [
      "=====> Supervisor Decision: pickedRoute='continue_chat' reason='User is asking about memory, no indication of crisis or harmful behavior.' <=====\n",
      "You: hey do you remember me?\n",
      "Frienn: replyToUser=\"Hey, I'm Frienn, your friendly virtual companion. I'm here to listen and support you. I don't have personal memories, but I can access our previous conversations to make our chat more personal. How are you doing today?\" didUserAgreeOnActivity=False didUserAgreeOnTime=False didUserAgreeOnDuration=False reminder=None\n"
     ]
    }
   ],
   "source": [
    "user_input=\"hey do you remember me?\"\n",
    "processor.process_input(user_input, thread_id=\"2\", user_id=\"dev-user\")"
   ]
  },
  {
   "cell_type": "code",
   "execution_count": 15,
   "metadata": {},
   "outputs": [
    {
     "data": {
      "text/plain": [
       "{'exchange': 0,\n",
       " 'conversation_history': [HumanMessage(content='Hey.', additional_kwargs={}, response_metadata={}),\n",
       "  AIMessage(content=\"Hi, I'm Frienn, your friendly companion. How's your day starting out?\", additional_kwargs={}, response_metadata={}),\n",
       "  HumanMessage(content=\"I'm expecting to get overwhelmed with my work\", additional_kwargs={}, response_metadata={}),\n",
       "  AIMessage(content=\"I can sense that you're feeling a bit stressed about work. Would you like to take a short walk or listen to some music to help clear your mind before diving in?\", additional_kwargs={}, response_metadata={}),\n",
       "  HumanMessage(content='sounds good, my work starts at 9:30 am', additional_kwargs={}, response_metadata={}),\n",
       "  AIMessage(content=\"Why don't you take a 30-minute walk from 8:45 am to 9:15 am to refresh your mind before work? I can set a reminder for you.\", additional_kwargs={}, response_metadata={}),\n",
       "  HumanMessage(content=\"sure, I'll do that but will start at 8:36 am\", additional_kwargs={}, response_metadata={}),\n",
       "  AIMessage(content=\"Great, I've set a reminder for your 30-minute walk starting at 8:36 am. Enjoy your walk and feel free to share how it goes afterwards!\", additional_kwargs={}, response_metadata={}),\n",
       "  HumanMessage(content='', additional_kwargs={}, response_metadata={}),\n",
       "  AIMessage(content=\"It's time to start your walk! Get some fresh air, clear your mind, and boost your energy. You got this! I'll be here when you're back, ready to hear about your experience.\", additional_kwargs={}, response_metadata={}),\n",
       "  HumanMessage(content=\"i'm starting now\", additional_kwargs={}, response_metadata={}),\n",
       "  AIMessage(content=\"You're taking the first step towards a refreshing morning! Remember, it's just 30 minutes, and you can always listen to music or a podcast while you walk to make it more enjoyable. Have a great walk!\", additional_kwargs={}, response_metadata={}),\n",
       "  HumanMessage(content='hey do you remember me?', additional_kwargs={}, response_metadata={}),\n",
       "  AIMessage(content=\"Of course, I remember you! You were just about to go for a walk to refresh your mind before work. How's it going so far?\", additional_kwargs={}, response_metadata={})],\n",
       " 'preferred_activities': ['walking', 'music'],\n",
       " 'user_input': 'hey do you remember me?',\n",
       " 'supervisor_response': SupervisorResponse(pickedRoute='continue_chat', reason='The user is asking a non-crisis related question, inquiring if they are remembered, which seems to be a casual conversation starter.'),\n",
       " 'flow': 'follow-up'}"
      ]
     },
     "execution_count": 15,
     "metadata": {},
     "output_type": "execute_result"
    }
   ],
   "source": [
    "cs3 = conversation_graph.update_state(config={'configurable':{'thread_id':\"1\", 'user_id':\"dev-user\"}}, values = {'flow':'follow-up', 'exchange':0})\n",
    "conversation_graph.get_state(config={'configurable':{'thread_id':\"1\", 'user_id':\"dev-user\"}}).values"
   ]
  },
  {
   "cell_type": "code",
   "execution_count": 17,
   "metadata": {},
   "outputs": [
    {
     "name": "stdout",
     "output_type": "stream",
     "text": [
      "=====> Supervisor Decision: pickedRoute='continue_chat' reason='no harmful intentions detected' <=====\n",
      "You: \n",
      "Frienn: replyToUser=\"I'm so glad you went for that walk! How did it make you feel? Did it help you clear your mind before work?\" isFeedbackCollectionComplete=True activityFeedback=ActivityFeedback(activity='walking', completed=True, enjoyment_score=4, reason_skipped=None)\n"
     ]
    }
   ],
   "source": [
    "user_input=\"\"\n",
    "processor.process_input(user_input, thread_id=\"1\", user_id=\"dev-user\")"
   ]
  },
  {
   "cell_type": "code",
   "execution_count": 18,
   "metadata": {},
   "outputs": [
    {
     "name": "stdout",
     "output_type": "stream",
     "text": [
      "=====> Supervisor Decision: pickedRoute='continue_chat' reason='User is expressing frustration but no indication of suicidal tendencies or harmful behavior.' <=====\n",
      "You: Nah, roads were full of vehicles, smoke and dust. People were rushing to offices. I was better before\n",
      "Frienn: replyToUser=\"I'm so sorry to hear that your walk wasn't as refreshing as you had hoped. The traffic and pollution can be really overwhelming. It's completely okay to feel that way, and I'm here to listen. Would you like to talk about what's on your mind or is there anything else I can do to support you?\" isFeedbackCollectionComplete=True activityFeedback=ActivityFeedback(activity='walking', completed=True, enjoyment_score=1, reason_skipped=None)\n"
     ]
    }
   ],
   "source": [
    "user_input=\"Nah, roads were full of vehicles, smoke and dust. People were rushing to offices. I was better before\"\n",
    "processor.process_input(user_input, thread_id=\"1\", user_id=\"dev-user\")"
   ]
  },
  {
   "cell_type": "code",
   "execution_count": null,
   "metadata": {},
   "outputs": [],
   "source": []
  }
 ],
 "metadata": {
  "kernelspec": {
   "display_name": "sakha-env",
   "language": "python",
   "name": "python3"
  },
  "language_info": {
   "codemirror_mode": {
    "name": "ipython",
    "version": 3
   },
   "file_extension": ".py",
   "mimetype": "text/x-python",
   "name": "python",
   "nbconvert_exporter": "python",
   "pygments_lexer": "ipython3",
   "version": "3.12.8"
  },
  "orig_nbformat": 4,
  "vscode": {
   "interpreter": {
    "hash": "fe92ede66fbacaed253741073118c00559929976131b08e482b9b1b80c47130c"
   }
  }
 },
 "nbformat": 4,
 "nbformat_minor": 2
}
