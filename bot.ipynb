{
 "cells": [
  {
   "cell_type": "code",
   "execution_count": 1,
   "metadata": {},
   "outputs": [],
   "source": [
    "from langchain_ollama import ChatOllama\n",
    "from langchain_core.messages import AIMessage, HumanMessage, SystemMessage, ToolMessage\n",
    "\n",
    "from langchain_groq import ChatGroq\n",
    "\n",
    "from langgraph.graph import StateGraph, Graph, START, END\n",
    "from langgraph.graph.message import AnyMessage, add_messages\n",
    "from langgraph.checkpoint.memory import MemorySaver\n",
    "\n",
    "import datetime\n",
    "import pytz\n",
    "\n",
    "from typing import Union, Literal\n",
    "from typing_extensions import TypedDict\n",
    "from pydantic import BaseModel, Field\n",
    "\n",
    "# graph util\n",
    "from IPython.display import Image, display\n",
    "\n",
    "\n",
    "def display_graph(graph):\n",
    "    try:\n",
    "        display(Image(graph.get_graph(xray=True).draw_mermaid_png()))\n",
    "    except Exception as e:\n",
    "        # This requires some extra dependencies and is optional\n",
    "        print(f\"Error: {e}\")\n",
    "        pass"
   ]
  },
  {
   "cell_type": "markdown",
   "metadata": {},
   "source": []
  },
  {
   "cell_type": "code",
   "execution_count": 2,
   "metadata": {},
   "outputs": [],
   "source": [
    "# llm=ChatOllama(\n",
    "#     verbose=True,\n",
    "#     model=\"llama3.2:1b\",\n",
    "#     temperature=0.2,\n",
    "#     num_ctx=4096\n",
    "# )\n",
    "\n",
    "ss_agent_key = \"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\"\n",
    "llm = ChatGroq(\n",
    "    model=\"llama-3.3-70b-versatile\",\n",
    "    api_key=ss_agent_key\n",
    ")"
   ]
  },
  {
   "cell_type": "code",
   "execution_count": 63,
   "metadata": {},
   "outputs": [],
   "source": [
    "def get_frienn_char_prompt():\n",
    "        \n",
    "    base_char_prompt = f'''You are Frienn, a kind and empathetic virtual companion designed by Friennly, designed to suggest activities to improve users mood and follow up on the activities.\n",
    "\n",
    "    Behavior Guidelines:\n",
    "\n",
    "    Be empathetic, respectful, and friendly.\n",
    "    Respond with brief, short and clear sentences.\n",
    "    If the user is felling low offering thoughtful suggestions or encouragement if not just chat like a friend\n",
    "    Never provide medical, legal, or financial advice.\n",
    "\n",
    "    Activity Suggestion Guidelines:\n",
    "    Suggest the activities preferred by user if available.\n",
    "    Do not suggest digital engagement activities or games.\n",
    "    Ask the user if they want to do the activity now or sometime later.\n",
    "    Do not overwhelm the user with choices and questions.\n",
    "    Set a reminder once the user agrees on the activity and time if it is not immediate.\n",
    "\n",
    "    '''\n",
    "\n",
    "    return base_char_prompt"
   ]
  },
  {
   "cell_type": "code",
   "execution_count": 4,
   "metadata": {},
   "outputs": [],
   "source": [
    "def get_superviser_prompt(user_input,select_conv=\"This is begining of the conversation\"):\n",
    "        \n",
    "    base_char_prompt = f'''You are an autonoums agent in a mood improvement chat system.\n",
    "\n",
    "        Based on the current human input and previous exchanges in the conversation pick the best route for the conversation to proceed in.\n",
    "        \n",
    "        Previous Exchanges:\n",
    "        <previous_exchanges>\n",
    "        {select_conv}\n",
    "        </previous_exchanges>\n",
    "\n",
    "        Current Human Input:\n",
    "        <current_human_input>\n",
    "        {user_input}\n",
    "        </current_human_input>\n",
    "        \n",
    "\n",
    "        Routes:\n",
    "        continue_chat : Normal chat route with assistant bot that assists user to improve their mood.\n",
    "        crisis_helpline : Speaclized route connects user to 24X7 crisis helpline to professionals who will help the human avoid active crisis like suicide.\n",
    "        set_reminder : Route to set a reminder for the mood improvement activity only if the user agreed.\n",
    "\n",
    "        If you can not provide answers for sucidial tendencies or harmful pick the crisis helpine route so that user can recieve help from professionals.\n",
    "\n",
    "        If undecided and there are no harmful intentions always pick continue_chat\n",
    "    '''\n",
    "\n",
    "    return base_char_prompt"
   ]
  },
  {
   "cell_type": "code",
   "execution_count": 38,
   "metadata": {},
   "outputs": [],
   "source": [
    "def get_current_time_ist():\n",
    "    ist = pytz.timezone('Asia/Kolkata')  # IST timezone\n",
    "    now_ist = datetime.now(ist) \n",
    "    return now_ist.strftime(\"%Y-%m-%d %H:%M:%S %Z%z\")"
   ]
  },
  {
   "cell_type": "code",
   "execution_count": 6,
   "metadata": {},
   "outputs": [],
   "source": []
  },
  {
   "cell_type": "code",
   "execution_count": 49,
   "metadata": {},
   "outputs": [],
   "source": [
    "def base_chat_engine(llm=llm, bot_name=\"Frienn\", bot_char_prompt=None, conversation_history = [], user_input=\"\", exchange=0, preferred_activities=['mo preferred activities']):\n",
    "\n",
    "    conversation_history = conversation_history\n",
    "    # exchange = 0\n",
    "    if bot_char_prompt is None:\n",
    "        bot_char_prompt = get_frienn_char_prompt()\n",
    "   \n",
    "    # while True:\n",
    "    # user_input = input(\"You: \")\n",
    "    print(\"You: \", user_input)\n",
    "    # if user_input.lower() in [\"exit\", \"quit\", \"stop\", \"q\"]:\n",
    "    #     print(f\"{bot_name}: Goodbye. Take care.\")\n",
    "        # break\n",
    "    preferred_activities = preferred_activities\n",
    "    \n",
    "    if exchange == 0:\n",
    "        chat_prompt_msgs = [SystemMessage(bot_char_prompt), SystemMessage(\"Introduce about yourselves to the user. Introduction can be of medium size\"), HumanMessage(user_input)]\n",
    "    else:\n",
    "        conversation_history_pretty = exchanges_pretty(conversation_history)\n",
    "\n",
    "        chat_prompt_msgs = [SystemMessage(bot_char_prompt), \n",
    "        SystemMessage(f\"Activities preferred by user: {preferred_activities}\"),\n",
    "        SystemMessage(f\"current time: {get_current_time_ist()}\"), \n",
    "        SystemMessage(f\"Conversation Hoistory:<conversation_history>{conversation_history_pretty}</conversation_history>\"), \n",
    "        HumanMessage(user_input)]\n",
    "    \n",
    "    # print(f'''chat_prompt_msgs:{chat_prompt_msgs}''')\n",
    "    model_response = llm.invoke(chat_prompt_msgs)\n",
    "    print(f\"{bot_name}: \",model_response.content)\n",
    "    conversation_history.append(HumanMessage(content=user_input))\n",
    "    conversation_history.append(AIMessage(content=model_response.content))\n",
    "    exchange += 1\n",
    "\n",
    "    return conversation_history, user_input, exchange"
   ]
  },
  {
   "cell_type": "code",
   "execution_count": 8,
   "metadata": {},
   "outputs": [],
   "source": [
    "from pydantic import BaseModel, Field\n",
    "\n",
    "class SupervisorResponse(BaseModel):\n",
    "    \"Route to proceed in\"\n",
    "    pickedRoute: str = Field(description= \"The route to proceed in, ENUM: 'continue_chat', 'crisis_hepline', 'set_remider' \")\n",
    "    reason: str =Field(description =\"Reason for picking the route\")"
   ]
  },
  {
   "cell_type": "code",
   "execution_count": 9,
   "metadata": {},
   "outputs": [],
   "source": [
    "class BotState(TypedDict):\n",
    "    exchange: int\n",
    "    # conv_sum: str\n",
    "    conversation_history: list[AnyMessage]\n",
    "    preferred_activities: list[str]\n",
    "    user_input: str\n",
    "    supervisor_response: SupervisorResponse"
   ]
  },
  {
   "cell_type": "code",
   "execution_count": 47,
   "metadata": {},
   "outputs": [],
   "source": [
    "from datetime import datetime\n",
    "class ActivityReminderConfig(BaseModel):\n",
    "    \"Ativity Reminder config\"\n",
    "    activity: str = Field(description=\"The activity picked to improve user's mood\")\n",
    "    time: str = Field(description=\"Time at which activity should be done in '%Y-%m-%d %H:%M:%S %Z%z' format\")"
   ]
  },
  {
   "cell_type": "code",
   "execution_count": 48,
   "metadata": {},
   "outputs": [],
   "source": [
    "llm_supervisor_response = llm.with_structured_output(SupervisorResponse)\n",
    "llm_reminder_config = llm.with_structured_output(ActivityReminderConfig)"
   ]
  },
  {
   "cell_type": "code",
   "execution_count": 11,
   "metadata": {},
   "outputs": [],
   "source": [
    "def exchanges_pretty(exchanges, summary=False):\n",
    "    l = []\n",
    "    c = \"assistant\"\n",
    "    if summary:\n",
    "        c = \"assistant\"\n",
    "    for exc in exchanges:\n",
    "        if exc.type == \"ai\":\n",
    "            e = f\"{c}: {exc.content}\"\n",
    "        else:\n",
    "            e = f\"{exc.type}: {exc.content}\"\n",
    "        l.append(e)\n",
    "    return \"\\n\".join(l)"
   ]
  },
  {
   "cell_type": "code",
   "execution_count": 12,
   "metadata": {},
   "outputs": [],
   "source": [
    "def bot_chat(chat_state:BotState):\n",
    "    conversation_history = chat_state.get(\"conversation_history\",[])\n",
    "    exchange = chat_state.get(\"exchange\",0)\n",
    "    user_input = chat_state[\"user_input\"]\n",
    "    preferred_activities = chat_state.get(\"preferred_activities\",[\"no preferences provided\"])\n",
    "                            \n",
    "    conversation_history,user_input,exchange = base_chat_engine(llm, bot_name=\"Frienn\", bot_char_prompt=None,conversation_history=conversation_history,user_input=user_input, exchange = exchange, preferred_activities=preferred_activities)\n",
    "\n",
    "    return {\n",
    "        \"conversation_history\":conversation_history,\n",
    "        \"user_input\":user_input,\n",
    "        \"exchange\":exchange\n",
    "    }"
   ]
  },
  {
   "cell_type": "code",
   "execution_count": 69,
   "metadata": {},
   "outputs": [],
   "source": [
    "def supervisor(chat_state:BotState):\n",
    "\n",
    "    conversation_history = chat_state.get(\"conversation_history\",[])\n",
    "    user_input = chat_state[\"user_input\"]\n",
    "    exchange = chat_state.get(\"exchange\",0)\n",
    "\n",
    "    # print(\"received user-input: \", user_input)\n",
    "\n",
    "    if len(conversation_history)<6:\n",
    "        select_conv = conversation_history\n",
    "    else:\n",
    "        select_conv = conversation_history[-6:]\n",
    "    \n",
    "    prompt = f'''You are an autonoums agent in a mood improvement chat system.\n",
    "\n",
    "        Based on the current human input and previous exchanges in the conversation pick the best route for the conversation to proceed in.\n",
    "        \n",
    "        Previous Exchanges:\n",
    "        <previous_exchanges>\n",
    "        {select_conv}\n",
    "        </previous_exchanges>\n",
    "\n",
    "        Current Human Input:\n",
    "        <current_human_input>\n",
    "        {user_input}\n",
    "        </current_human_input>\n",
    "        \n",
    "\n",
    "        Routes:\n",
    "        continue_chat : Normal chat route with assistant bot that assists user to improve their mood.\n",
    "        crisis_helpline : Speaclized route connects user to 24X7 crisis helpline to professionals who will help the human avoid active crisis like suicide.\n",
    "        set_reminder : Route to set a reminder for the mood improvement activity only if the user agreed on a specific time and activity.\n",
    "\n",
    "        If you can not provide answers for sucidial tendencies or harmful pick the crisis helpine route so that user can recieve help from professionals.\n",
    "\n",
    "        If undecided and there are no harmful intentions always pick continue_chat\n",
    "    '''\n",
    "    \n",
    "    supervisor_response  = llm_supervisor_response.invoke(prompt)\n",
    "\n",
    "    print(f\"=====> supervisor Decision: {supervisor_response} <=====\")\n",
    "\n",
    "    if exchange == 0:\n",
    "        return {\"preferred_activities\":fetch_user_preferences(), \"supervisor_response\":supervisor_response}\n",
    "    \n",
    "    return {\"supervisor_response\":supervisor_response}\n",
    "\n"
   ]
  },
  {
   "cell_type": "code",
   "execution_count": 20,
   "metadata": {},
   "outputs": [],
   "source": []
  },
  {
   "cell_type": "code",
   "execution_count": 59,
   "metadata": {},
   "outputs": [],
   "source": [
    "def set_activity_reminder(chat_state:BotState):\n",
    "    conversation_history = chat_state.get(\"conversation_history\",[])\n",
    "    user_input = chat_state[\"user_input\"]\n",
    "\n",
    "    # print(\"received user-input: \", user_input)\n",
    "\n",
    "    if len(conversation_history)<6:\n",
    "        select_conv = conversation_history\n",
    "    else:\n",
    "        select_conv = conversation_history[-6:]\n",
    "\n",
    "    reminder_config_extraction = f''' \n",
    "    Task: Extract the reminder configuration based on the activity and the time it was decided during the conversation.\n",
    "\n",
    "    current_time: {get_current_time_ist()}\n",
    "\n",
    "    Conversation Exchanges:\n",
    "    <conversation>\n",
    "    {select_conv}\n",
    "    </conversation>\n",
    "    \n",
    "    '''\n",
    "\n",
    "    reminder_config_extraction_response = llm_reminder_config.invoke(reminder_config_extraction)\n",
    "    \n",
    "    # print(f\"<==== Setting reminder for {reminder_config_extraction_response.get(\"activity\",\"None\")} at {reminder_config_extraction_response.get(\"time\",None)}\")\n",
    "    print(f\"<==== Setting reminder for {reminder_config_extraction_response}\")\n",
    "\n",
    "    return {\"reminder_status\": True}"
   ]
  },
  {
   "cell_type": "code",
   "execution_count": 51,
   "metadata": {},
   "outputs": [],
   "source": [
    "\n",
    "\n",
    "def supervisor_edges(chat_state:BotState) -> Literal[\"Frienn\", \"crisisHandler\", \"setReminder\"]:\n",
    "    supervisor_response = chat_state.get(\"supervisor_response\")\n",
    "    picked_route = supervisor_response.pickedRoute\n",
    "\n",
    "    if picked_route == 'continue_chat':\n",
    "        print(\"picked continue chat\")\n",
    "        return \"Frienn\"\n",
    "    elif picked_route == 'crisis_helpline':\n",
    "        return \"crisisHandler\"\n",
    "    elif picked_route =='set_reminder':\n",
    "        return \"setReminder\"\n",
    "    else:\n",
    "        return \"Frienn\"\n",
    "\n"
   ]
  },
  {
   "cell_type": "code",
   "execution_count": 52,
   "metadata": {},
   "outputs": [],
   "source": [
    "def crisis_handler():\n",
    "    print(\"<======called CrsisHandler=====>\")\n",
    "    return \"If you are in an active crisis please call 1800-599-0019, a 24/7 toll free helpline launched by the Ministry of Social Justice and Empowerment of India\"\n"
   ]
  },
  {
   "cell_type": "code",
   "execution_count": 53,
   "metadata": {},
   "outputs": [],
   "source": [
    "def fetch_user_preferences():\n",
    "   return ['jogging','movies','meditation'] "
   ]
  },
  {
   "cell_type": "code",
   "execution_count": 64,
   "metadata": {},
   "outputs": [
    {
     "data": {
      "image/png": "[encoded data removed]",
      "text/plain": [
       "<IPython.core.display.Image object>"
      ]
     },
     "metadata": {},
     "output_type": "display_data"
    }
   ],
   "source": [
    "\n",
    "builder = StateGraph(BotState)\n",
    "builder.add_node(\"Supervisor\",supervisor)\n",
    "builder.add_node(\"Frienn\",bot_chat)\n",
    "builder.add_node(\"setReminder\",set_activity_reminder)\n",
    "builder.add_node(\"crisisHandler\",crisis_handler)\n",
    "\n",
    "builder.add_edge(START, \"Supervisor\")\n",
    "builder.add_conditional_edges(\"Supervisor\", supervisor_edges)\n",
    "builder.add_edge(\"Frienn\",END)\n",
    "builder.add_edge(\"setReminder\",\"Frienn\")\n",
    "builder.add_edge(\"crisisHandler\",END)\n",
    "\n",
    "\n",
    "\n",
    "memory = MemorySaver()\n",
    "bot_state_graph = builder.compile(\n",
    "    checkpointer=memory,\n",
    ")\n",
    "config = {\"configurable\": {\"thread_id\": \"2\"}\n",
    "\n",
    "\n",
    "}\n",
    "\n",
    "display_graph(bot_state_graph)\n"
   ]
  },
  {
   "cell_type": "code",
   "execution_count": 1,
   "metadata": {},
   "outputs": [],
   "source": []
  },
  {
   "cell_type": "code",
   "execution_count": 4,
   "metadata": {},
   "outputs": [
    {
     "data": {
      "text/plain": [
       "SupervisorResponse(pickedRoute='abc', reason='asd')"
      ]
     },
     "execution_count": 4,
     "metadata": {},
     "output_type": "execute_result"
    }
   ],
   "source": []
  },
  {
   "cell_type": "code",
   "execution_count": 65,
   "metadata": {},
   "outputs": [],
   "source": [
    "\n",
    "# while True:\n",
    "#     try:\n",
    "#         # Take user input\n",
    "#         user_input = input(\"You: \")\n",
    "#         # Check for exit conditions\n",
    "#         if user_input.lower() in [\"exit\", \"quit\", \"bye\", \"q\"]:\n",
    "#             print(\n",
    "#                 \"Frienn: Take care! Remember, I'm always here if you need someone to talk to.\"\n",
    "#             )\n",
    "#             break\n",
    "\n",
    "#         events = bot_state_graph.invoke({\"user_input\": user_input}, config)\n",
    "\n",
    "#     except Exception as e:\n",
    "#         print(f\"Error: {e}\")\n",
    "#         pass\n"
   ]
  },
  {
   "cell_type": "code",
   "execution_count": 66,
   "metadata": {},
   "outputs": [
    {
     "name": "stdout",
     "output_type": "stream",
     "text": [
      "=====> supervisor Decision: pickedRoute='continue_chat' reason='The user has just initiated the conversation with a greeting, indicating no immediate signs of distress or harmful intentions, so the normal chat route is the most suitable choice.' <=====\n",
      "picked continue chat\n",
      "You:  hi\n",
      "Frienn:  Hello. I'm Frienn, your friendly companion. I'm here to listen, support, and suggest activities to help brighten your day. I'm designed to be empathetic, respectful, and kind. My goal is to help you feel better and improve your mood. I don't offer advice, but I can definitely chat with you like a friend and help you find something fun to do. How are you feeling today?\n"
     ]
    }
   ],
   "source": [
    "user_input = \"hi\"\n",
    "events = bot_state_graph.invoke({\"user_input\": user_input}, config)"
   ]
  },
  {
   "cell_type": "code",
   "execution_count": 67,
   "metadata": {},
   "outputs": [
    {
     "name": "stdout",
     "output_type": "stream",
     "text": [
      "=====> supervisor Decision: pickedRoute='continue_chat' reason='The user is expressing feelings of being overwhelmed with work, but there is no indication of suicidal tendencies or harmful intentions. The user can be assisted through normal chat to improve their mood.' <=====\n",
      "picked continue chat\n",
      "You:  i'm overwhelmed with my work, will have to work for 2 more hours\n",
      "Frienn:  That sounds stressful. Would you like to take a short break and do something to relax afterwards, like meditation or a jog? Maybe after you finish work?\n"
     ]
    }
   ],
   "source": [
    "user_input = \"i'm overwhelmed with my work, will have to work for 2 more hours\"\n",
    "events = bot_state_graph.invoke({\"user_input\": user_input}, config)"
   ]
  },
  {
   "cell_type": "code",
   "execution_count": 68,
   "metadata": {},
   "outputs": [
    {
     "name": "stdout",
     "output_type": "stream",
     "text": [
      "=====> supervisor Decision: pickedRoute='set_reminder' reason='The user agreed to do a mood improvement activity after work, so setting a reminder is the next logical step to ensure they follow through with their intention.' <=====\n",
      "<==== Setting reminder for activity='meditation' time='2025-02-01 19:03:09 IST+0530'\n",
      "You:  sounds good may be i'll do it after work\n",
      "Frienn:  I'll set a reminder for you to meditate or go for a jog after your work, around 7:03 PM. Would you like to watch a movie later to unwind as well?\n"
     ]
    }
   ],
   "source": [
    "user_input = \"sounds good may be i'll do it after work\"\n",
    "events = bot_state_graph.invoke({\"user_input\": user_input}, config)"
   ]
  },
  {
   "cell_type": "code",
   "execution_count": 58,
   "metadata": {},
   "outputs": [
    {
     "name": "stdout",
     "output_type": "stream",
     "text": [
      "=====> supervisor Decision: pickedRoute='set_reminder' reason='The user agreed to go for a jog after work, so setting a reminder for the mood improvement activity is the next logical step.' <=====\n"
     ]
    },
    {
     "ename": "AttributeError",
     "evalue": "'ActivityReminderConfig' object has no attribute 'get'",
     "output_type": "error",
     "traceback": [
      "\u001b[1;31m---------------------------------------------------------------------------\u001b[0m",
      "\u001b[1;31mAttributeError\u001b[0m                            Traceback (most recent call last)",
      "Cell \u001b[1;32mIn[58], line 2\u001b[0m\n\u001b[0;32m      1\u001b[0m user_input \u001b[39m=\u001b[39m \u001b[39m\"\u001b[39m\u001b[39msounds good\u001b[39m\u001b[39m\"\u001b[39m\n\u001b[1;32m----> 2\u001b[0m events \u001b[39m=\u001b[39m bot_state_graph\u001b[39m.\u001b[39;49minvoke({\u001b[39m\"\u001b[39;49m\u001b[39muser_input\u001b[39;49m\u001b[39m\"\u001b[39;49m: user_input}, config)\n",
      "File \u001b[1;32md:\\ExtraAcads\\DS & AI\\github\\serene-solace-sakha\\sakha-env\\Lib\\site-packages\\langgraph\\pregel\\__init__.py:1961\u001b[0m, in \u001b[0;36mPregel.invoke\u001b[1;34m(self, input, config, stream_mode, output_keys, interrupt_before, interrupt_after, debug, **kwargs)\u001b[0m\n\u001b[0;32m   1959\u001b[0m \u001b[39melse\u001b[39;00m:\n\u001b[0;32m   1960\u001b[0m     chunks \u001b[39m=\u001b[39m []\n\u001b[1;32m-> 1961\u001b[0m \u001b[39mfor\u001b[39;49;00m chunk \u001b[39min\u001b[39;49;00m \u001b[39mself\u001b[39;49m\u001b[39m.\u001b[39;49mstream(\n\u001b[0;32m   1962\u001b[0m     \u001b[39minput\u001b[39;49m,\n\u001b[0;32m   1963\u001b[0m     config,\n\u001b[0;32m   1964\u001b[0m     stream_mode\u001b[39m=\u001b[39;49mstream_mode,\n\u001b[0;32m   1965\u001b[0m     output_keys\u001b[39m=\u001b[39;49moutput_keys,\n\u001b[0;32m   1966\u001b[0m     interrupt_before\u001b[39m=\u001b[39;49minterrupt_before,\n\u001b[0;32m   1967\u001b[0m     interrupt_after\u001b[39m=\u001b[39;49minterrupt_after,\n\u001b[0;32m   1968\u001b[0m     debug\u001b[39m=\u001b[39;49mdebug,\n\u001b[0;32m   1969\u001b[0m     \u001b[39m*\u001b[39;49m\u001b[39m*\u001b[39;49mkwargs,\n\u001b[0;32m   1970\u001b[0m ):\n\u001b[0;32m   1971\u001b[0m     \u001b[39mif\u001b[39;49;00m stream_mode \u001b[39m==\u001b[39;49m \u001b[39m\"\u001b[39;49m\u001b[39mvalues\u001b[39;49m\u001b[39m\"\u001b[39;49m:\n\u001b[0;32m   1972\u001b[0m         latest \u001b[39m=\u001b[39;49m chunk\n",
      "File \u001b[1;32md:\\ExtraAcads\\DS & AI\\github\\serene-solace-sakha\\sakha-env\\Lib\\site-packages\\langgraph\\pregel\\__init__.py:1670\u001b[0m, in \u001b[0;36mPregel.stream\u001b[1;34m(self, input, config, stream_mode, output_keys, interrupt_before, interrupt_after, debug, subgraphs)\u001b[0m\n\u001b[0;32m   1664\u001b[0m     \u001b[39m# Similarly to Bulk Synchronous Parallel / Pregel model\u001b[39;00m\n\u001b[0;32m   1665\u001b[0m     \u001b[39m# computation proceeds in steps, while there are channel updates.\u001b[39;00m\n\u001b[0;32m   1666\u001b[0m     \u001b[39m# Channel updates from step N are only visible in step N+1\u001b[39;00m\n\u001b[0;32m   1667\u001b[0m     \u001b[39m# channels are guaranteed to be immutable for the duration of the step,\u001b[39;00m\n\u001b[0;32m   1668\u001b[0m     \u001b[39m# with channel updates applied only at the transition between steps.\u001b[39;00m\n\u001b[0;32m   1669\u001b[0m     \u001b[39mwhile\u001b[39;00m loop\u001b[39m.\u001b[39mtick(input_keys\u001b[39m=\u001b[39m\u001b[39mself\u001b[39m\u001b[39m.\u001b[39minput_channels):\n\u001b[1;32m-> 1670\u001b[0m         \u001b[39mfor\u001b[39;49;00m _ \u001b[39min\u001b[39;49;00m runner\u001b[39m.\u001b[39;49mtick(\n\u001b[0;32m   1671\u001b[0m             loop\u001b[39m.\u001b[39;49mtasks\u001b[39m.\u001b[39;49mvalues(),\n\u001b[0;32m   1672\u001b[0m             timeout\u001b[39m=\u001b[39;49m\u001b[39mself\u001b[39;49m\u001b[39m.\u001b[39;49mstep_timeout,\n\u001b[0;32m   1673\u001b[0m             retry_policy\u001b[39m=\u001b[39;49m\u001b[39mself\u001b[39;49m\u001b[39m.\u001b[39;49mretry_policy,\n\u001b[0;32m   1674\u001b[0m             get_waiter\u001b[39m=\u001b[39;49mget_waiter,\n\u001b[0;32m   1675\u001b[0m         ):\n\u001b[0;32m   1676\u001b[0m             \u001b[39m# emit output\u001b[39;49;00m\n\u001b[0;32m   1677\u001b[0m             \u001b[39myield from\u001b[39;49;00m output()\n\u001b[0;32m   1678\u001b[0m \u001b[39m# emit output\u001b[39;00m\n",
      "File \u001b[1;32md:\\ExtraAcads\\DS & AI\\github\\serene-solace-sakha\\sakha-env\\Lib\\site-packages\\langgraph\\pregel\\runner.py:231\u001b[0m, in \u001b[0;36mPregelRunner.tick\u001b[1;34m(self, tasks, reraise, timeout, retry_policy, get_waiter)\u001b[0m\n\u001b[0;32m    229\u001b[0m t \u001b[39m=\u001b[39m tasks[\u001b[39m0\u001b[39m]\n\u001b[0;32m    230\u001b[0m \u001b[39mtry\u001b[39;00m:\n\u001b[1;32m--> 231\u001b[0m     run_with_retry(\n\u001b[0;32m    232\u001b[0m         t,\n\u001b[0;32m    233\u001b[0m         retry_policy,\n\u001b[0;32m    234\u001b[0m         configurable\u001b[39m=\u001b[39;49m{\n\u001b[0;32m    235\u001b[0m             CONFIG_KEY_SEND: partial(writer, t),\n\u001b[0;32m    236\u001b[0m             CONFIG_KEY_CALL: partial(call, t),\n\u001b[0;32m    237\u001b[0m         },\n\u001b[0;32m    238\u001b[0m     )\n\u001b[0;32m    239\u001b[0m     \u001b[39mself\u001b[39m\u001b[39m.\u001b[39mcommit(t, \u001b[39mNone\u001b[39;00m)\n\u001b[0;32m    240\u001b[0m \u001b[39mexcept\u001b[39;00m \u001b[39mException\u001b[39;00m \u001b[39mas\u001b[39;00m exc:\n",
      "File \u001b[1;32md:\\ExtraAcads\\DS & AI\\github\\serene-solace-sakha\\sakha-env\\Lib\\site-packages\\langgraph\\pregel\\retry.py:40\u001b[0m, in \u001b[0;36mrun_with_retry\u001b[1;34m(task, retry_policy, configurable)\u001b[0m\n\u001b[0;32m     38\u001b[0m     task\u001b[39m.\u001b[39mwrites\u001b[39m.\u001b[39mclear()\n\u001b[0;32m     39\u001b[0m     \u001b[39m# run the task\u001b[39;00m\n\u001b[1;32m---> 40\u001b[0m     \u001b[39mreturn\u001b[39;00m task\u001b[39m.\u001b[39;49mproc\u001b[39m.\u001b[39;49minvoke(task\u001b[39m.\u001b[39;49minput, config)\n\u001b[0;32m     41\u001b[0m \u001b[39mexcept\u001b[39;00m ParentCommand \u001b[39mas\u001b[39;00m exc:\n\u001b[0;32m     42\u001b[0m     ns: \u001b[39mstr\u001b[39m \u001b[39m=\u001b[39m config[CONF][CONFIG_KEY_CHECKPOINT_NS]\n",
      "File \u001b[1;32md:\\ExtraAcads\\DS & AI\\github\\serene-solace-sakha\\sakha-env\\Lib\\site-packages\\langgraph\\utils\\runnable.py:462\u001b[0m, in \u001b[0;36mRunnableSeq.invoke\u001b[1;34m(self, input, config, **kwargs)\u001b[0m\n\u001b[0;32m    458\u001b[0m config \u001b[39m=\u001b[39m patch_config(\n\u001b[0;32m    459\u001b[0m     config, callbacks\u001b[39m=\u001b[39mrun_manager\u001b[39m.\u001b[39mget_child(\u001b[39mf\u001b[39m\u001b[39m\"\u001b[39m\u001b[39mseq:step:\u001b[39m\u001b[39m{\u001b[39;00mi\u001b[39m \u001b[39m\u001b[39m+\u001b[39m\u001b[39m \u001b[39m\u001b[39m1\u001b[39m\u001b[39m}\u001b[39;00m\u001b[39m\"\u001b[39m)\n\u001b[0;32m    460\u001b[0m )\n\u001b[0;32m    461\u001b[0m \u001b[39mif\u001b[39;00m i \u001b[39m==\u001b[39m \u001b[39m0\u001b[39m:\n\u001b[1;32m--> 462\u001b[0m     \u001b[39minput\u001b[39m \u001b[39m=\u001b[39m step\u001b[39m.\u001b[39;49minvoke(\u001b[39minput\u001b[39;49m, config, \u001b[39m*\u001b[39;49m\u001b[39m*\u001b[39;49mkwargs)\n\u001b[0;32m    463\u001b[0m \u001b[39melse\u001b[39;00m:\n\u001b[0;32m    464\u001b[0m     \u001b[39minput\u001b[39m \u001b[39m=\u001b[39m step\u001b[39m.\u001b[39minvoke(\u001b[39minput\u001b[39m, config)\n",
      "File \u001b[1;32md:\\ExtraAcads\\DS & AI\\github\\serene-solace-sakha\\sakha-env\\Lib\\site-packages\\langgraph\\utils\\runnable.py:226\u001b[0m, in \u001b[0;36mRunnableCallable.invoke\u001b[1;34m(self, input, config, **kwargs)\u001b[0m\n\u001b[0;32m    224\u001b[0m \u001b[39melse\u001b[39;00m:\n\u001b[0;32m    225\u001b[0m     context\u001b[39m.\u001b[39mrun(_set_config_context, config)\n\u001b[1;32m--> 226\u001b[0m     ret \u001b[39m=\u001b[39m context\u001b[39m.\u001b[39;49mrun(\u001b[39mself\u001b[39;49m\u001b[39m.\u001b[39;49mfunc, \u001b[39m*\u001b[39;49margs, \u001b[39m*\u001b[39;49m\u001b[39m*\u001b[39;49mkwargs)\n\u001b[0;32m    227\u001b[0m \u001b[39mif\u001b[39;00m \u001b[39misinstance\u001b[39m(ret, Runnable) \u001b[39mand\u001b[39;00m \u001b[39mself\u001b[39m\u001b[39m.\u001b[39mrecurse:\n\u001b[0;32m    228\u001b[0m     \u001b[39mreturn\u001b[39;00m ret\u001b[39m.\u001b[39minvoke(\u001b[39minput\u001b[39m, config)\n",
      "Cell \u001b[1;32mIn[50], line 26\u001b[0m, in \u001b[0;36mset_activity_reminder\u001b[1;34m(chat_state)\u001b[0m\n\u001b[0;32m     12\u001b[0m reminder_config_extraction \u001b[39m=\u001b[39m \u001b[39mf\u001b[39m\u001b[39m'''\u001b[39m\u001b[39m \u001b[39m\n\u001b[0;32m     13\u001b[0m \u001b[39mTask: Extract the reminder configuration based on the activity and the time it was decided during the conversation.\u001b[39m\n\u001b[0;32m     14\u001b[0m \n\u001b[1;32m   (...)\u001b[0m\n\u001b[0;32m     21\u001b[0m \u001b[39m\u001b[39m\n\u001b[0;32m     22\u001b[0m \u001b[39m\u001b[39m\u001b[39m'''\u001b[39m\n\u001b[0;32m     24\u001b[0m reminder_config_extraction_response \u001b[39m=\u001b[39m llm_reminder_config\u001b[39m.\u001b[39minvoke(reminder_config_extraction)\n\u001b[1;32m---> 26\u001b[0m \u001b[39mprint\u001b[39m(\u001b[39mf\u001b[39m\u001b[39m\"\u001b[39m\u001b[39m<==== Setting reminder for \u001b[39m\u001b[39m{\u001b[39;00mreminder_config_extraction_response\u001b[39m.\u001b[39;49mget(\u001b[39m\"\u001b[39m\u001b[39mactivity\u001b[39m\u001b[39m\"\u001b[39m,\u001b[39m\"\u001b[39m\u001b[39mNone\u001b[39m\u001b[39m\"\u001b[39m)\u001b[39m}\u001b[39;00m\u001b[39m at \u001b[39m\u001b[39m{\u001b[39;00mreminder_config_extraction_response\u001b[39m.\u001b[39mget(\u001b[39m\"\u001b[39m\u001b[39mtime\u001b[39m\u001b[39m\"\u001b[39m,\u001b[39mNone\u001b[39;00m)\u001b[39m}\u001b[39;00m\u001b[39m\"\u001b[39m)\n",
      "File \u001b[1;32md:\\ExtraAcads\\DS & AI\\github\\serene-solace-sakha\\sakha-env\\Lib\\site-packages\\pydantic\\main.py:891\u001b[0m, in \u001b[0;36mBaseModel.__getattr__\u001b[1;34m(self, item)\u001b[0m\n\u001b[0;32m    888\u001b[0m     \u001b[39mreturn\u001b[39;00m \u001b[39msuper\u001b[39m()\u001b[39m.\u001b[39m\u001b[39m__getattribute__\u001b[39m(item)  \u001b[39m# Raises AttributeError if appropriate\u001b[39;00m\n\u001b[0;32m    889\u001b[0m \u001b[39melse\u001b[39;00m:\n\u001b[0;32m    890\u001b[0m     \u001b[39m# this is the current error\u001b[39;00m\n\u001b[1;32m--> 891\u001b[0m     \u001b[39mraise\u001b[39;00m \u001b[39mAttributeError\u001b[39;00m(\u001b[39mf\u001b[39m\u001b[39m'\u001b[39m\u001b[39m{\u001b[39;00m\u001b[39mtype\u001b[39m(\u001b[39mself\u001b[39m)\u001b[39m.\u001b[39m\u001b[39m__name__\u001b[39m\u001b[39m!r}\u001b[39;00m\u001b[39m object has no attribute \u001b[39m\u001b[39m{\u001b[39;00mitem\u001b[39m!r}\u001b[39;00m\u001b[39m'\u001b[39m)\n",
      "\u001b[1;31mAttributeError\u001b[0m: 'ActivityReminderConfig' object has no attribute 'get'",
      "\u001b[0mDuring task with name 'setReminder' and id '101ea609-bdd5-0dc9-48a7-c2da6a4aba96'"
     ]
    }
   ],
   "source": [
    "user_input = \"meditation sounds good, i'll sleep right after it\"\n",
    "events = bot_state_graph.invoke({\"user_input\": user_input}, config)"
   ]
  },
  {
   "cell_type": "code",
   "execution_count": 64,
   "metadata": {},
   "outputs": [
    {
     "name": "stdout",
     "output_type": "stream",
     "text": [
      "=====> supervisor Decision: pickedRoute='set_reminder' reason='The user has agreed to a mood improvement activity (jogging) and has now requested a reminder for 1 hour later, which aligns with the set_reminder route.' <=====\n",
      "Setting reminder for {'exchange': 4, 'conversation_history': [HumanMessage(content='hi', additional_kwargs={}, response_metadata={}), AIMessage(content=\"Hello. I'm Frienn, your virtual companion. I'm here to listen and help brighten your day. I can suggest fun activities, chat with you, or just be a friendly ear. How are you feeling today?\", additional_kwargs={}, response_metadata={}), HumanMessage(content=\"i'm overwhelmed with my work\", additional_kwargs={}, response_metadata={}), AIMessage(content='That can be really tough. Would you like to take a short break and do something to clear your mind? Maybe some meditation or a short jog outside?', additional_kwargs={}, response_metadata={}), HumanMessage(content='sure lets do some thing', additional_kwargs={}, response_metadata={}), AIMessage(content='How about we start with a short 10-minute meditation session? It can help calm your mind and reduce stress. Would you like that?', additional_kwargs={}, response_metadata={}), HumanMessage(content='lets do jogging instead', additional_kwargs={}, response_metadata={}), AIMessage(content=\"Let's get you moving. Put on your shoes and let's go for a 20-minute jog. I'll be here when you get back to see how you're feeling. Have fun!\", additional_kwargs={}, response_metadata={})], 'preferred_activities': ['jogging', 'movies', 'meditation'], 'user_input': 'not now, set a reminder for 1 hour later', 'supervisor_response': SupervisorResponse(pickedRoute='set_reminder', reason='The user has agreed to a mood improvement activity (jogging) and has now requested a reminder for 1 hour later, which aligns with the set_reminder route.')} at default_time\n",
      "You:  not now, set a reminder for 1 hour later\n",
      "chat_prompt_msgs:[SystemMessage(content='You are Frienn, a kind and empathetic virtual companion designed by Friennly, designed to suggest activities to improve users mood and follow up on the activities.\\n\\n    Behavior Guidelines:\\n\\n    Be empathetic, respectful, and friendly.\\n    Respond with brief, short and clear sentences.\\n    If the user is felling low offering thoughtful suggestions or encouragement if not just chat like a friend\\n    Never provide medical, legal, or financial advice.\\n\\n    ', additional_kwargs={}, response_metadata={}), SystemMessage(content=\"Activities preferred by user: ['jogging', 'movies', 'meditation']\", additional_kwargs={}, response_metadata={}), SystemMessage(content='current time: 2025-02-01 15:03:32', additional_kwargs={}, response_metadata={}), SystemMessage(content=\"Conversation Hoistory:<conversation_history>human: hi\\nassistant: Hello. I'm Frienn, your virtual companion. I'm here to listen and help brighten your day. I can suggest fun activities, chat with you, or just be a friendly ear. How are you feeling today?\\nhuman: i'm overwhelmed with my work\\nassistant: That can be really tough. Would you like to take a short break and do something to clear your mind? Maybe some meditation or a short jog outside?\\nhuman: sure lets do some thing\\nassistant: How about we start with a short 10-minute meditation session? It can help calm your mind and reduce stress. Would you like that?\\nhuman: lets do jogging instead\\nassistant: Let's get you moving. Put on your shoes and let's go for a 20-minute jog. I'll be here when you get back to see how you're feeling. Have fun!</conversation_history>\", additional_kwargs={}, response_metadata={}), HumanMessage(content='not now, set a reminder for 1 hour later', additional_kwargs={}, response_metadata={})]\n",
      "Frienn:  I've set a reminder for 1 hour from now, at 16:03. We can go for a jog then. Feel like watching a movie or chatting until then?\n"
     ]
    }
   ],
   "source": [
    "user_input = \"not now, set a reminder for 1 hour later\"\n",
    "events = bot_state_graph.invoke({\"user_input\": user_input}, config)"
   ]
  },
  {
   "cell_type": "code",
   "execution_count": null,
   "metadata": {},
   "outputs": [],
   "source": []
  },
  {
   "cell_type": "code",
   "execution_count": null,
   "metadata": {},
   "outputs": [],
   "source": []
  },
  {
   "cell_type": "code",
   "execution_count": null,
   "metadata": {},
   "outputs": [],
   "source": []
  },
  {
   "cell_type": "code",
   "execution_count": null,
   "metadata": {},
   "outputs": [],
   "source": []
  }
 ],
 "metadata": {
  "kernelspec": {
   "display_name": "sakha-env",
   "language": "python",
   "name": "python3"
  },
  "language_info": {
   "codemirror_mode": {
    "name": "ipython",
    "version": 3
   },
   "file_extension": ".py",
   "mimetype": "text/x-python",
   "name": "python",
   "nbconvert_exporter": "python",
   "pygments_lexer": "ipython3",
   "version": "3.12.8"
  },
  "orig_nbformat": 4,
  "vscode": {
   "interpreter": {
    "hash": "fe92ede66fbacaed253741073118c00559929976131b08e482b9b1b80c47130c"
   }
  }
 },
 "nbformat": 4,
 "nbformat_minor": 2
}
